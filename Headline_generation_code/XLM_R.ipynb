{
  "nbformat": 4,
  "nbformat_minor": 0,
  "metadata": {
    "colab": {
      "name": "XLM-R.ipynb",
      "provenance": [],
      "collapsed_sections": [],
      "toc_visible": true,
      "machine_shape": "hm"
    },
    "kernelspec": {
      "name": "python3",
      "display_name": "Python 3"
    },
    "accelerator": "GPU",
    "widgets": {
      "application/vnd.jupyter.widget-state+json": {
        "2281bc2169904ab5bce03b34eb219101": {
          "model_module": "@jupyter-widgets/controls",
          "model_name": "HBoxModel",
          "state": {
            "_view_name": "HBoxView",
            "_dom_classes": [],
            "_model_name": "HBoxModel",
            "_view_module": "@jupyter-widgets/controls",
            "_model_module_version": "1.5.0",
            "_view_count": null,
            "_view_module_version": "1.5.0",
            "box_style": "",
            "layout": "IPY_MODEL_0faf3bcf4c21473f9a3011f5ceabde74",
            "_model_module": "@jupyter-widgets/controls",
            "children": [
              "IPY_MODEL_00640911982b45fe911acd7fec4e57a2",
              "IPY_MODEL_a000bb7e5475440e840bd7fb1cc514e2"
            ]
          }
        },
        "0faf3bcf4c21473f9a3011f5ceabde74": {
          "model_module": "@jupyter-widgets/base",
          "model_name": "LayoutModel",
          "state": {
            "_view_name": "LayoutView",
            "grid_template_rows": null,
            "right": null,
            "justify_content": null,
            "_view_module": "@jupyter-widgets/base",
            "overflow": null,
            "_model_module_version": "1.2.0",
            "_view_count": null,
            "flex_flow": null,
            "width": null,
            "min_width": null,
            "border": null,
            "align_items": null,
            "bottom": null,
            "_model_module": "@jupyter-widgets/base",
            "top": null,
            "grid_column": null,
            "overflow_y": null,
            "overflow_x": null,
            "grid_auto_flow": null,
            "grid_area": null,
            "grid_template_columns": null,
            "flex": null,
            "_model_name": "LayoutModel",
            "justify_items": null,
            "grid_row": null,
            "max_height": null,
            "align_content": null,
            "visibility": null,
            "align_self": null,
            "height": null,
            "min_height": null,
            "padding": null,
            "grid_auto_rows": null,
            "grid_gap": null,
            "max_width": null,
            "order": null,
            "_view_module_version": "1.2.0",
            "grid_template_areas": null,
            "object_position": null,
            "object_fit": null,
            "grid_auto_columns": null,
            "margin": null,
            "display": null,
            "left": null
          }
        },
        "00640911982b45fe911acd7fec4e57a2": {
          "model_module": "@jupyter-widgets/controls",
          "model_name": "FloatProgressModel",
          "state": {
            "_view_name": "ProgressView",
            "style": "IPY_MODEL_2b23ad497725459eac9f09c13c560745",
            "_dom_classes": [],
            "description": "Downloading: 100%",
            "_model_name": "FloatProgressModel",
            "bar_style": "success",
            "max": 5069051,
            "_view_module": "@jupyter-widgets/controls",
            "_model_module_version": "1.5.0",
            "value": 5069051,
            "_view_count": null,
            "_view_module_version": "1.5.0",
            "orientation": "horizontal",
            "min": 0,
            "description_tooltip": null,
            "_model_module": "@jupyter-widgets/controls",
            "layout": "IPY_MODEL_a171843c96fc4822bb5808ed444ff6c6"
          }
        },
        "a000bb7e5475440e840bd7fb1cc514e2": {
          "model_module": "@jupyter-widgets/controls",
          "model_name": "HTMLModel",
          "state": {
            "_view_name": "HTMLView",
            "style": "IPY_MODEL_5f40307971d44828a62239a2c1cf3745",
            "_dom_classes": [],
            "description": "",
            "_model_name": "HTMLModel",
            "placeholder": "​",
            "_view_module": "@jupyter-widgets/controls",
            "_model_module_version": "1.5.0",
            "value": " 5.07M/5.07M [00:02&lt;00:00, 2.33MB/s]",
            "_view_count": null,
            "_view_module_version": "1.5.0",
            "description_tooltip": null,
            "_model_module": "@jupyter-widgets/controls",
            "layout": "IPY_MODEL_06d2e1633bdc40fcb5f3fd6c3065ebf9"
          }
        },
        "2b23ad497725459eac9f09c13c560745": {
          "model_module": "@jupyter-widgets/controls",
          "model_name": "ProgressStyleModel",
          "state": {
            "_view_name": "StyleView",
            "_model_name": "ProgressStyleModel",
            "description_width": "initial",
            "_view_module": "@jupyter-widgets/base",
            "_model_module_version": "1.5.0",
            "_view_count": null,
            "_view_module_version": "1.2.0",
            "bar_color": null,
            "_model_module": "@jupyter-widgets/controls"
          }
        },
        "a171843c96fc4822bb5808ed444ff6c6": {
          "model_module": "@jupyter-widgets/base",
          "model_name": "LayoutModel",
          "state": {
            "_view_name": "LayoutView",
            "grid_template_rows": null,
            "right": null,
            "justify_content": null,
            "_view_module": "@jupyter-widgets/base",
            "overflow": null,
            "_model_module_version": "1.2.0",
            "_view_count": null,
            "flex_flow": null,
            "width": null,
            "min_width": null,
            "border": null,
            "align_items": null,
            "bottom": null,
            "_model_module": "@jupyter-widgets/base",
            "top": null,
            "grid_column": null,
            "overflow_y": null,
            "overflow_x": null,
            "grid_auto_flow": null,
            "grid_area": null,
            "grid_template_columns": null,
            "flex": null,
            "_model_name": "LayoutModel",
            "justify_items": null,
            "grid_row": null,
            "max_height": null,
            "align_content": null,
            "visibility": null,
            "align_self": null,
            "height": null,
            "min_height": null,
            "padding": null,
            "grid_auto_rows": null,
            "grid_gap": null,
            "max_width": null,
            "order": null,
            "_view_module_version": "1.2.0",
            "grid_template_areas": null,
            "object_position": null,
            "object_fit": null,
            "grid_auto_columns": null,
            "margin": null,
            "display": null,
            "left": null
          }
        },
        "5f40307971d44828a62239a2c1cf3745": {
          "model_module": "@jupyter-widgets/controls",
          "model_name": "DescriptionStyleModel",
          "state": {
            "_view_name": "StyleView",
            "_model_name": "DescriptionStyleModel",
            "description_width": "",
            "_view_module": "@jupyter-widgets/base",
            "_model_module_version": "1.5.0",
            "_view_count": null,
            "_view_module_version": "1.2.0",
            "_model_module": "@jupyter-widgets/controls"
          }
        },
        "06d2e1633bdc40fcb5f3fd6c3065ebf9": {
          "model_module": "@jupyter-widgets/base",
          "model_name": "LayoutModel",
          "state": {
            "_view_name": "LayoutView",
            "grid_template_rows": null,
            "right": null,
            "justify_content": null,
            "_view_module": "@jupyter-widgets/base",
            "overflow": null,
            "_model_module_version": "1.2.0",
            "_view_count": null,
            "flex_flow": null,
            "width": null,
            "min_width": null,
            "border": null,
            "align_items": null,
            "bottom": null,
            "_model_module": "@jupyter-widgets/base",
            "top": null,
            "grid_column": null,
            "overflow_y": null,
            "overflow_x": null,
            "grid_auto_flow": null,
            "grid_area": null,
            "grid_template_columns": null,
            "flex": null,
            "_model_name": "LayoutModel",
            "justify_items": null,
            "grid_row": null,
            "max_height": null,
            "align_content": null,
            "visibility": null,
            "align_self": null,
            "height": null,
            "min_height": null,
            "padding": null,
            "grid_auto_rows": null,
            "grid_gap": null,
            "max_width": null,
            "order": null,
            "_view_module_version": "1.2.0",
            "grid_template_areas": null,
            "object_position": null,
            "object_fit": null,
            "grid_auto_columns": null,
            "margin": null,
            "display": null,
            "left": null
          }
        },
        "3df57484fbfe44c39377bc61f977e85d": {
          "model_module": "@jupyter-widgets/controls",
          "model_name": "HBoxModel",
          "state": {
            "_view_name": "HBoxView",
            "_dom_classes": [],
            "_model_name": "HBoxModel",
            "_view_module": "@jupyter-widgets/controls",
            "_model_module_version": "1.5.0",
            "_view_count": null,
            "_view_module_version": "1.5.0",
            "box_style": "",
            "layout": "IPY_MODEL_2b47e73addfc45828d80d3b2348e1418",
            "_model_module": "@jupyter-widgets/controls",
            "children": [
              "IPY_MODEL_4f06f807d0104f669481cf78d20be9e1",
              "IPY_MODEL_3580dda8c720422a8594771975c86fa8"
            ]
          }
        },
        "2b47e73addfc45828d80d3b2348e1418": {
          "model_module": "@jupyter-widgets/base",
          "model_name": "LayoutModel",
          "state": {
            "_view_name": "LayoutView",
            "grid_template_rows": null,
            "right": null,
            "justify_content": null,
            "_view_module": "@jupyter-widgets/base",
            "overflow": null,
            "_model_module_version": "1.2.0",
            "_view_count": null,
            "flex_flow": null,
            "width": null,
            "min_width": null,
            "border": null,
            "align_items": null,
            "bottom": null,
            "_model_module": "@jupyter-widgets/base",
            "top": null,
            "grid_column": null,
            "overflow_y": null,
            "overflow_x": null,
            "grid_auto_flow": null,
            "grid_area": null,
            "grid_template_columns": null,
            "flex": null,
            "_model_name": "LayoutModel",
            "justify_items": null,
            "grid_row": null,
            "max_height": null,
            "align_content": null,
            "visibility": null,
            "align_self": null,
            "height": null,
            "min_height": null,
            "padding": null,
            "grid_auto_rows": null,
            "grid_gap": null,
            "max_width": null,
            "order": null,
            "_view_module_version": "1.2.0",
            "grid_template_areas": null,
            "object_position": null,
            "object_fit": null,
            "grid_auto_columns": null,
            "margin": null,
            "display": null,
            "left": null
          }
        },
        "4f06f807d0104f669481cf78d20be9e1": {
          "model_module": "@jupyter-widgets/controls",
          "model_name": "FloatProgressModel",
          "state": {
            "_view_name": "ProgressView",
            "style": "IPY_MODEL_2023d111a19a46e6b878d72b90cf2384",
            "_dom_classes": [],
            "description": "Downloading: 100%",
            "_model_name": "FloatProgressModel",
            "bar_style": "success",
            "max": 9096718,
            "_view_module": "@jupyter-widgets/controls",
            "_model_module_version": "1.5.0",
            "value": 9096718,
            "_view_count": null,
            "_view_module_version": "1.5.0",
            "orientation": "horizontal",
            "min": 0,
            "description_tooltip": null,
            "_model_module": "@jupyter-widgets/controls",
            "layout": "IPY_MODEL_def8a66b7d724914a890ae9d4220676c"
          }
        },
        "3580dda8c720422a8594771975c86fa8": {
          "model_module": "@jupyter-widgets/controls",
          "model_name": "HTMLModel",
          "state": {
            "_view_name": "HTMLView",
            "style": "IPY_MODEL_089bfafeeaa34725b620b993069cab3c",
            "_dom_classes": [],
            "description": "",
            "_model_name": "HTMLModel",
            "placeholder": "​",
            "_view_module": "@jupyter-widgets/controls",
            "_model_module_version": "1.5.0",
            "value": " 9.10M/9.10M [00:09&lt;00:00, 936kB/s]",
            "_view_count": null,
            "_view_module_version": "1.5.0",
            "description_tooltip": null,
            "_model_module": "@jupyter-widgets/controls",
            "layout": "IPY_MODEL_63ebda4e4b294a2d9cd23bff7bf310d0"
          }
        },
        "2023d111a19a46e6b878d72b90cf2384": {
          "model_module": "@jupyter-widgets/controls",
          "model_name": "ProgressStyleModel",
          "state": {
            "_view_name": "StyleView",
            "_model_name": "ProgressStyleModel",
            "description_width": "initial",
            "_view_module": "@jupyter-widgets/base",
            "_model_module_version": "1.5.0",
            "_view_count": null,
            "_view_module_version": "1.2.0",
            "bar_color": null,
            "_model_module": "@jupyter-widgets/controls"
          }
        },
        "def8a66b7d724914a890ae9d4220676c": {
          "model_module": "@jupyter-widgets/base",
          "model_name": "LayoutModel",
          "state": {
            "_view_name": "LayoutView",
            "grid_template_rows": null,
            "right": null,
            "justify_content": null,
            "_view_module": "@jupyter-widgets/base",
            "overflow": null,
            "_model_module_version": "1.2.0",
            "_view_count": null,
            "flex_flow": null,
            "width": null,
            "min_width": null,
            "border": null,
            "align_items": null,
            "bottom": null,
            "_model_module": "@jupyter-widgets/base",
            "top": null,
            "grid_column": null,
            "overflow_y": null,
            "overflow_x": null,
            "grid_auto_flow": null,
            "grid_area": null,
            "grid_template_columns": null,
            "flex": null,
            "_model_name": "LayoutModel",
            "justify_items": null,
            "grid_row": null,
            "max_height": null,
            "align_content": null,
            "visibility": null,
            "align_self": null,
            "height": null,
            "min_height": null,
            "padding": null,
            "grid_auto_rows": null,
            "grid_gap": null,
            "max_width": null,
            "order": null,
            "_view_module_version": "1.2.0",
            "grid_template_areas": null,
            "object_position": null,
            "object_fit": null,
            "grid_auto_columns": null,
            "margin": null,
            "display": null,
            "left": null
          }
        },
        "089bfafeeaa34725b620b993069cab3c": {
          "model_module": "@jupyter-widgets/controls",
          "model_name": "DescriptionStyleModel",
          "state": {
            "_view_name": "StyleView",
            "_model_name": "DescriptionStyleModel",
            "description_width": "",
            "_view_module": "@jupyter-widgets/base",
            "_model_module_version": "1.5.0",
            "_view_count": null,
            "_view_module_version": "1.2.0",
            "_model_module": "@jupyter-widgets/controls"
          }
        },
        "63ebda4e4b294a2d9cd23bff7bf310d0": {
          "model_module": "@jupyter-widgets/base",
          "model_name": "LayoutModel",
          "state": {
            "_view_name": "LayoutView",
            "grid_template_rows": null,
            "right": null,
            "justify_content": null,
            "_view_module": "@jupyter-widgets/base",
            "overflow": null,
            "_model_module_version": "1.2.0",
            "_view_count": null,
            "flex_flow": null,
            "width": null,
            "min_width": null,
            "border": null,
            "align_items": null,
            "bottom": null,
            "_model_module": "@jupyter-widgets/base",
            "top": null,
            "grid_column": null,
            "overflow_y": null,
            "overflow_x": null,
            "grid_auto_flow": null,
            "grid_area": null,
            "grid_template_columns": null,
            "flex": null,
            "_model_name": "LayoutModel",
            "justify_items": null,
            "grid_row": null,
            "max_height": null,
            "align_content": null,
            "visibility": null,
            "align_self": null,
            "height": null,
            "min_height": null,
            "padding": null,
            "grid_auto_rows": null,
            "grid_gap": null,
            "max_width": null,
            "order": null,
            "_view_module_version": "1.2.0",
            "grid_template_areas": null,
            "object_position": null,
            "object_fit": null,
            "grid_auto_columns": null,
            "margin": null,
            "display": null,
            "left": null
          }
        },
        "3b568fd473fa4f859c8baa1e49a17d2d": {
          "model_module": "@jupyter-widgets/controls",
          "model_name": "HBoxModel",
          "state": {
            "_view_name": "HBoxView",
            "_dom_classes": [],
            "_model_name": "HBoxModel",
            "_view_module": "@jupyter-widgets/controls",
            "_model_module_version": "1.5.0",
            "_view_count": null,
            "_view_module_version": "1.5.0",
            "box_style": "",
            "layout": "IPY_MODEL_93acf4b983984bc2b5574d13f1edfdcb",
            "_model_module": "@jupyter-widgets/controls",
            "children": [
              "IPY_MODEL_d249fb967fed4eff975017aa20e97a3f",
              "IPY_MODEL_a82489e91652410489c42f15e6779a31"
            ]
          }
        },
        "93acf4b983984bc2b5574d13f1edfdcb": {
          "model_module": "@jupyter-widgets/base",
          "model_name": "LayoutModel",
          "state": {
            "_view_name": "LayoutView",
            "grid_template_rows": null,
            "right": null,
            "justify_content": null,
            "_view_module": "@jupyter-widgets/base",
            "overflow": null,
            "_model_module_version": "1.2.0",
            "_view_count": null,
            "flex_flow": null,
            "width": null,
            "min_width": null,
            "border": null,
            "align_items": null,
            "bottom": null,
            "_model_module": "@jupyter-widgets/base",
            "top": null,
            "grid_column": null,
            "overflow_y": null,
            "overflow_x": null,
            "grid_auto_flow": null,
            "grid_area": null,
            "grid_template_columns": null,
            "flex": null,
            "_model_name": "LayoutModel",
            "justify_items": null,
            "grid_row": null,
            "max_height": null,
            "align_content": null,
            "visibility": null,
            "align_self": null,
            "height": null,
            "min_height": null,
            "padding": null,
            "grid_auto_rows": null,
            "grid_gap": null,
            "max_width": null,
            "order": null,
            "_view_module_version": "1.2.0",
            "grid_template_areas": null,
            "object_position": null,
            "object_fit": null,
            "grid_auto_columns": null,
            "margin": null,
            "display": null,
            "left": null
          }
        },
        "d249fb967fed4eff975017aa20e97a3f": {
          "model_module": "@jupyter-widgets/controls",
          "model_name": "FloatProgressModel",
          "state": {
            "_view_name": "ProgressView",
            "style": "IPY_MODEL_75e8c15f03d14b568035ceeb922be19b",
            "_dom_classes": [],
            "description": "Downloading: 100%",
            "_model_name": "FloatProgressModel",
            "bar_style": "success",
            "max": 5069051,
            "_view_module": "@jupyter-widgets/controls",
            "_model_module_version": "1.5.0",
            "value": 5069051,
            "_view_count": null,
            "_view_module_version": "1.5.0",
            "orientation": "horizontal",
            "min": 0,
            "description_tooltip": null,
            "_model_module": "@jupyter-widgets/controls",
            "layout": "IPY_MODEL_06a13c9bc50340e79b99e9ad46d71f3c"
          }
        },
        "a82489e91652410489c42f15e6779a31": {
          "model_module": "@jupyter-widgets/controls",
          "model_name": "HTMLModel",
          "state": {
            "_view_name": "HTMLView",
            "style": "IPY_MODEL_9b41884b3bae40d39b62e17940814dc1",
            "_dom_classes": [],
            "description": "",
            "_model_name": "HTMLModel",
            "placeholder": "​",
            "_view_module": "@jupyter-widgets/controls",
            "_model_module_version": "1.5.0",
            "value": " 5.07M/5.07M [00:01&lt;00:00, 4.24MB/s]",
            "_view_count": null,
            "_view_module_version": "1.5.0",
            "description_tooltip": null,
            "_model_module": "@jupyter-widgets/controls",
            "layout": "IPY_MODEL_d06bc082c7614db1be5c837a144563cd"
          }
        },
        "75e8c15f03d14b568035ceeb922be19b": {
          "model_module": "@jupyter-widgets/controls",
          "model_name": "ProgressStyleModel",
          "state": {
            "_view_name": "StyleView",
            "_model_name": "ProgressStyleModel",
            "description_width": "initial",
            "_view_module": "@jupyter-widgets/base",
            "_model_module_version": "1.5.0",
            "_view_count": null,
            "_view_module_version": "1.2.0",
            "bar_color": null,
            "_model_module": "@jupyter-widgets/controls"
          }
        },
        "06a13c9bc50340e79b99e9ad46d71f3c": {
          "model_module": "@jupyter-widgets/base",
          "model_name": "LayoutModel",
          "state": {
            "_view_name": "LayoutView",
            "grid_template_rows": null,
            "right": null,
            "justify_content": null,
            "_view_module": "@jupyter-widgets/base",
            "overflow": null,
            "_model_module_version": "1.2.0",
            "_view_count": null,
            "flex_flow": null,
            "width": null,
            "min_width": null,
            "border": null,
            "align_items": null,
            "bottom": null,
            "_model_module": "@jupyter-widgets/base",
            "top": null,
            "grid_column": null,
            "overflow_y": null,
            "overflow_x": null,
            "grid_auto_flow": null,
            "grid_area": null,
            "grid_template_columns": null,
            "flex": null,
            "_model_name": "LayoutModel",
            "justify_items": null,
            "grid_row": null,
            "max_height": null,
            "align_content": null,
            "visibility": null,
            "align_self": null,
            "height": null,
            "min_height": null,
            "padding": null,
            "grid_auto_rows": null,
            "grid_gap": null,
            "max_width": null,
            "order": null,
            "_view_module_version": "1.2.0",
            "grid_template_areas": null,
            "object_position": null,
            "object_fit": null,
            "grid_auto_columns": null,
            "margin": null,
            "display": null,
            "left": null
          }
        },
        "9b41884b3bae40d39b62e17940814dc1": {
          "model_module": "@jupyter-widgets/controls",
          "model_name": "DescriptionStyleModel",
          "state": {
            "_view_name": "StyleView",
            "_model_name": "DescriptionStyleModel",
            "description_width": "",
            "_view_module": "@jupyter-widgets/base",
            "_model_module_version": "1.5.0",
            "_view_count": null,
            "_view_module_version": "1.2.0",
            "_model_module": "@jupyter-widgets/controls"
          }
        },
        "d06bc082c7614db1be5c837a144563cd": {
          "model_module": "@jupyter-widgets/base",
          "model_name": "LayoutModel",
          "state": {
            "_view_name": "LayoutView",
            "grid_template_rows": null,
            "right": null,
            "justify_content": null,
            "_view_module": "@jupyter-widgets/base",
            "overflow": null,
            "_model_module_version": "1.2.0",
            "_view_count": null,
            "flex_flow": null,
            "width": null,
            "min_width": null,
            "border": null,
            "align_items": null,
            "bottom": null,
            "_model_module": "@jupyter-widgets/base",
            "top": null,
            "grid_column": null,
            "overflow_y": null,
            "overflow_x": null,
            "grid_auto_flow": null,
            "grid_area": null,
            "grid_template_columns": null,
            "flex": null,
            "_model_name": "LayoutModel",
            "justify_items": null,
            "grid_row": null,
            "max_height": null,
            "align_content": null,
            "visibility": null,
            "align_self": null,
            "height": null,
            "min_height": null,
            "padding": null,
            "grid_auto_rows": null,
            "grid_gap": null,
            "max_width": null,
            "order": null,
            "_view_module_version": "1.2.0",
            "grid_template_areas": null,
            "object_position": null,
            "object_fit": null,
            "grid_auto_columns": null,
            "margin": null,
            "display": null,
            "left": null
          }
        },
        "23e6b2b4888246af9fba7fc6779becf9": {
          "model_module": "@jupyter-widgets/controls",
          "model_name": "HBoxModel",
          "state": {
            "_view_name": "HBoxView",
            "_dom_classes": [],
            "_model_name": "HBoxModel",
            "_view_module": "@jupyter-widgets/controls",
            "_model_module_version": "1.5.0",
            "_view_count": null,
            "_view_module_version": "1.5.0",
            "box_style": "",
            "layout": "IPY_MODEL_acde1afabd3542bbb7b48f5e8ca9570c",
            "_model_module": "@jupyter-widgets/controls",
            "children": [
              "IPY_MODEL_d8e0f960cd5740be8fe83d0bab11cf0c",
              "IPY_MODEL_9dd0f497db78420aa6f9c5bd3aaa9097"
            ]
          }
        },
        "acde1afabd3542bbb7b48f5e8ca9570c": {
          "model_module": "@jupyter-widgets/base",
          "model_name": "LayoutModel",
          "state": {
            "_view_name": "LayoutView",
            "grid_template_rows": null,
            "right": null,
            "justify_content": null,
            "_view_module": "@jupyter-widgets/base",
            "overflow": null,
            "_model_module_version": "1.2.0",
            "_view_count": null,
            "flex_flow": null,
            "width": null,
            "min_width": null,
            "border": null,
            "align_items": null,
            "bottom": null,
            "_model_module": "@jupyter-widgets/base",
            "top": null,
            "grid_column": null,
            "overflow_y": null,
            "overflow_x": null,
            "grid_auto_flow": null,
            "grid_area": null,
            "grid_template_columns": null,
            "flex": null,
            "_model_name": "LayoutModel",
            "justify_items": null,
            "grid_row": null,
            "max_height": null,
            "align_content": null,
            "visibility": null,
            "align_self": null,
            "height": null,
            "min_height": null,
            "padding": null,
            "grid_auto_rows": null,
            "grid_gap": null,
            "max_width": null,
            "order": null,
            "_view_module_version": "1.2.0",
            "grid_template_areas": null,
            "object_position": null,
            "object_fit": null,
            "grid_auto_columns": null,
            "margin": null,
            "display": null,
            "left": null
          }
        },
        "d8e0f960cd5740be8fe83d0bab11cf0c": {
          "model_module": "@jupyter-widgets/controls",
          "model_name": "FloatProgressModel",
          "state": {
            "_view_name": "ProgressView",
            "style": "IPY_MODEL_8a5286f3ea62409199953e6c37470cdf",
            "_dom_classes": [],
            "description": "Downloading: 100%",
            "_model_name": "FloatProgressModel",
            "bar_style": "success",
            "max": 649,
            "_view_module": "@jupyter-widgets/controls",
            "_model_module_version": "1.5.0",
            "value": 649,
            "_view_count": null,
            "_view_module_version": "1.5.0",
            "orientation": "horizontal",
            "min": 0,
            "description_tooltip": null,
            "_model_module": "@jupyter-widgets/controls",
            "layout": "IPY_MODEL_9a9695ffedb5481b946959e5d02bc428"
          }
        },
        "9dd0f497db78420aa6f9c5bd3aaa9097": {
          "model_module": "@jupyter-widgets/controls",
          "model_name": "HTMLModel",
          "state": {
            "_view_name": "HTMLView",
            "style": "IPY_MODEL_a2ea3580342c4901be7b1505a00a91c4",
            "_dom_classes": [],
            "description": "",
            "_model_name": "HTMLModel",
            "placeholder": "​",
            "_view_module": "@jupyter-widgets/controls",
            "_model_module_version": "1.5.0",
            "value": " 649/649 [00:00&lt;00:00, 25.8kB/s]",
            "_view_count": null,
            "_view_module_version": "1.5.0",
            "description_tooltip": null,
            "_model_module": "@jupyter-widgets/controls",
            "layout": "IPY_MODEL_7423ec9879ce450997cab85551df8d8e"
          }
        },
        "8a5286f3ea62409199953e6c37470cdf": {
          "model_module": "@jupyter-widgets/controls",
          "model_name": "ProgressStyleModel",
          "state": {
            "_view_name": "StyleView",
            "_model_name": "ProgressStyleModel",
            "description_width": "initial",
            "_view_module": "@jupyter-widgets/base",
            "_model_module_version": "1.5.0",
            "_view_count": null,
            "_view_module_version": "1.2.0",
            "bar_color": null,
            "_model_module": "@jupyter-widgets/controls"
          }
        },
        "9a9695ffedb5481b946959e5d02bc428": {
          "model_module": "@jupyter-widgets/base",
          "model_name": "LayoutModel",
          "state": {
            "_view_name": "LayoutView",
            "grid_template_rows": null,
            "right": null,
            "justify_content": null,
            "_view_module": "@jupyter-widgets/base",
            "overflow": null,
            "_model_module_version": "1.2.0",
            "_view_count": null,
            "flex_flow": null,
            "width": null,
            "min_width": null,
            "border": null,
            "align_items": null,
            "bottom": null,
            "_model_module": "@jupyter-widgets/base",
            "top": null,
            "grid_column": null,
            "overflow_y": null,
            "overflow_x": null,
            "grid_auto_flow": null,
            "grid_area": null,
            "grid_template_columns": null,
            "flex": null,
            "_model_name": "LayoutModel",
            "justify_items": null,
            "grid_row": null,
            "max_height": null,
            "align_content": null,
            "visibility": null,
            "align_self": null,
            "height": null,
            "min_height": null,
            "padding": null,
            "grid_auto_rows": null,
            "grid_gap": null,
            "max_width": null,
            "order": null,
            "_view_module_version": "1.2.0",
            "grid_template_areas": null,
            "object_position": null,
            "object_fit": null,
            "grid_auto_columns": null,
            "margin": null,
            "display": null,
            "left": null
          }
        },
        "a2ea3580342c4901be7b1505a00a91c4": {
          "model_module": "@jupyter-widgets/controls",
          "model_name": "DescriptionStyleModel",
          "state": {
            "_view_name": "StyleView",
            "_model_name": "DescriptionStyleModel",
            "description_width": "",
            "_view_module": "@jupyter-widgets/base",
            "_model_module_version": "1.5.0",
            "_view_count": null,
            "_view_module_version": "1.2.0",
            "_model_module": "@jupyter-widgets/controls"
          }
        },
        "7423ec9879ce450997cab85551df8d8e": {
          "model_module": "@jupyter-widgets/base",
          "model_name": "LayoutModel",
          "state": {
            "_view_name": "LayoutView",
            "grid_template_rows": null,
            "right": null,
            "justify_content": null,
            "_view_module": "@jupyter-widgets/base",
            "overflow": null,
            "_model_module_version": "1.2.0",
            "_view_count": null,
            "flex_flow": null,
            "width": null,
            "min_width": null,
            "border": null,
            "align_items": null,
            "bottom": null,
            "_model_module": "@jupyter-widgets/base",
            "top": null,
            "grid_column": null,
            "overflow_y": null,
            "overflow_x": null,
            "grid_auto_flow": null,
            "grid_area": null,
            "grid_template_columns": null,
            "flex": null,
            "_model_name": "LayoutModel",
            "justify_items": null,
            "grid_row": null,
            "max_height": null,
            "align_content": null,
            "visibility": null,
            "align_self": null,
            "height": null,
            "min_height": null,
            "padding": null,
            "grid_auto_rows": null,
            "grid_gap": null,
            "max_width": null,
            "order": null,
            "_view_module_version": "1.2.0",
            "grid_template_areas": null,
            "object_position": null,
            "object_fit": null,
            "grid_auto_columns": null,
            "margin": null,
            "display": null,
            "left": null
          }
        },
        "ee20a49340b645e28a465bd4398fc0b8": {
          "model_module": "@jupyter-widgets/controls",
          "model_name": "HBoxModel",
          "state": {
            "_view_name": "HBoxView",
            "_dom_classes": [],
            "_model_name": "HBoxModel",
            "_view_module": "@jupyter-widgets/controls",
            "_model_module_version": "1.5.0",
            "_view_count": null,
            "_view_module_version": "1.5.0",
            "box_style": "",
            "layout": "IPY_MODEL_cd44df6e4ced4d76bf61d5e0ea2ccb7d",
            "_model_module": "@jupyter-widgets/controls",
            "children": [
              "IPY_MODEL_c6ab8e5b08b94b908ac9d22b34506129",
              "IPY_MODEL_543f7038ed8c44e68cf0fa5cadb47d8b"
            ]
          }
        },
        "cd44df6e4ced4d76bf61d5e0ea2ccb7d": {
          "model_module": "@jupyter-widgets/base",
          "model_name": "LayoutModel",
          "state": {
            "_view_name": "LayoutView",
            "grid_template_rows": null,
            "right": null,
            "justify_content": null,
            "_view_module": "@jupyter-widgets/base",
            "overflow": null,
            "_model_module_version": "1.2.0",
            "_view_count": null,
            "flex_flow": null,
            "width": null,
            "min_width": null,
            "border": null,
            "align_items": null,
            "bottom": null,
            "_model_module": "@jupyter-widgets/base",
            "top": null,
            "grid_column": null,
            "overflow_y": null,
            "overflow_x": null,
            "grid_auto_flow": null,
            "grid_area": null,
            "grid_template_columns": null,
            "flex": null,
            "_model_name": "LayoutModel",
            "justify_items": null,
            "grid_row": null,
            "max_height": null,
            "align_content": null,
            "visibility": null,
            "align_self": null,
            "height": null,
            "min_height": null,
            "padding": null,
            "grid_auto_rows": null,
            "grid_gap": null,
            "max_width": null,
            "order": null,
            "_view_module_version": "1.2.0",
            "grid_template_areas": null,
            "object_position": null,
            "object_fit": null,
            "grid_auto_columns": null,
            "margin": null,
            "display": null,
            "left": null
          }
        },
        "c6ab8e5b08b94b908ac9d22b34506129": {
          "model_module": "@jupyter-widgets/controls",
          "model_name": "FloatProgressModel",
          "state": {
            "_view_name": "ProgressView",
            "style": "IPY_MODEL_ace7154a5a6f421c815146d2f34db9e9",
            "_dom_classes": [],
            "description": "Downloading: 100%",
            "_model_name": "FloatProgressModel",
            "bar_style": "success",
            "max": 529,
            "_view_module": "@jupyter-widgets/controls",
            "_model_module_version": "1.5.0",
            "value": 529,
            "_view_count": null,
            "_view_module_version": "1.5.0",
            "orientation": "horizontal",
            "min": 0,
            "description_tooltip": null,
            "_model_module": "@jupyter-widgets/controls",
            "layout": "IPY_MODEL_e64380f95adf4056a03470e811c0b047"
          }
        },
        "543f7038ed8c44e68cf0fa5cadb47d8b": {
          "model_module": "@jupyter-widgets/controls",
          "model_name": "HTMLModel",
          "state": {
            "_view_name": "HTMLView",
            "style": "IPY_MODEL_223c1e1234da45ba85fc9cb9b6e5e2a3",
            "_dom_classes": [],
            "description": "",
            "_model_name": "HTMLModel",
            "placeholder": "​",
            "_view_module": "@jupyter-widgets/controls",
            "_model_module_version": "1.5.0",
            "value": " 529/529 [00:00&lt;00:00, 810B/s]",
            "_view_count": null,
            "_view_module_version": "1.5.0",
            "description_tooltip": null,
            "_model_module": "@jupyter-widgets/controls",
            "layout": "IPY_MODEL_459047d7d25c41e887327883f40991e2"
          }
        },
        "ace7154a5a6f421c815146d2f34db9e9": {
          "model_module": "@jupyter-widgets/controls",
          "model_name": "ProgressStyleModel",
          "state": {
            "_view_name": "StyleView",
            "_model_name": "ProgressStyleModel",
            "description_width": "initial",
            "_view_module": "@jupyter-widgets/base",
            "_model_module_version": "1.5.0",
            "_view_count": null,
            "_view_module_version": "1.2.0",
            "bar_color": null,
            "_model_module": "@jupyter-widgets/controls"
          }
        },
        "e64380f95adf4056a03470e811c0b047": {
          "model_module": "@jupyter-widgets/base",
          "model_name": "LayoutModel",
          "state": {
            "_view_name": "LayoutView",
            "grid_template_rows": null,
            "right": null,
            "justify_content": null,
            "_view_module": "@jupyter-widgets/base",
            "overflow": null,
            "_model_module_version": "1.2.0",
            "_view_count": null,
            "flex_flow": null,
            "width": null,
            "min_width": null,
            "border": null,
            "align_items": null,
            "bottom": null,
            "_model_module": "@jupyter-widgets/base",
            "top": null,
            "grid_column": null,
            "overflow_y": null,
            "overflow_x": null,
            "grid_auto_flow": null,
            "grid_area": null,
            "grid_template_columns": null,
            "flex": null,
            "_model_name": "LayoutModel",
            "justify_items": null,
            "grid_row": null,
            "max_height": null,
            "align_content": null,
            "visibility": null,
            "align_self": null,
            "height": null,
            "min_height": null,
            "padding": null,
            "grid_auto_rows": null,
            "grid_gap": null,
            "max_width": null,
            "order": null,
            "_view_module_version": "1.2.0",
            "grid_template_areas": null,
            "object_position": null,
            "object_fit": null,
            "grid_auto_columns": null,
            "margin": null,
            "display": null,
            "left": null
          }
        },
        "223c1e1234da45ba85fc9cb9b6e5e2a3": {
          "model_module": "@jupyter-widgets/controls",
          "model_name": "DescriptionStyleModel",
          "state": {
            "_view_name": "StyleView",
            "_model_name": "DescriptionStyleModel",
            "description_width": "",
            "_view_module": "@jupyter-widgets/base",
            "_model_module_version": "1.5.0",
            "_view_count": null,
            "_view_module_version": "1.2.0",
            "_model_module": "@jupyter-widgets/controls"
          }
        },
        "459047d7d25c41e887327883f40991e2": {
          "model_module": "@jupyter-widgets/base",
          "model_name": "LayoutModel",
          "state": {
            "_view_name": "LayoutView",
            "grid_template_rows": null,
            "right": null,
            "justify_content": null,
            "_view_module": "@jupyter-widgets/base",
            "overflow": null,
            "_model_module_version": "1.2.0",
            "_view_count": null,
            "flex_flow": null,
            "width": null,
            "min_width": null,
            "border": null,
            "align_items": null,
            "bottom": null,
            "_model_module": "@jupyter-widgets/base",
            "top": null,
            "grid_column": null,
            "overflow_y": null,
            "overflow_x": null,
            "grid_auto_flow": null,
            "grid_area": null,
            "grid_template_columns": null,
            "flex": null,
            "_model_name": "LayoutModel",
            "justify_items": null,
            "grid_row": null,
            "max_height": null,
            "align_content": null,
            "visibility": null,
            "align_self": null,
            "height": null,
            "min_height": null,
            "padding": null,
            "grid_auto_rows": null,
            "grid_gap": null,
            "max_width": null,
            "order": null,
            "_view_module_version": "1.2.0",
            "grid_template_areas": null,
            "object_position": null,
            "object_fit": null,
            "grid_auto_columns": null,
            "margin": null,
            "display": null,
            "left": null
          }
        },
        "daf545e0b6794e498d43e04bf872aaa2": {
          "model_module": "@jupyter-widgets/controls",
          "model_name": "HBoxModel",
          "state": {
            "_view_name": "HBoxView",
            "_dom_classes": [],
            "_model_name": "HBoxModel",
            "_view_module": "@jupyter-widgets/controls",
            "_model_module_version": "1.5.0",
            "_view_count": null,
            "_view_module_version": "1.5.0",
            "box_style": "",
            "layout": "IPY_MODEL_2fca146db0224be59a906ab20b30fa60",
            "_model_module": "@jupyter-widgets/controls",
            "children": [
              "IPY_MODEL_1395cc465cbb4dba89a0ac7e359d1e05",
              "IPY_MODEL_e9aa09e5acf043fbaf03b15bcbccbee3"
            ]
          }
        },
        "2fca146db0224be59a906ab20b30fa60": {
          "model_module": "@jupyter-widgets/base",
          "model_name": "LayoutModel",
          "state": {
            "_view_name": "LayoutView",
            "grid_template_rows": null,
            "right": null,
            "justify_content": null,
            "_view_module": "@jupyter-widgets/base",
            "overflow": null,
            "_model_module_version": "1.2.0",
            "_view_count": null,
            "flex_flow": null,
            "width": null,
            "min_width": null,
            "border": null,
            "align_items": null,
            "bottom": null,
            "_model_module": "@jupyter-widgets/base",
            "top": null,
            "grid_column": null,
            "overflow_y": null,
            "overflow_x": null,
            "grid_auto_flow": null,
            "grid_area": null,
            "grid_template_columns": null,
            "flex": null,
            "_model_name": "LayoutModel",
            "justify_items": null,
            "grid_row": null,
            "max_height": null,
            "align_content": null,
            "visibility": null,
            "align_self": null,
            "height": null,
            "min_height": null,
            "padding": null,
            "grid_auto_rows": null,
            "grid_gap": null,
            "max_width": null,
            "order": null,
            "_view_module_version": "1.2.0",
            "grid_template_areas": null,
            "object_position": null,
            "object_fit": null,
            "grid_auto_columns": null,
            "margin": null,
            "display": null,
            "left": null
          }
        },
        "1395cc465cbb4dba89a0ac7e359d1e05": {
          "model_module": "@jupyter-widgets/controls",
          "model_name": "FloatProgressModel",
          "state": {
            "_view_name": "ProgressView",
            "style": "IPY_MODEL_341f88fefee94b2ead77a4cce2ed1759",
            "_dom_classes": [],
            "description": "Downloading: 100%",
            "_model_name": "FloatProgressModel",
            "bar_style": "success",
            "max": 1429,
            "_view_module": "@jupyter-widgets/controls",
            "_model_module_version": "1.5.0",
            "value": 1429,
            "_view_count": null,
            "_view_module_version": "1.5.0",
            "orientation": "horizontal",
            "min": 0,
            "description_tooltip": null,
            "_model_module": "@jupyter-widgets/controls",
            "layout": "IPY_MODEL_415d5daeef0641a189158a464f3c11e4"
          }
        },
        "e9aa09e5acf043fbaf03b15bcbccbee3": {
          "model_module": "@jupyter-widgets/controls",
          "model_name": "HTMLModel",
          "state": {
            "_view_name": "HTMLView",
            "style": "IPY_MODEL_1a4cd9023012494295c824e7d3643a06",
            "_dom_classes": [],
            "description": "",
            "_model_name": "HTMLModel",
            "placeholder": "​",
            "_view_module": "@jupyter-widgets/controls",
            "_model_module_version": "1.5.0",
            "value": " 1.43k/1.43k [00:40&lt;00:00, 35.5B/s]",
            "_view_count": null,
            "_view_module_version": "1.5.0",
            "description_tooltip": null,
            "_model_module": "@jupyter-widgets/controls",
            "layout": "IPY_MODEL_bef92fb4ac5447fcb516e0bd94a44ced"
          }
        },
        "341f88fefee94b2ead77a4cce2ed1759": {
          "model_module": "@jupyter-widgets/controls",
          "model_name": "ProgressStyleModel",
          "state": {
            "_view_name": "StyleView",
            "_model_name": "ProgressStyleModel",
            "description_width": "initial",
            "_view_module": "@jupyter-widgets/base",
            "_model_module_version": "1.5.0",
            "_view_count": null,
            "_view_module_version": "1.2.0",
            "bar_color": null,
            "_model_module": "@jupyter-widgets/controls"
          }
        },
        "415d5daeef0641a189158a464f3c11e4": {
          "model_module": "@jupyter-widgets/base",
          "model_name": "LayoutModel",
          "state": {
            "_view_name": "LayoutView",
            "grid_template_rows": null,
            "right": null,
            "justify_content": null,
            "_view_module": "@jupyter-widgets/base",
            "overflow": null,
            "_model_module_version": "1.2.0",
            "_view_count": null,
            "flex_flow": null,
            "width": null,
            "min_width": null,
            "border": null,
            "align_items": null,
            "bottom": null,
            "_model_module": "@jupyter-widgets/base",
            "top": null,
            "grid_column": null,
            "overflow_y": null,
            "overflow_x": null,
            "grid_auto_flow": null,
            "grid_area": null,
            "grid_template_columns": null,
            "flex": null,
            "_model_name": "LayoutModel",
            "justify_items": null,
            "grid_row": null,
            "max_height": null,
            "align_content": null,
            "visibility": null,
            "align_self": null,
            "height": null,
            "min_height": null,
            "padding": null,
            "grid_auto_rows": null,
            "grid_gap": null,
            "max_width": null,
            "order": null,
            "_view_module_version": "1.2.0",
            "grid_template_areas": null,
            "object_position": null,
            "object_fit": null,
            "grid_auto_columns": null,
            "margin": null,
            "display": null,
            "left": null
          }
        },
        "1a4cd9023012494295c824e7d3643a06": {
          "model_module": "@jupyter-widgets/controls",
          "model_name": "DescriptionStyleModel",
          "state": {
            "_view_name": "StyleView",
            "_model_name": "DescriptionStyleModel",
            "description_width": "",
            "_view_module": "@jupyter-widgets/base",
            "_model_module_version": "1.5.0",
            "_view_count": null,
            "_view_module_version": "1.2.0",
            "_model_module": "@jupyter-widgets/controls"
          }
        },
        "bef92fb4ac5447fcb516e0bd94a44ced": {
          "model_module": "@jupyter-widgets/base",
          "model_name": "LayoutModel",
          "state": {
            "_view_name": "LayoutView",
            "grid_template_rows": null,
            "right": null,
            "justify_content": null,
            "_view_module": "@jupyter-widgets/base",
            "overflow": null,
            "_model_module_version": "1.2.0",
            "_view_count": null,
            "flex_flow": null,
            "width": null,
            "min_width": null,
            "border": null,
            "align_items": null,
            "bottom": null,
            "_model_module": "@jupyter-widgets/base",
            "top": null,
            "grid_column": null,
            "overflow_y": null,
            "overflow_x": null,
            "grid_auto_flow": null,
            "grid_area": null,
            "grid_template_columns": null,
            "flex": null,
            "_model_name": "LayoutModel",
            "justify_items": null,
            "grid_row": null,
            "max_height": null,
            "align_content": null,
            "visibility": null,
            "align_self": null,
            "height": null,
            "min_height": null,
            "padding": null,
            "grid_auto_rows": null,
            "grid_gap": null,
            "max_width": null,
            "order": null,
            "_view_module_version": "1.2.0",
            "grid_template_areas": null,
            "object_position": null,
            "object_fit": null,
            "grid_auto_columns": null,
            "margin": null,
            "display": null,
            "left": null
          }
        },
        "29f79e23783e4378b496b0996d7dea56": {
          "model_module": "@jupyter-widgets/controls",
          "model_name": "HBoxModel",
          "state": {
            "_view_name": "HBoxView",
            "_dom_classes": [],
            "_model_name": "HBoxModel",
            "_view_module": "@jupyter-widgets/controls",
            "_model_module_version": "1.5.0",
            "_view_count": null,
            "_view_module_version": "1.5.0",
            "box_style": "",
            "layout": "IPY_MODEL_3f1de91b5c0d4cfd8dac29adc74f831f",
            "_model_module": "@jupyter-widgets/controls",
            "children": [
              "IPY_MODEL_a76adb5a22f844a4926677a2f429fa6e",
              "IPY_MODEL_9f59ad5952e3448fbb87cc18658f3693"
            ]
          }
        },
        "3f1de91b5c0d4cfd8dac29adc74f831f": {
          "model_module": "@jupyter-widgets/base",
          "model_name": "LayoutModel",
          "state": {
            "_view_name": "LayoutView",
            "grid_template_rows": null,
            "right": null,
            "justify_content": null,
            "_view_module": "@jupyter-widgets/base",
            "overflow": null,
            "_model_module_version": "1.2.0",
            "_view_count": null,
            "flex_flow": null,
            "width": null,
            "min_width": null,
            "border": null,
            "align_items": null,
            "bottom": null,
            "_model_module": "@jupyter-widgets/base",
            "top": null,
            "grid_column": null,
            "overflow_y": null,
            "overflow_x": null,
            "grid_auto_flow": null,
            "grid_area": null,
            "grid_template_columns": null,
            "flex": null,
            "_model_name": "LayoutModel",
            "justify_items": null,
            "grid_row": null,
            "max_height": null,
            "align_content": null,
            "visibility": null,
            "align_self": null,
            "height": null,
            "min_height": null,
            "padding": null,
            "grid_auto_rows": null,
            "grid_gap": null,
            "max_width": null,
            "order": null,
            "_view_module_version": "1.2.0",
            "grid_template_areas": null,
            "object_position": null,
            "object_fit": null,
            "grid_auto_columns": null,
            "margin": null,
            "display": null,
            "left": null
          }
        },
        "a76adb5a22f844a4926677a2f429fa6e": {
          "model_module": "@jupyter-widgets/controls",
          "model_name": "FloatProgressModel",
          "state": {
            "_view_name": "ProgressView",
            "style": "IPY_MODEL_d74a81a3e1964e6796f2f38199f987d3",
            "_dom_classes": [],
            "description": "Downloading: 100%",
            "_model_name": "FloatProgressModel",
            "bar_style": "success",
            "max": 2444714899,
            "_view_module": "@jupyter-widgets/controls",
            "_model_module_version": "1.5.0",
            "value": 2444714899,
            "_view_count": null,
            "_view_module_version": "1.5.0",
            "orientation": "horizontal",
            "min": 0,
            "description_tooltip": null,
            "_model_module": "@jupyter-widgets/controls",
            "layout": "IPY_MODEL_cb609be2f4b8422a884bc6b474a6d449"
          }
        },
        "9f59ad5952e3448fbb87cc18658f3693": {
          "model_module": "@jupyter-widgets/controls",
          "model_name": "HTMLModel",
          "state": {
            "_view_name": "HTMLView",
            "style": "IPY_MODEL_5d0b51339f2f49a295cc9fd943626e84",
            "_dom_classes": [],
            "description": "",
            "_model_name": "HTMLModel",
            "placeholder": "​",
            "_view_module": "@jupyter-widgets/controls",
            "_model_module_version": "1.5.0",
            "value": " 2.44G/2.44G [00:39&lt;00:00, 61.2MB/s]",
            "_view_count": null,
            "_view_module_version": "1.5.0",
            "description_tooltip": null,
            "_model_module": "@jupyter-widgets/controls",
            "layout": "IPY_MODEL_6b1d4e24352b4d2c9d9ea43be1f140bb"
          }
        },
        "d74a81a3e1964e6796f2f38199f987d3": {
          "model_module": "@jupyter-widgets/controls",
          "model_name": "ProgressStyleModel",
          "state": {
            "_view_name": "StyleView",
            "_model_name": "ProgressStyleModel",
            "description_width": "initial",
            "_view_module": "@jupyter-widgets/base",
            "_model_module_version": "1.5.0",
            "_view_count": null,
            "_view_module_version": "1.2.0",
            "bar_color": null,
            "_model_module": "@jupyter-widgets/controls"
          }
        },
        "cb609be2f4b8422a884bc6b474a6d449": {
          "model_module": "@jupyter-widgets/base",
          "model_name": "LayoutModel",
          "state": {
            "_view_name": "LayoutView",
            "grid_template_rows": null,
            "right": null,
            "justify_content": null,
            "_view_module": "@jupyter-widgets/base",
            "overflow": null,
            "_model_module_version": "1.2.0",
            "_view_count": null,
            "flex_flow": null,
            "width": null,
            "min_width": null,
            "border": null,
            "align_items": null,
            "bottom": null,
            "_model_module": "@jupyter-widgets/base",
            "top": null,
            "grid_column": null,
            "overflow_y": null,
            "overflow_x": null,
            "grid_auto_flow": null,
            "grid_area": null,
            "grid_template_columns": null,
            "flex": null,
            "_model_name": "LayoutModel",
            "justify_items": null,
            "grid_row": null,
            "max_height": null,
            "align_content": null,
            "visibility": null,
            "align_self": null,
            "height": null,
            "min_height": null,
            "padding": null,
            "grid_auto_rows": null,
            "grid_gap": null,
            "max_width": null,
            "order": null,
            "_view_module_version": "1.2.0",
            "grid_template_areas": null,
            "object_position": null,
            "object_fit": null,
            "grid_auto_columns": null,
            "margin": null,
            "display": null,
            "left": null
          }
        },
        "5d0b51339f2f49a295cc9fd943626e84": {
          "model_module": "@jupyter-widgets/controls",
          "model_name": "DescriptionStyleModel",
          "state": {
            "_view_name": "StyleView",
            "_model_name": "DescriptionStyleModel",
            "description_width": "",
            "_view_module": "@jupyter-widgets/base",
            "_model_module_version": "1.5.0",
            "_view_count": null,
            "_view_module_version": "1.2.0",
            "_model_module": "@jupyter-widgets/controls"
          }
        },
        "6b1d4e24352b4d2c9d9ea43be1f140bb": {
          "model_module": "@jupyter-widgets/base",
          "model_name": "LayoutModel",
          "state": {
            "_view_name": "LayoutView",
            "grid_template_rows": null,
            "right": null,
            "justify_content": null,
            "_view_module": "@jupyter-widgets/base",
            "overflow": null,
            "_model_module_version": "1.2.0",
            "_view_count": null,
            "flex_flow": null,
            "width": null,
            "min_width": null,
            "border": null,
            "align_items": null,
            "bottom": null,
            "_model_module": "@jupyter-widgets/base",
            "top": null,
            "grid_column": null,
            "overflow_y": null,
            "overflow_x": null,
            "grid_auto_flow": null,
            "grid_area": null,
            "grid_template_columns": null,
            "flex": null,
            "_model_name": "LayoutModel",
            "justify_items": null,
            "grid_row": null,
            "max_height": null,
            "align_content": null,
            "visibility": null,
            "align_self": null,
            "height": null,
            "min_height": null,
            "padding": null,
            "grid_auto_rows": null,
            "grid_gap": null,
            "max_width": null,
            "order": null,
            "_view_module_version": "1.2.0",
            "grid_template_areas": null,
            "object_position": null,
            "object_fit": null,
            "grid_auto_columns": null,
            "margin": null,
            "display": null,
            "left": null
          }
        },
        "ee94ad73afa74754a8281492728e4f74": {
          "model_module": "@jupyter-widgets/controls",
          "model_name": "HBoxModel",
          "state": {
            "_view_name": "HBoxView",
            "_dom_classes": [],
            "_model_name": "HBoxModel",
            "_view_module": "@jupyter-widgets/controls",
            "_model_module_version": "1.5.0",
            "_view_count": null,
            "_view_module_version": "1.5.0",
            "box_style": "",
            "layout": "IPY_MODEL_598c9a44a75c4943acd3e6da7061455d",
            "_model_module": "@jupyter-widgets/controls",
            "children": [
              "IPY_MODEL_0e2b7182e78e49b5a715cb8dea2cbee1",
              "IPY_MODEL_0320e75918eb49b38676939735f658f4"
            ]
          }
        },
        "598c9a44a75c4943acd3e6da7061455d": {
          "model_module": "@jupyter-widgets/base",
          "model_name": "LayoutModel",
          "state": {
            "_view_name": "LayoutView",
            "grid_template_rows": null,
            "right": null,
            "justify_content": null,
            "_view_module": "@jupyter-widgets/base",
            "overflow": null,
            "_model_module_version": "1.2.0",
            "_view_count": null,
            "flex_flow": null,
            "width": null,
            "min_width": null,
            "border": null,
            "align_items": null,
            "bottom": null,
            "_model_module": "@jupyter-widgets/base",
            "top": null,
            "grid_column": null,
            "overflow_y": null,
            "overflow_x": null,
            "grid_auto_flow": null,
            "grid_area": null,
            "grid_template_columns": null,
            "flex": null,
            "_model_name": "LayoutModel",
            "justify_items": null,
            "grid_row": null,
            "max_height": null,
            "align_content": null,
            "visibility": null,
            "align_self": null,
            "height": null,
            "min_height": null,
            "padding": null,
            "grid_auto_rows": null,
            "grid_gap": null,
            "max_width": null,
            "order": null,
            "_view_module_version": "1.2.0",
            "grid_template_areas": null,
            "object_position": null,
            "object_fit": null,
            "grid_auto_columns": null,
            "margin": null,
            "display": null,
            "left": null
          }
        },
        "0e2b7182e78e49b5a715cb8dea2cbee1": {
          "model_module": "@jupyter-widgets/controls",
          "model_name": "FloatProgressModel",
          "state": {
            "_view_name": "ProgressView",
            "style": "IPY_MODEL_8cd67031c90e4e17a65d40bf9315fc02",
            "_dom_classes": [],
            "description": "Downloading: 100%",
            "_model_name": "FloatProgressModel",
            "bar_style": "success",
            "max": 4309802,
            "_view_module": "@jupyter-widgets/controls",
            "_model_module_version": "1.5.0",
            "value": 4309802,
            "_view_count": null,
            "_view_module_version": "1.5.0",
            "orientation": "horizontal",
            "min": 0,
            "description_tooltip": null,
            "_model_module": "@jupyter-widgets/controls",
            "layout": "IPY_MODEL_d84825fd583743638a54c57d0999f989"
          }
        },
        "0320e75918eb49b38676939735f658f4": {
          "model_module": "@jupyter-widgets/controls",
          "model_name": "HTMLModel",
          "state": {
            "_view_name": "HTMLView",
            "style": "IPY_MODEL_7528fae51c954821a7e1bb4dfbb29789",
            "_dom_classes": [],
            "description": "",
            "_model_name": "HTMLModel",
            "placeholder": "​",
            "_view_module": "@jupyter-widgets/controls",
            "_model_module_version": "1.5.0",
            "value": " 4.31M/4.31M [00:01&lt;00:00, 3.58MB/s]",
            "_view_count": null,
            "_view_module_version": "1.5.0",
            "description_tooltip": null,
            "_model_module": "@jupyter-widgets/controls",
            "layout": "IPY_MODEL_fd65ffe4b3bb4df0820a93ddf9b5d406"
          }
        },
        "8cd67031c90e4e17a65d40bf9315fc02": {
          "model_module": "@jupyter-widgets/controls",
          "model_name": "ProgressStyleModel",
          "state": {
            "_view_name": "StyleView",
            "_model_name": "ProgressStyleModel",
            "description_width": "initial",
            "_view_module": "@jupyter-widgets/base",
            "_model_module_version": "1.5.0",
            "_view_count": null,
            "_view_module_version": "1.2.0",
            "bar_color": null,
            "_model_module": "@jupyter-widgets/controls"
          }
        },
        "d84825fd583743638a54c57d0999f989": {
          "model_module": "@jupyter-widgets/base",
          "model_name": "LayoutModel",
          "state": {
            "_view_name": "LayoutView",
            "grid_template_rows": null,
            "right": null,
            "justify_content": null,
            "_view_module": "@jupyter-widgets/base",
            "overflow": null,
            "_model_module_version": "1.2.0",
            "_view_count": null,
            "flex_flow": null,
            "width": null,
            "min_width": null,
            "border": null,
            "align_items": null,
            "bottom": null,
            "_model_module": "@jupyter-widgets/base",
            "top": null,
            "grid_column": null,
            "overflow_y": null,
            "overflow_x": null,
            "grid_auto_flow": null,
            "grid_area": null,
            "grid_template_columns": null,
            "flex": null,
            "_model_name": "LayoutModel",
            "justify_items": null,
            "grid_row": null,
            "max_height": null,
            "align_content": null,
            "visibility": null,
            "align_self": null,
            "height": null,
            "min_height": null,
            "padding": null,
            "grid_auto_rows": null,
            "grid_gap": null,
            "max_width": null,
            "order": null,
            "_view_module_version": "1.2.0",
            "grid_template_areas": null,
            "object_position": null,
            "object_fit": null,
            "grid_auto_columns": null,
            "margin": null,
            "display": null,
            "left": null
          }
        },
        "7528fae51c954821a7e1bb4dfbb29789": {
          "model_module": "@jupyter-widgets/controls",
          "model_name": "DescriptionStyleModel",
          "state": {
            "_view_name": "StyleView",
            "_model_name": "DescriptionStyleModel",
            "description_width": "",
            "_view_module": "@jupyter-widgets/base",
            "_model_module_version": "1.5.0",
            "_view_count": null,
            "_view_module_version": "1.2.0",
            "_model_module": "@jupyter-widgets/controls"
          }
        },
        "fd65ffe4b3bb4df0820a93ddf9b5d406": {
          "model_module": "@jupyter-widgets/base",
          "model_name": "LayoutModel",
          "state": {
            "_view_name": "LayoutView",
            "grid_template_rows": null,
            "right": null,
            "justify_content": null,
            "_view_module": "@jupyter-widgets/base",
            "overflow": null,
            "_model_module_version": "1.2.0",
            "_view_count": null,
            "flex_flow": null,
            "width": null,
            "min_width": null,
            "border": null,
            "align_items": null,
            "bottom": null,
            "_model_module": "@jupyter-widgets/base",
            "top": null,
            "grid_column": null,
            "overflow_y": null,
            "overflow_x": null,
            "grid_auto_flow": null,
            "grid_area": null,
            "grid_template_columns": null,
            "flex": null,
            "_model_name": "LayoutModel",
            "justify_items": null,
            "grid_row": null,
            "max_height": null,
            "align_content": null,
            "visibility": null,
            "align_self": null,
            "height": null,
            "min_height": null,
            "padding": null,
            "grid_auto_rows": null,
            "grid_gap": null,
            "max_width": null,
            "order": null,
            "_view_module_version": "1.2.0",
            "grid_template_areas": null,
            "object_position": null,
            "object_fit": null,
            "grid_auto_columns": null,
            "margin": null,
            "display": null,
            "left": null
          }
        },
        "98a920edcca348a1b8c20b81681a3250": {
          "model_module": "@jupyter-widgets/controls",
          "model_name": "HBoxModel",
          "state": {
            "_view_name": "HBoxView",
            "_dom_classes": [],
            "_model_name": "HBoxModel",
            "_view_module": "@jupyter-widgets/controls",
            "_model_module_version": "1.5.0",
            "_view_count": null,
            "_view_module_version": "1.5.0",
            "box_style": "",
            "layout": "IPY_MODEL_1300a6c25ce545ec8ebf82fa79f25505",
            "_model_module": "@jupyter-widgets/controls",
            "children": [
              "IPY_MODEL_5ef6b79e1f3a463fadb138bad71af826",
              "IPY_MODEL_dcb82bc81d3b4bf28b4e7eed7449ca31"
            ]
          }
        },
        "1300a6c25ce545ec8ebf82fa79f25505": {
          "model_module": "@jupyter-widgets/base",
          "model_name": "LayoutModel",
          "state": {
            "_view_name": "LayoutView",
            "grid_template_rows": null,
            "right": null,
            "justify_content": null,
            "_view_module": "@jupyter-widgets/base",
            "overflow": null,
            "_model_module_version": "1.2.0",
            "_view_count": null,
            "flex_flow": null,
            "width": null,
            "min_width": null,
            "border": null,
            "align_items": null,
            "bottom": null,
            "_model_module": "@jupyter-widgets/base",
            "top": null,
            "grid_column": null,
            "overflow_y": null,
            "overflow_x": null,
            "grid_auto_flow": null,
            "grid_area": null,
            "grid_template_columns": null,
            "flex": null,
            "_model_name": "LayoutModel",
            "justify_items": null,
            "grid_row": null,
            "max_height": null,
            "align_content": null,
            "visibility": null,
            "align_self": null,
            "height": null,
            "min_height": null,
            "padding": null,
            "grid_auto_rows": null,
            "grid_gap": null,
            "max_width": null,
            "order": null,
            "_view_module_version": "1.2.0",
            "grid_template_areas": null,
            "object_position": null,
            "object_fit": null,
            "grid_auto_columns": null,
            "margin": null,
            "display": null,
            "left": null
          }
        },
        "5ef6b79e1f3a463fadb138bad71af826": {
          "model_module": "@jupyter-widgets/controls",
          "model_name": "FloatProgressModel",
          "state": {
            "_view_name": "ProgressView",
            "style": "IPY_MODEL_ce8e0a5e4048483dba4c723eec5c84e9",
            "_dom_classes": [],
            "description": "Downloading: 100%",
            "_model_name": "FloatProgressModel",
            "bar_style": "success",
            "max": 99,
            "_view_module": "@jupyter-widgets/controls",
            "_model_module_version": "1.5.0",
            "value": 99,
            "_view_count": null,
            "_view_module_version": "1.5.0",
            "orientation": "horizontal",
            "min": 0,
            "description_tooltip": null,
            "_model_module": "@jupyter-widgets/controls",
            "layout": "IPY_MODEL_66bbe685a68e48e6b9b4f56951c20f14"
          }
        },
        "dcb82bc81d3b4bf28b4e7eed7449ca31": {
          "model_module": "@jupyter-widgets/controls",
          "model_name": "HTMLModel",
          "state": {
            "_view_name": "HTMLView",
            "style": "IPY_MODEL_fd6ea14c93de4c0bb4995e8820a8ed64",
            "_dom_classes": [],
            "description": "",
            "_model_name": "HTMLModel",
            "placeholder": "​",
            "_view_module": "@jupyter-widgets/controls",
            "_model_module_version": "1.5.0",
            "value": " 99.0/99.0 [00:00&lt;00:00, 4.38kB/s]",
            "_view_count": null,
            "_view_module_version": "1.5.0",
            "description_tooltip": null,
            "_model_module": "@jupyter-widgets/controls",
            "layout": "IPY_MODEL_05b9e3c8c7294d17ab5f8762ddc3876b"
          }
        },
        "ce8e0a5e4048483dba4c723eec5c84e9": {
          "model_module": "@jupyter-widgets/controls",
          "model_name": "ProgressStyleModel",
          "state": {
            "_view_name": "StyleView",
            "_model_name": "ProgressStyleModel",
            "description_width": "initial",
            "_view_module": "@jupyter-widgets/base",
            "_model_module_version": "1.5.0",
            "_view_count": null,
            "_view_module_version": "1.2.0",
            "bar_color": null,
            "_model_module": "@jupyter-widgets/controls"
          }
        },
        "66bbe685a68e48e6b9b4f56951c20f14": {
          "model_module": "@jupyter-widgets/base",
          "model_name": "LayoutModel",
          "state": {
            "_view_name": "LayoutView",
            "grid_template_rows": null,
            "right": null,
            "justify_content": null,
            "_view_module": "@jupyter-widgets/base",
            "overflow": null,
            "_model_module_version": "1.2.0",
            "_view_count": null,
            "flex_flow": null,
            "width": null,
            "min_width": null,
            "border": null,
            "align_items": null,
            "bottom": null,
            "_model_module": "@jupyter-widgets/base",
            "top": null,
            "grid_column": null,
            "overflow_y": null,
            "overflow_x": null,
            "grid_auto_flow": null,
            "grid_area": null,
            "grid_template_columns": null,
            "flex": null,
            "_model_name": "LayoutModel",
            "justify_items": null,
            "grid_row": null,
            "max_height": null,
            "align_content": null,
            "visibility": null,
            "align_self": null,
            "height": null,
            "min_height": null,
            "padding": null,
            "grid_auto_rows": null,
            "grid_gap": null,
            "max_width": null,
            "order": null,
            "_view_module_version": "1.2.0",
            "grid_template_areas": null,
            "object_position": null,
            "object_fit": null,
            "grid_auto_columns": null,
            "margin": null,
            "display": null,
            "left": null
          }
        },
        "fd6ea14c93de4c0bb4995e8820a8ed64": {
          "model_module": "@jupyter-widgets/controls",
          "model_name": "DescriptionStyleModel",
          "state": {
            "_view_name": "StyleView",
            "_model_name": "DescriptionStyleModel",
            "description_width": "",
            "_view_module": "@jupyter-widgets/base",
            "_model_module_version": "1.5.0",
            "_view_count": null,
            "_view_module_version": "1.2.0",
            "_model_module": "@jupyter-widgets/controls"
          }
        },
        "05b9e3c8c7294d17ab5f8762ddc3876b": {
          "model_module": "@jupyter-widgets/base",
          "model_name": "LayoutModel",
          "state": {
            "_view_name": "LayoutView",
            "grid_template_rows": null,
            "right": null,
            "justify_content": null,
            "_view_module": "@jupyter-widgets/base",
            "overflow": null,
            "_model_module_version": "1.2.0",
            "_view_count": null,
            "flex_flow": null,
            "width": null,
            "min_width": null,
            "border": null,
            "align_items": null,
            "bottom": null,
            "_model_module": "@jupyter-widgets/base",
            "top": null,
            "grid_column": null,
            "overflow_y": null,
            "overflow_x": null,
            "grid_auto_flow": null,
            "grid_area": null,
            "grid_template_columns": null,
            "flex": null,
            "_model_name": "LayoutModel",
            "justify_items": null,
            "grid_row": null,
            "max_height": null,
            "align_content": null,
            "visibility": null,
            "align_self": null,
            "height": null,
            "min_height": null,
            "padding": null,
            "grid_auto_rows": null,
            "grid_gap": null,
            "max_width": null,
            "order": null,
            "_view_module_version": "1.2.0",
            "grid_template_areas": null,
            "object_position": null,
            "object_fit": null,
            "grid_auto_columns": null,
            "margin": null,
            "display": null,
            "left": null
          }
        },
        "1c6cbb73be694875821911839f5664fe": {
          "model_module": "@jupyter-widgets/controls",
          "model_name": "HBoxModel",
          "state": {
            "_view_name": "HBoxView",
            "_dom_classes": [],
            "_model_name": "HBoxModel",
            "_view_module": "@jupyter-widgets/controls",
            "_model_module_version": "1.5.0",
            "_view_count": null,
            "_view_module_version": "1.5.0",
            "box_style": "",
            "layout": "IPY_MODEL_3553813aff1449cfa4a08c8030a089a2",
            "_model_module": "@jupyter-widgets/controls",
            "children": [
              "IPY_MODEL_b1db1799832a4515aa8b0d17aaf47671",
              "IPY_MODEL_418114b96b53402f9aa52831371bf759"
            ]
          }
        },
        "3553813aff1449cfa4a08c8030a089a2": {
          "model_module": "@jupyter-widgets/base",
          "model_name": "LayoutModel",
          "state": {
            "_view_name": "LayoutView",
            "grid_template_rows": null,
            "right": null,
            "justify_content": null,
            "_view_module": "@jupyter-widgets/base",
            "overflow": null,
            "_model_module_version": "1.2.0",
            "_view_count": null,
            "flex_flow": null,
            "width": null,
            "min_width": null,
            "border": null,
            "align_items": null,
            "bottom": null,
            "_model_module": "@jupyter-widgets/base",
            "top": null,
            "grid_column": null,
            "overflow_y": null,
            "overflow_x": null,
            "grid_auto_flow": null,
            "grid_area": null,
            "grid_template_columns": null,
            "flex": null,
            "_model_name": "LayoutModel",
            "justify_items": null,
            "grid_row": null,
            "max_height": null,
            "align_content": null,
            "visibility": null,
            "align_self": null,
            "height": null,
            "min_height": null,
            "padding": null,
            "grid_auto_rows": null,
            "grid_gap": null,
            "max_width": null,
            "order": null,
            "_view_module_version": "1.2.0",
            "grid_template_areas": null,
            "object_position": null,
            "object_fit": null,
            "grid_auto_columns": null,
            "margin": null,
            "display": null,
            "left": null
          }
        },
        "b1db1799832a4515aa8b0d17aaf47671": {
          "model_module": "@jupyter-widgets/controls",
          "model_name": "FloatProgressModel",
          "state": {
            "_view_name": "ProgressView",
            "style": "IPY_MODEL_aef101c3aaa74d2fb26ce72458ca5882",
            "_dom_classes": [],
            "description": "Downloading: 100%",
            "_model_name": "FloatProgressModel",
            "bar_style": "success",
            "max": 82,
            "_view_module": "@jupyter-widgets/controls",
            "_model_module_version": "1.5.0",
            "value": 82,
            "_view_count": null,
            "_view_module_version": "1.5.0",
            "orientation": "horizontal",
            "min": 0,
            "description_tooltip": null,
            "_model_module": "@jupyter-widgets/controls",
            "layout": "IPY_MODEL_fd00284b9c5f4a8a947fda3400485f92"
          }
        },
        "418114b96b53402f9aa52831371bf759": {
          "model_module": "@jupyter-widgets/controls",
          "model_name": "HTMLModel",
          "state": {
            "_view_name": "HTMLView",
            "style": "IPY_MODEL_236a13cdbb454c178ef71622544c6dd4",
            "_dom_classes": [],
            "description": "",
            "_model_name": "HTMLModel",
            "placeholder": "​",
            "_view_module": "@jupyter-widgets/controls",
            "_model_module_version": "1.5.0",
            "value": " 82.0/82.0 [00:18&lt;00:00, 4.43B/s]",
            "_view_count": null,
            "_view_module_version": "1.5.0",
            "description_tooltip": null,
            "_model_module": "@jupyter-widgets/controls",
            "layout": "IPY_MODEL_de01907d860b4700bc323d88c697b1bc"
          }
        },
        "aef101c3aaa74d2fb26ce72458ca5882": {
          "model_module": "@jupyter-widgets/controls",
          "model_name": "ProgressStyleModel",
          "state": {
            "_view_name": "StyleView",
            "_model_name": "ProgressStyleModel",
            "description_width": "initial",
            "_view_module": "@jupyter-widgets/base",
            "_model_module_version": "1.5.0",
            "_view_count": null,
            "_view_module_version": "1.2.0",
            "bar_color": null,
            "_model_module": "@jupyter-widgets/controls"
          }
        },
        "fd00284b9c5f4a8a947fda3400485f92": {
          "model_module": "@jupyter-widgets/base",
          "model_name": "LayoutModel",
          "state": {
            "_view_name": "LayoutView",
            "grid_template_rows": null,
            "right": null,
            "justify_content": null,
            "_view_module": "@jupyter-widgets/base",
            "overflow": null,
            "_model_module_version": "1.2.0",
            "_view_count": null,
            "flex_flow": null,
            "width": null,
            "min_width": null,
            "border": null,
            "align_items": null,
            "bottom": null,
            "_model_module": "@jupyter-widgets/base",
            "top": null,
            "grid_column": null,
            "overflow_y": null,
            "overflow_x": null,
            "grid_auto_flow": null,
            "grid_area": null,
            "grid_template_columns": null,
            "flex": null,
            "_model_name": "LayoutModel",
            "justify_items": null,
            "grid_row": null,
            "max_height": null,
            "align_content": null,
            "visibility": null,
            "align_self": null,
            "height": null,
            "min_height": null,
            "padding": null,
            "grid_auto_rows": null,
            "grid_gap": null,
            "max_width": null,
            "order": null,
            "_view_module_version": "1.2.0",
            "grid_template_areas": null,
            "object_position": null,
            "object_fit": null,
            "grid_auto_columns": null,
            "margin": null,
            "display": null,
            "left": null
          }
        },
        "236a13cdbb454c178ef71622544c6dd4": {
          "model_module": "@jupyter-widgets/controls",
          "model_name": "DescriptionStyleModel",
          "state": {
            "_view_name": "StyleView",
            "_model_name": "DescriptionStyleModel",
            "description_width": "",
            "_view_module": "@jupyter-widgets/base",
            "_model_module_version": "1.5.0",
            "_view_count": null,
            "_view_module_version": "1.2.0",
            "_model_module": "@jupyter-widgets/controls"
          }
        },
        "de01907d860b4700bc323d88c697b1bc": {
          "model_module": "@jupyter-widgets/base",
          "model_name": "LayoutModel",
          "state": {
            "_view_name": "LayoutView",
            "grid_template_rows": null,
            "right": null,
            "justify_content": null,
            "_view_module": "@jupyter-widgets/base",
            "overflow": null,
            "_model_module_version": "1.2.0",
            "_view_count": null,
            "flex_flow": null,
            "width": null,
            "min_width": null,
            "border": null,
            "align_items": null,
            "bottom": null,
            "_model_module": "@jupyter-widgets/base",
            "top": null,
            "grid_column": null,
            "overflow_y": null,
            "overflow_x": null,
            "grid_auto_flow": null,
            "grid_area": null,
            "grid_template_columns": null,
            "flex": null,
            "_model_name": "LayoutModel",
            "justify_items": null,
            "grid_row": null,
            "max_height": null,
            "align_content": null,
            "visibility": null,
            "align_self": null,
            "height": null,
            "min_height": null,
            "padding": null,
            "grid_auto_rows": null,
            "grid_gap": null,
            "max_width": null,
            "order": null,
            "_view_module_version": "1.2.0",
            "grid_template_areas": null,
            "object_position": null,
            "object_fit": null,
            "grid_auto_columns": null,
            "margin": null,
            "display": null,
            "left": null
          }
        }
      }
    }
  },
  "cells": [
    {
      "cell_type": "code",
      "metadata": {
        "colab": {
          "base_uri": "https://localhost:8080/"
        },
        "id": "C8icGlyreD3-",
        "outputId": "6ff77ba1-b59a-41bf-d85c-c882ca20d1b9"
      },
      "source": [
        "gpu_info = !nvidia-smi\n",
        "gpu_info = '\\n'.join(gpu_info)\n",
        "if gpu_info.find('failed') >= 0:\n",
        "  print('Select the Runtime > \"Change runtime type\" menu to enable a GPU accelerator, ')\n",
        "  print('and then re-execute this cell.')\n",
        "else:\n",
        "  print(gpu_info)"
      ],
      "execution_count": null,
      "outputs": [
        {
          "output_type": "stream",
          "text": [
            "Tue Mar 23 14:57:22 2021       \n",
            "+-----------------------------------------------------------------------------+\n",
            "| NVIDIA-SMI 460.56       Driver Version: 460.32.03    CUDA Version: 11.2     |\n",
            "|-------------------------------+----------------------+----------------------+\n",
            "| GPU  Name        Persistence-M| Bus-Id        Disp.A | Volatile Uncorr. ECC |\n",
            "| Fan  Temp  Perf  Pwr:Usage/Cap|         Memory-Usage | GPU-Util  Compute M. |\n",
            "|                               |                      |               MIG M. |\n",
            "|===============================+======================+======================|\n",
            "|   0  Tesla V100-SXM2...  Off  | 00000000:00:04.0 Off |                    0 |\n",
            "| N/A   33C    P0    24W / 300W |      0MiB / 16160MiB |      0%      Default |\n",
            "|                               |                      |                  N/A |\n",
            "+-------------------------------+----------------------+----------------------+\n",
            "                                                                               \n",
            "+-----------------------------------------------------------------------------+\n",
            "| Processes:                                                                  |\n",
            "|  GPU   GI   CI        PID   Type   Process name                  GPU Memory |\n",
            "|        ID   ID                                                   Usage      |\n",
            "|=============================================================================|\n",
            "|  No running processes found                                                 |\n",
            "+-----------------------------------------------------------------------------+\n"
          ],
          "name": "stdout"
        }
      ]
    },
    {
      "cell_type": "code",
      "metadata": {
        "id": "wkunjiR3eJrw",
        "colab": {
          "base_uri": "https://localhost:8080/"
        },
        "outputId": "ed121584-6a52-4980-d8f2-992e0970858f"
      },
      "source": [
        "from google.colab import drive\n",
        "drive.mount('/content/drive')"
      ],
      "execution_count": null,
      "outputs": [
        {
          "output_type": "stream",
          "text": [
            "Mounted at /content/drive\n"
          ],
          "name": "stdout"
        }
      ]
    },
    {
      "cell_type": "code",
      "metadata": {
        "id": "sswZYzg0eJv8",
        "colab": {
          "base_uri": "https://localhost:8080/"
        },
        "outputId": "cbb94723-e418-49c3-b40d-826c4a88a4dc"
      },
      "source": [
        "!pip install transformers\n",
        "!pip install spacy \n",
        "!pip install sentencepiece\n",
        "!pip install langdetect\n",
        "!pip install pytorch-lightning\n",
        "!pip install fasttext\n",
        "!pip3 uninstall googletrans\n",
        "!pip install google_trans_new\n",
        "!pip install dl-translate"
      ],
      "execution_count": null,
      "outputs": [
        {
          "output_type": "stream",
          "text": [
            "Collecting transformers\n",
            "\u001b[?25l  Downloading https://files.pythonhosted.org/packages/ed/d5/f4157a376b8a79489a76ce6cfe147f4f3be1e029b7144fa7b8432e8acb26/transformers-4.4.2-py3-none-any.whl (2.0MB)\n",
            "\u001b[K     |████████████████████████████████| 2.0MB 13.8MB/s \n",
            "\u001b[?25hRequirement already satisfied: filelock in /usr/local/lib/python3.7/dist-packages (from transformers) (3.0.12)\n",
            "Requirement already satisfied: packaging in /usr/local/lib/python3.7/dist-packages (from transformers) (20.9)\n",
            "Requirement already satisfied: importlib-metadata; python_version < \"3.8\" in /usr/local/lib/python3.7/dist-packages (from transformers) (3.7.2)\n",
            "Collecting tokenizers<0.11,>=0.10.1\n",
            "\u001b[?25l  Downloading https://files.pythonhosted.org/packages/71/23/2ddc317b2121117bf34dd00f5b0de194158f2a44ee2bf5e47c7166878a97/tokenizers-0.10.1-cp37-cp37m-manylinux2010_x86_64.whl (3.2MB)\n",
            "\u001b[K     |████████████████████████████████| 3.2MB 62.1MB/s \n",
            "\u001b[?25hRequirement already satisfied: requests in /usr/local/lib/python3.7/dist-packages (from transformers) (2.23.0)\n",
            "Requirement already satisfied: numpy>=1.17 in /usr/local/lib/python3.7/dist-packages (from transformers) (1.19.5)\n",
            "Collecting sacremoses\n",
            "\u001b[?25l  Downloading https://files.pythonhosted.org/packages/7d/34/09d19aff26edcc8eb2a01bed8e98f13a1537005d31e95233fd48216eed10/sacremoses-0.0.43.tar.gz (883kB)\n",
            "\u001b[K     |████████████████████████████████| 890kB 55.2MB/s \n",
            "\u001b[?25hRequirement already satisfied: tqdm>=4.27 in /usr/local/lib/python3.7/dist-packages (from transformers) (4.41.1)\n",
            "Requirement already satisfied: regex!=2019.12.17 in /usr/local/lib/python3.7/dist-packages (from transformers) (2019.12.20)\n",
            "Requirement already satisfied: pyparsing>=2.0.2 in /usr/local/lib/python3.7/dist-packages (from packaging->transformers) (2.4.7)\n",
            "Requirement already satisfied: zipp>=0.5 in /usr/local/lib/python3.7/dist-packages (from importlib-metadata; python_version < \"3.8\"->transformers) (3.4.1)\n",
            "Requirement already satisfied: typing-extensions>=3.6.4; python_version < \"3.8\" in /usr/local/lib/python3.7/dist-packages (from importlib-metadata; python_version < \"3.8\"->transformers) (3.7.4.3)\n",
            "Requirement already satisfied: certifi>=2017.4.17 in /usr/local/lib/python3.7/dist-packages (from requests->transformers) (2020.12.5)\n",
            "Requirement already satisfied: idna<3,>=2.5 in /usr/local/lib/python3.7/dist-packages (from requests->transformers) (2.10)\n",
            "Requirement already satisfied: urllib3!=1.25.0,!=1.25.1,<1.26,>=1.21.1 in /usr/local/lib/python3.7/dist-packages (from requests->transformers) (1.24.3)\n",
            "Requirement already satisfied: chardet<4,>=3.0.2 in /usr/local/lib/python3.7/dist-packages (from requests->transformers) (3.0.4)\n",
            "Requirement already satisfied: six in /usr/local/lib/python3.7/dist-packages (from sacremoses->transformers) (1.15.0)\n",
            "Requirement already satisfied: click in /usr/local/lib/python3.7/dist-packages (from sacremoses->transformers) (7.1.2)\n",
            "Requirement already satisfied: joblib in /usr/local/lib/python3.7/dist-packages (from sacremoses->transformers) (1.0.1)\n",
            "Building wheels for collected packages: sacremoses\n",
            "  Building wheel for sacremoses (setup.py) ... \u001b[?25l\u001b[?25hdone\n",
            "  Created wheel for sacremoses: filename=sacremoses-0.0.43-cp37-none-any.whl size=893262 sha256=dcc1ee6cd49aba8fad06b07700b20ed5d54b3d2e5d4f305458b191e740c71dee\n",
            "  Stored in directory: /root/.cache/pip/wheels/29/3c/fd/7ce5c3f0666dab31a50123635e6fb5e19ceb42ce38d4e58f45\n",
            "Successfully built sacremoses\n",
            "Installing collected packages: tokenizers, sacremoses, transformers\n",
            "Successfully installed sacremoses-0.0.43 tokenizers-0.10.1 transformers-4.4.2\n",
            "Requirement already satisfied: spacy in /usr/local/lib/python3.7/dist-packages (2.2.4)\n",
            "Requirement already satisfied: setuptools in /usr/local/lib/python3.7/dist-packages (from spacy) (54.1.2)\n",
            "Requirement already satisfied: thinc==7.4.0 in /usr/local/lib/python3.7/dist-packages (from spacy) (7.4.0)\n",
            "Requirement already satisfied: requests<3.0.0,>=2.13.0 in /usr/local/lib/python3.7/dist-packages (from spacy) (2.23.0)\n",
            "Requirement already satisfied: numpy>=1.15.0 in /usr/local/lib/python3.7/dist-packages (from spacy) (1.19.5)\n",
            "Requirement already satisfied: blis<0.5.0,>=0.4.0 in /usr/local/lib/python3.7/dist-packages (from spacy) (0.4.1)\n",
            "Requirement already satisfied: srsly<1.1.0,>=1.0.2 in /usr/local/lib/python3.7/dist-packages (from spacy) (1.0.5)\n",
            "Requirement already satisfied: tqdm<5.0.0,>=4.38.0 in /usr/local/lib/python3.7/dist-packages (from spacy) (4.41.1)\n",
            "Requirement already satisfied: wasabi<1.1.0,>=0.4.0 in /usr/local/lib/python3.7/dist-packages (from spacy) (0.8.2)\n",
            "Requirement already satisfied: catalogue<1.1.0,>=0.0.7 in /usr/local/lib/python3.7/dist-packages (from spacy) (1.0.0)\n",
            "Requirement already satisfied: cymem<2.1.0,>=2.0.2 in /usr/local/lib/python3.7/dist-packages (from spacy) (2.0.5)\n",
            "Requirement already satisfied: murmurhash<1.1.0,>=0.28.0 in /usr/local/lib/python3.7/dist-packages (from spacy) (1.0.5)\n",
            "Requirement already satisfied: plac<1.2.0,>=0.9.6 in /usr/local/lib/python3.7/dist-packages (from spacy) (1.1.3)\n",
            "Requirement already satisfied: preshed<3.1.0,>=3.0.2 in /usr/local/lib/python3.7/dist-packages (from spacy) (3.0.5)\n",
            "Requirement already satisfied: certifi>=2017.4.17 in /usr/local/lib/python3.7/dist-packages (from requests<3.0.0,>=2.13.0->spacy) (2020.12.5)\n",
            "Requirement already satisfied: urllib3!=1.25.0,!=1.25.1,<1.26,>=1.21.1 in /usr/local/lib/python3.7/dist-packages (from requests<3.0.0,>=2.13.0->spacy) (1.24.3)\n",
            "Requirement already satisfied: chardet<4,>=3.0.2 in /usr/local/lib/python3.7/dist-packages (from requests<3.0.0,>=2.13.0->spacy) (3.0.4)\n",
            "Requirement already satisfied: idna<3,>=2.5 in /usr/local/lib/python3.7/dist-packages (from requests<3.0.0,>=2.13.0->spacy) (2.10)\n",
            "Requirement already satisfied: importlib-metadata>=0.20; python_version < \"3.8\" in /usr/local/lib/python3.7/dist-packages (from catalogue<1.1.0,>=0.0.7->spacy) (3.7.2)\n",
            "Requirement already satisfied: typing-extensions>=3.6.4; python_version < \"3.8\" in /usr/local/lib/python3.7/dist-packages (from importlib-metadata>=0.20; python_version < \"3.8\"->catalogue<1.1.0,>=0.0.7->spacy) (3.7.4.3)\n",
            "Requirement already satisfied: zipp>=0.5 in /usr/local/lib/python3.7/dist-packages (from importlib-metadata>=0.20; python_version < \"3.8\"->catalogue<1.1.0,>=0.0.7->spacy) (3.4.1)\n",
            "Collecting sentencepiece\n",
            "\u001b[?25l  Downloading https://files.pythonhosted.org/packages/f5/99/e0808cb947ba10f575839c43e8fafc9cc44e4a7a2c8f79c60db48220a577/sentencepiece-0.1.95-cp37-cp37m-manylinux2014_x86_64.whl (1.2MB)\n",
            "\u001b[K     |████████████████████████████████| 1.2MB 14.3MB/s \n",
            "\u001b[?25hInstalling collected packages: sentencepiece\n",
            "Successfully installed sentencepiece-0.1.95\n",
            "Collecting langdetect\n",
            "\u001b[?25l  Downloading https://files.pythonhosted.org/packages/56/a3/8407c1e62d5980188b4acc45ef3d94b933d14a2ebc9ef3505f22cf772570/langdetect-1.0.8.tar.gz (981kB)\n",
            "\u001b[K     |████████████████████████████████| 983kB 15.4MB/s \n",
            "\u001b[?25hRequirement already satisfied: six in /usr/local/lib/python3.7/dist-packages (from langdetect) (1.15.0)\n",
            "Building wheels for collected packages: langdetect\n",
            "  Building wheel for langdetect (setup.py) ... \u001b[?25l\u001b[?25hdone\n",
            "  Created wheel for langdetect: filename=langdetect-1.0.8-cp37-none-any.whl size=993193 sha256=0c67648e9622db09bca200417fec888e3e4eb362fe462866643f5e870859d780\n",
            "  Stored in directory: /root/.cache/pip/wheels/8d/b3/aa/6d99de9f3841d7d3d40a60ea06e6d669e8e5012e6c8b947a57\n",
            "Successfully built langdetect\n",
            "Installing collected packages: langdetect\n",
            "Successfully installed langdetect-1.0.8\n",
            "Collecting pytorch-lightning\n",
            "\u001b[?25l  Downloading https://files.pythonhosted.org/packages/3c/9e/ddf2230626f5a56238d01a0739c62243170db1b136f8e0697db4402bec6d/pytorch_lightning-1.2.4-py3-none-any.whl (829kB)\n",
            "\u001b[K     |████████████████████████████████| 829kB 16.2MB/s \n",
            "\u001b[?25hRequirement already satisfied: numpy>=1.16.6 in /usr/local/lib/python3.7/dist-packages (from pytorch-lightning) (1.19.5)\n",
            "Collecting future>=0.17.1\n",
            "\u001b[?25l  Downloading https://files.pythonhosted.org/packages/45/0b/38b06fd9b92dc2b68d58b75f900e97884c45bedd2ff83203d933cf5851c9/future-0.18.2.tar.gz (829kB)\n",
            "\u001b[K     |████████████████████████████████| 829kB 32.1MB/s \n",
            "\u001b[?25hCollecting PyYAML!=5.4.*,>=5.1\n",
            "\u001b[?25l  Downloading https://files.pythonhosted.org/packages/64/c2/b80047c7ac2478f9501676c988a5411ed5572f35d1beff9cae07d321512c/PyYAML-5.3.1.tar.gz (269kB)\n",
            "\u001b[K     |████████████████████████████████| 276kB 59.9MB/s \n",
            "\u001b[?25hRequirement already satisfied: tensorboard>=2.2.0 in /usr/local/lib/python3.7/dist-packages (from pytorch-lightning) (2.4.1)\n",
            "Requirement already satisfied: tqdm>=4.41.0 in /usr/local/lib/python3.7/dist-packages (from pytorch-lightning) (4.41.1)\n",
            "Requirement already satisfied: torch>=1.4 in /usr/local/lib/python3.7/dist-packages (from pytorch-lightning) (1.8.0+cu101)\n",
            "Collecting fsspec[http]>=0.8.1\n",
            "\u001b[?25l  Downloading https://files.pythonhosted.org/packages/91/0d/a6bfee0ddf47b254286b9bd574e6f50978c69897647ae15b14230711806e/fsspec-0.8.7-py3-none-any.whl (103kB)\n",
            "\u001b[K     |████████████████████████████████| 112kB 64.4MB/s \n",
            "\u001b[?25hRequirement already satisfied: tensorboard-plugin-wit>=1.6.0 in /usr/local/lib/python3.7/dist-packages (from tensorboard>=2.2.0->pytorch-lightning) (1.8.0)\n",
            "Requirement already satisfied: six>=1.10.0 in /usr/local/lib/python3.7/dist-packages (from tensorboard>=2.2.0->pytorch-lightning) (1.15.0)\n",
            "Requirement already satisfied: setuptools>=41.0.0 in /usr/local/lib/python3.7/dist-packages (from tensorboard>=2.2.0->pytorch-lightning) (54.1.2)\n",
            "Requirement already satisfied: grpcio>=1.24.3 in /usr/local/lib/python3.7/dist-packages (from tensorboard>=2.2.0->pytorch-lightning) (1.32.0)\n",
            "Requirement already satisfied: google-auth<2,>=1.6.3 in /usr/local/lib/python3.7/dist-packages (from tensorboard>=2.2.0->pytorch-lightning) (1.27.1)\n",
            "Requirement already satisfied: absl-py>=0.4 in /usr/local/lib/python3.7/dist-packages (from tensorboard>=2.2.0->pytorch-lightning) (0.10.0)\n",
            "Requirement already satisfied: werkzeug>=0.11.15 in /usr/local/lib/python3.7/dist-packages (from tensorboard>=2.2.0->pytorch-lightning) (1.0.1)\n",
            "Requirement already satisfied: markdown>=2.6.8 in /usr/local/lib/python3.7/dist-packages (from tensorboard>=2.2.0->pytorch-lightning) (3.3.4)\n",
            "Requirement already satisfied: wheel>=0.26; python_version >= \"3\" in /usr/local/lib/python3.7/dist-packages (from tensorboard>=2.2.0->pytorch-lightning) (0.36.2)\n",
            "Requirement already satisfied: google-auth-oauthlib<0.5,>=0.4.1 in /usr/local/lib/python3.7/dist-packages (from tensorboard>=2.2.0->pytorch-lightning) (0.4.3)\n",
            "Requirement already satisfied: requests<3,>=2.21.0 in /usr/local/lib/python3.7/dist-packages (from tensorboard>=2.2.0->pytorch-lightning) (2.23.0)\n",
            "Requirement already satisfied: protobuf>=3.6.0 in /usr/local/lib/python3.7/dist-packages (from tensorboard>=2.2.0->pytorch-lightning) (3.12.4)\n",
            "Requirement already satisfied: typing-extensions in /usr/local/lib/python3.7/dist-packages (from torch>=1.4->pytorch-lightning) (3.7.4.3)\n",
            "Requirement already satisfied: importlib-metadata; python_version < \"3.8\" in /usr/local/lib/python3.7/dist-packages (from fsspec[http]>=0.8.1->pytorch-lightning) (3.7.2)\n",
            "Collecting aiohttp; extra == \"http\"\n",
            "\u001b[?25l  Downloading https://files.pythonhosted.org/packages/88/c0/5890b4c8b04a79b7360e8fe4490feb0bb3ab179743f199f0e6220cebd568/aiohttp-3.7.4.post0-cp37-cp37m-manylinux2014_x86_64.whl (1.3MB)\n",
            "\u001b[K     |████████████████████████████████| 1.3MB 64.2MB/s \n",
            "\u001b[?25hRequirement already satisfied: rsa<5,>=3.1.4; python_version >= \"3.6\" in /usr/local/lib/python3.7/dist-packages (from google-auth<2,>=1.6.3->tensorboard>=2.2.0->pytorch-lightning) (4.7.2)\n",
            "Requirement already satisfied: pyasn1-modules>=0.2.1 in /usr/local/lib/python3.7/dist-packages (from google-auth<2,>=1.6.3->tensorboard>=2.2.0->pytorch-lightning) (0.2.8)\n",
            "Requirement already satisfied: cachetools<5.0,>=2.0.0 in /usr/local/lib/python3.7/dist-packages (from google-auth<2,>=1.6.3->tensorboard>=2.2.0->pytorch-lightning) (4.2.1)\n",
            "Requirement already satisfied: requests-oauthlib>=0.7.0 in /usr/local/lib/python3.7/dist-packages (from google-auth-oauthlib<0.5,>=0.4.1->tensorboard>=2.2.0->pytorch-lightning) (1.3.0)\n",
            "Requirement already satisfied: urllib3!=1.25.0,!=1.25.1,<1.26,>=1.21.1 in /usr/local/lib/python3.7/dist-packages (from requests<3,>=2.21.0->tensorboard>=2.2.0->pytorch-lightning) (1.24.3)\n",
            "Requirement already satisfied: certifi>=2017.4.17 in /usr/local/lib/python3.7/dist-packages (from requests<3,>=2.21.0->tensorboard>=2.2.0->pytorch-lightning) (2020.12.5)\n",
            "Requirement already satisfied: idna<3,>=2.5 in /usr/local/lib/python3.7/dist-packages (from requests<3,>=2.21.0->tensorboard>=2.2.0->pytorch-lightning) (2.10)\n",
            "Requirement already satisfied: chardet<4,>=3.0.2 in /usr/local/lib/python3.7/dist-packages (from requests<3,>=2.21.0->tensorboard>=2.2.0->pytorch-lightning) (3.0.4)\n",
            "Requirement already satisfied: zipp>=0.5 in /usr/local/lib/python3.7/dist-packages (from importlib-metadata; python_version < \"3.8\"->fsspec[http]>=0.8.1->pytorch-lightning) (3.4.1)\n",
            "Collecting async-timeout<4.0,>=3.0\n",
            "  Downloading https://files.pythonhosted.org/packages/e1/1e/5a4441be21b0726c4464f3f23c8b19628372f606755a9d2e46c187e65ec4/async_timeout-3.0.1-py3-none-any.whl\n",
            "Requirement already satisfied: attrs>=17.3.0 in /usr/local/lib/python3.7/dist-packages (from aiohttp; extra == \"http\"->fsspec[http]>=0.8.1->pytorch-lightning) (20.3.0)\n",
            "Collecting multidict<7.0,>=4.5\n",
            "\u001b[?25l  Downloading https://files.pythonhosted.org/packages/7c/a6/4123b8165acbe773d1a8dc8e3f0d1edea16d29f7de018eda769abb56bd30/multidict-5.1.0-cp37-cp37m-manylinux2014_x86_64.whl (142kB)\n",
            "\u001b[K     |████████████████████████████████| 143kB 55.9MB/s \n",
            "\u001b[?25hCollecting yarl<2.0,>=1.0\n",
            "\u001b[?25l  Downloading https://files.pythonhosted.org/packages/f1/62/046834c5fc998c88ab2ef722f5d42122230a632212c8afa76418324f53ff/yarl-1.6.3-cp37-cp37m-manylinux2014_x86_64.whl (294kB)\n",
            "\u001b[K     |████████████████████████████████| 296kB 61.1MB/s \n",
            "\u001b[?25hRequirement already satisfied: pyasn1>=0.1.3 in /usr/local/lib/python3.7/dist-packages (from rsa<5,>=3.1.4; python_version >= \"3.6\"->google-auth<2,>=1.6.3->tensorboard>=2.2.0->pytorch-lightning) (0.4.8)\n",
            "Requirement already satisfied: oauthlib>=3.0.0 in /usr/local/lib/python3.7/dist-packages (from requests-oauthlib>=0.7.0->google-auth-oauthlib<0.5,>=0.4.1->tensorboard>=2.2.0->pytorch-lightning) (3.1.0)\n",
            "Building wheels for collected packages: future, PyYAML\n",
            "  Building wheel for future (setup.py) ... \u001b[?25l\u001b[?25hdone\n",
            "  Created wheel for future: filename=future-0.18.2-cp37-none-any.whl size=491058 sha256=34ab18c60253196eab3908a4651db24fbff3adc3a52a6a49fc69dc62f276c764\n",
            "  Stored in directory: /root/.cache/pip/wheels/8b/99/a0/81daf51dcd359a9377b110a8a886b3895921802d2fc1b2397e\n",
            "  Building wheel for PyYAML (setup.py) ... \u001b[?25l\u001b[?25hdone\n",
            "  Created wheel for PyYAML: filename=PyYAML-5.3.1-cp37-cp37m-linux_x86_64.whl size=44620 sha256=eaab222a4b53e3027929e3fc355ba1679a7596d19e923a735e825f3c3f424258\n",
            "  Stored in directory: /root/.cache/pip/wheels/a7/c1/ea/cf5bd31012e735dc1dfea3131a2d5eae7978b251083d6247bd\n",
            "Successfully built future PyYAML\n",
            "Installing collected packages: future, PyYAML, async-timeout, multidict, yarl, aiohttp, fsspec, pytorch-lightning\n",
            "  Found existing installation: future 0.16.0\n",
            "    Uninstalling future-0.16.0:\n",
            "      Successfully uninstalled future-0.16.0\n",
            "  Found existing installation: PyYAML 3.13\n",
            "    Uninstalling PyYAML-3.13:\n",
            "      Successfully uninstalled PyYAML-3.13\n",
            "Successfully installed PyYAML-5.3.1 aiohttp-3.7.4.post0 async-timeout-3.0.1 fsspec-0.8.7 future-0.18.2 multidict-5.1.0 pytorch-lightning-1.2.4 yarl-1.6.3\n",
            "Collecting fasttext\n",
            "\u001b[?25l  Downloading https://files.pythonhosted.org/packages/f8/85/e2b368ab6d3528827b147fdb814f8189acc981a4bc2f99ab894650e05c40/fasttext-0.9.2.tar.gz (68kB)\n",
            "\u001b[K     |████████████████████████████████| 71kB 6.5MB/s \n",
            "\u001b[?25hRequirement already satisfied: pybind11>=2.2 in /usr/local/lib/python3.7/dist-packages (from fasttext) (2.6.2)\n",
            "Requirement already satisfied: setuptools>=0.7.0 in /usr/local/lib/python3.7/dist-packages (from fasttext) (54.1.2)\n",
            "Requirement already satisfied: numpy in /usr/local/lib/python3.7/dist-packages (from fasttext) (1.19.5)\n",
            "Building wheels for collected packages: fasttext\n",
            "  Building wheel for fasttext (setup.py) ... \u001b[?25l\u001b[?25hdone\n",
            "  Created wheel for fasttext: filename=fasttext-0.9.2-cp37-cp37m-linux_x86_64.whl size=3095386 sha256=d591b4b09775a93e3785fb66e4b5bee0f391c7127ea0bbdfc2a80d22f56b2290\n",
            "  Stored in directory: /root/.cache/pip/wheels/98/ba/7f/b154944a1cf5a8cee91c154b75231136cc3a3321ab0e30f592\n",
            "Successfully built fasttext\n",
            "Installing collected packages: fasttext\n",
            "Successfully installed fasttext-0.9.2\n",
            "\u001b[33mWARNING: Skipping googletrans as it is not installed.\u001b[0m\n",
            "Collecting google_trans_new\n",
            "  Downloading https://files.pythonhosted.org/packages/f9/7b/9f136106dc5824dc98185c97991d3cd9b53e70a197154dd49f7b899128f6/google_trans_new-1.1.9-py3-none-any.whl\n",
            "Installing collected packages: google-trans-new\n",
            "Successfully installed google-trans-new-1.1.9\n",
            "Collecting dl-translate\n",
            "  Downloading https://files.pythonhosted.org/packages/19/9b/681a4a47d34b8e60a566a30a29f77560c087549b1287bb82eac7c5e799f4/dl_translate-0.1.0-py3-none-any.whl\n",
            "Requirement already satisfied: protobuf in /usr/local/lib/python3.7/dist-packages (from dl-translate) (3.12.4)\n",
            "Requirement already satisfied: torch in /usr/local/lib/python3.7/dist-packages (from dl-translate) (1.8.0+cu101)\n",
            "Requirement already satisfied: sentencepiece in /usr/local/lib/python3.7/dist-packages (from dl-translate) (0.1.95)\n",
            "Requirement already satisfied: transformers>=4.4.0 in /usr/local/lib/python3.7/dist-packages (from dl-translate) (4.4.2)\n",
            "Requirement already satisfied: tqdm in /usr/local/lib/python3.7/dist-packages (from dl-translate) (4.41.1)\n",
            "Requirement already satisfied: six>=1.9 in /usr/local/lib/python3.7/dist-packages (from protobuf->dl-translate) (1.15.0)\n",
            "Requirement already satisfied: setuptools in /usr/local/lib/python3.7/dist-packages (from protobuf->dl-translate) (54.1.2)\n",
            "Requirement already satisfied: numpy in /usr/local/lib/python3.7/dist-packages (from torch->dl-translate) (1.19.5)\n",
            "Requirement already satisfied: typing-extensions in /usr/local/lib/python3.7/dist-packages (from torch->dl-translate) (3.7.4.3)\n",
            "Requirement already satisfied: regex!=2019.12.17 in /usr/local/lib/python3.7/dist-packages (from transformers>=4.4.0->dl-translate) (2019.12.20)\n",
            "Requirement already satisfied: filelock in /usr/local/lib/python3.7/dist-packages (from transformers>=4.4.0->dl-translate) (3.0.12)\n",
            "Requirement already satisfied: requests in /usr/local/lib/python3.7/dist-packages (from transformers>=4.4.0->dl-translate) (2.23.0)\n",
            "Requirement already satisfied: importlib-metadata; python_version < \"3.8\" in /usr/local/lib/python3.7/dist-packages (from transformers>=4.4.0->dl-translate) (3.7.2)\n",
            "Requirement already satisfied: packaging in /usr/local/lib/python3.7/dist-packages (from transformers>=4.4.0->dl-translate) (20.9)\n",
            "Requirement already satisfied: tokenizers<0.11,>=0.10.1 in /usr/local/lib/python3.7/dist-packages (from transformers>=4.4.0->dl-translate) (0.10.1)\n",
            "Requirement already satisfied: sacremoses in /usr/local/lib/python3.7/dist-packages (from transformers>=4.4.0->dl-translate) (0.0.43)\n",
            "Requirement already satisfied: certifi>=2017.4.17 in /usr/local/lib/python3.7/dist-packages (from requests->transformers>=4.4.0->dl-translate) (2020.12.5)\n",
            "Requirement already satisfied: chardet<4,>=3.0.2 in /usr/local/lib/python3.7/dist-packages (from requests->transformers>=4.4.0->dl-translate) (3.0.4)\n",
            "Requirement already satisfied: urllib3!=1.25.0,!=1.25.1,<1.26,>=1.21.1 in /usr/local/lib/python3.7/dist-packages (from requests->transformers>=4.4.0->dl-translate) (1.24.3)\n",
            "Requirement already satisfied: idna<3,>=2.5 in /usr/local/lib/python3.7/dist-packages (from requests->transformers>=4.4.0->dl-translate) (2.10)\n",
            "Requirement already satisfied: zipp>=0.5 in /usr/local/lib/python3.7/dist-packages (from importlib-metadata; python_version < \"3.8\"->transformers>=4.4.0->dl-translate) (3.4.1)\n",
            "Requirement already satisfied: pyparsing>=2.0.2 in /usr/local/lib/python3.7/dist-packages (from packaging->transformers>=4.4.0->dl-translate) (2.4.7)\n",
            "Requirement already satisfied: joblib in /usr/local/lib/python3.7/dist-packages (from sacremoses->transformers>=4.4.0->dl-translate) (1.0.1)\n",
            "Requirement already satisfied: click in /usr/local/lib/python3.7/dist-packages (from sacremoses->transformers>=4.4.0->dl-translate) (7.1.2)\n",
            "Installing collected packages: dl-translate\n",
            "Successfully installed dl-translate-0.1.0\n"
          ],
          "name": "stdout"
        }
      ]
    },
    {
      "cell_type": "code",
      "metadata": {
        "id": "rcpFRZehZiBG"
      },
      "source": [
        "import numpy as np\n",
        "import pandas as pd\n",
        "import fnmatch\n",
        "import os\n",
        "import fasttext\n",
        "import random\n",
        "import re\n",
        "import threading\n",
        "import librosa,librosa.display\n",
        "import tensorflow as tf\n",
        "from six.moves import xrange\n",
        "import time\n",
        "import json\n",
        "import torch as t\n",
        "import tqdm\n",
        "import soundfile\n",
        "import matplotlib.pyplot as plt\n",
        "from torch.utils.data import Dataset,DataLoader\n",
        "from torch.utils.data.distributed import DistributedSampler\n",
        "from time import sleep\n",
        "import torch.nn as nn\n",
        "import torch.nn.functional as F\n",
        "import math\n",
        "import pickle\n",
        "import functools\n",
        "import sentencepiece\n",
        "from google_trans_new import google_translator  \n"
      ],
      "execution_count": null,
      "outputs": []
    },
    {
      "cell_type": "code",
      "metadata": {
        "id": "2ZLVBmCxpmVs"
      },
      "source": [
        "translator = google_translator()  "
      ],
      "execution_count": null,
      "outputs": []
    },
    {
      "cell_type": "code",
      "metadata": {
        "id": "qoDEvDnbeD57"
      },
      "source": [
        "work_dir = '/content/drive/My Drive/Inter-IIT/'\n",
        "article_path = '/content/drive/My Drive/Inter-IIT/Development Data/dev_data_article.xlsx'\n",
        "tweet_path = '/content/drive/My Drive/Inter-IIT/Development Data/dev_data_tweet.xlsx'"
      ],
      "execution_count": null,
      "outputs": []
    },
    {
      "cell_type": "markdown",
      "metadata": {
        "id": "9nV_wioLn8wN"
      },
      "source": [
        "## **Data-processing**"
      ]
    },
    {
      "cell_type": "code",
      "metadata": {
        "id": "mbrR5o8feD7-"
      },
      "source": [
        "df_art = pd.DataFrame(pd.read_excel(article_path)) \n",
        "df_tweet = pd.DataFrame(pd.read_excel(tweet_path)) "
      ],
      "execution_count": null,
      "outputs": []
    },
    {
      "cell_type": "code",
      "metadata": {
        "id": "Vy1qodmxNBnB",
        "colab": {
          "base_uri": "https://localhost:8080/",
          "height": 35
        },
        "outputId": "167440c3-68ea-4c86-a119-a41f093b3723"
      },
      "source": [
        "df_art.iloc[2000].Headline"
      ],
      "execution_count": null,
      "outputs": [
        {
          "output_type": "execute_result",
          "data": {
            "application/vnd.google.colaboratory.intrinsic+json": {
              "type": "string"
            },
            "text/plain": [
              "'Gold Rate on 15 January 2021: लगातार गिरने के बाद संभला सोना, चांदी की कीमत में बड़ी गिरावट, जानें आज क भाव'"
            ]
          },
          "metadata": {
            "tags": []
          },
          "execution_count": 8
        }
      ]
    },
    {
      "cell_type": "code",
      "metadata": {
        "id": "TfWVipEceD-A",
        "colab": {
          "base_uri": "https://localhost:8080/",
          "height": 405
        },
        "outputId": "46165d18-504a-45d1-b45f-645691db2109"
      },
      "source": [
        "df_art.drop(['Text_ID'],axis = 1).drop(['Headline'],axis = 1)"
      ],
      "execution_count": null,
      "outputs": [
        {
          "output_type": "execute_result",
          "data": {
            "text/html": [
              "<div>\n",
              "<style scoped>\n",
              "    .dataframe tbody tr th:only-of-type {\n",
              "        vertical-align: middle;\n",
              "    }\n",
              "\n",
              "    .dataframe tbody tr th {\n",
              "        vertical-align: top;\n",
              "    }\n",
              "\n",
              "    .dataframe thead th {\n",
              "        text-align: right;\n",
              "    }\n",
              "</style>\n",
              "<table border=\"1\" class=\"dataframe\">\n",
              "  <thead>\n",
              "    <tr style=\"text-align: right;\">\n",
              "      <th></th>\n",
              "      <th>Text</th>\n",
              "      <th>Mobile_Tech_Flag</th>\n",
              "    </tr>\n",
              "  </thead>\n",
              "  <tbody>\n",
              "    <tr>\n",
              "      <th>0</th>\n",
              "      <td>Digitisation is one of the key buzzwords in th...</td>\n",
              "      <td>0</td>\n",
              "    </tr>\n",
              "    <tr>\n",
              "      <th>1</th>\n",
              "      <td>Increase in tolerance limit up to 120 per cent...</td>\n",
              "      <td>0</td>\n",
              "    </tr>\n",
              "    <tr>\n",
              "      <th>2</th>\n",
              "      <td>Home &gt; News &gt; World Sports News\\n\\nJonas Lossl...</td>\n",
              "      <td>0</td>\n",
              "    </tr>\n",
              "    <tr>\n",
              "      <th>3</th>\n",
              "      <td>Source: Agfax.com\\n\\nBy Keith Brown, DTN Contr...</td>\n",
              "      <td>0</td>\n",
              "    </tr>\n",
              "    <tr>\n",
              "      <th>4</th>\n",
              "      <td>United Nations, Feb 4: The Serum Institute of ...</td>\n",
              "      <td>0</td>\n",
              "    </tr>\n",
              "    <tr>\n",
              "      <th>...</th>\n",
              "      <td>...</td>\n",
              "      <td>...</td>\n",
              "    </tr>\n",
              "    <tr>\n",
              "      <th>3995</th>\n",
              "      <td>All Hindi Bloggers List with All Detail\\nMay 1...</td>\n",
              "      <td>0</td>\n",
              "    </tr>\n",
              "    <tr>\n",
              "      <th>3996</th>\n",
              "      <td>Amazon Flex se Part Time me Earn kare ₹15,000 ...</td>\n",
              "      <td>0</td>\n",
              "    </tr>\n",
              "    <tr>\n",
              "      <th>3997</th>\n",
              "      <td>Bad Link Building Strategies se Kaise Bachaye ...</td>\n",
              "      <td>0</td>\n",
              "    </tr>\n",
              "    <tr>\n",
              "      <th>3998</th>\n",
              "      <td>Badiya Comment karte Samay Rakhe in Baat ka Dh...</td>\n",
              "      <td>0</td>\n",
              "    </tr>\n",
              "    <tr>\n",
              "      <th>3999</th>\n",
              "      <td>Best Blogger Blog Theme का चुनाव कैसे करे ? [ ...</td>\n",
              "      <td>0</td>\n",
              "    </tr>\n",
              "  </tbody>\n",
              "</table>\n",
              "<p>4000 rows × 2 columns</p>\n",
              "</div>"
            ],
            "text/plain": [
              "                                                   Text  Mobile_Tech_Flag\n",
              "0     Digitisation is one of the key buzzwords in th...                 0\n",
              "1     Increase in tolerance limit up to 120 per cent...                 0\n",
              "2     Home > News > World Sports News\\n\\nJonas Lossl...                 0\n",
              "3     Source: Agfax.com\\n\\nBy Keith Brown, DTN Contr...                 0\n",
              "4     United Nations, Feb 4: The Serum Institute of ...                 0\n",
              "...                                                 ...               ...\n",
              "3995  All Hindi Bloggers List with All Detail\\nMay 1...                 0\n",
              "3996  Amazon Flex se Part Time me Earn kare ₹15,000 ...                 0\n",
              "3997  Bad Link Building Strategies se Kaise Bachaye ...                 0\n",
              "3998  Badiya Comment karte Samay Rakhe in Baat ka Dh...                 0\n",
              "3999  Best Blogger Blog Theme का चुनाव कैसे करे ? [ ...                 0\n",
              "\n",
              "[4000 rows x 2 columns]"
            ]
          },
          "metadata": {
            "tags": []
          },
          "execution_count": 9
        }
      ]
    },
    {
      "cell_type": "code",
      "metadata": {
        "id": "gojsKI6aeD_z",
        "colab": {
          "base_uri": "https://localhost:8080/"
        },
        "outputId": "7d7e8001-d8bb-42fb-fc04-638faa1a12bc"
      },
      "source": [
        "df_art['Mobile_Tech_Flag'].value_counts()             #Counting the labels "
      ],
      "execution_count": null,
      "outputs": [
        {
          "output_type": "execute_result",
          "data": {
            "text/plain": [
              "0    3026\n",
              "1     974\n",
              "Name: Mobile_Tech_Flag, dtype: int64"
            ]
          },
          "metadata": {
            "tags": []
          },
          "execution_count": 10
        }
      ]
    },
    {
      "cell_type": "markdown",
      "metadata": {
        "id": "ZdKDdp5OlHT5"
      },
      "source": [
        "# **XLM-Roberta-test**"
      ]
    },
    {
      "cell_type": "code",
      "metadata": {
        "id": "zE4pkF7mnqve"
      },
      "source": [
        "# from transformers import BertTokenizer\n",
        "\n",
        "# print(\"Loading the BERT tokenizer............\")\n",
        "# tokenizer = BertTokenizer.from_pretrained('bert-base-uncased',do_lower_case=True)"
      ],
      "execution_count": null,
      "outputs": []
    },
    {
      "cell_type": "code",
      "metadata": {
        "id": "S4OQRw7Rn7hJ",
        "colab": {
          "base_uri": "https://localhost:8080/",
          "height": 115,
          "referenced_widgets": [
            "2281bc2169904ab5bce03b34eb219101",
            "0faf3bcf4c21473f9a3011f5ceabde74",
            "00640911982b45fe911acd7fec4e57a2",
            "a000bb7e5475440e840bd7fb1cc514e2",
            "2b23ad497725459eac9f09c13c560745",
            "a171843c96fc4822bb5808ed444ff6c6",
            "5f40307971d44828a62239a2c1cf3745",
            "06d2e1633bdc40fcb5f3fd6c3065ebf9",
            "3df57484fbfe44c39377bc61f977e85d",
            "2b47e73addfc45828d80d3b2348e1418",
            "4f06f807d0104f669481cf78d20be9e1",
            "3580dda8c720422a8594771975c86fa8",
            "2023d111a19a46e6b878d72b90cf2384",
            "def8a66b7d724914a890ae9d4220676c",
            "089bfafeeaa34725b620b993069cab3c",
            "63ebda4e4b294a2d9cd23bff7bf310d0"
          ]
        },
        "outputId": "5285a39f-991c-423f-f4cb-581de0b0b98e"
      },
      "source": [
        "from transformers import XLMRobertaTokenizer\n",
        "\n",
        "tokenizer = XLMRobertaTokenizer.from_pretrained(\"xlm-roberta-base\")"
      ],
      "execution_count": null,
      "outputs": [
        {
          "output_type": "display_data",
          "data": {
            "application/vnd.jupyter.widget-view+json": {
              "model_id": "2281bc2169904ab5bce03b34eb219101",
              "version_minor": 0,
              "version_major": 2
            },
            "text/plain": [
              "HBox(children=(FloatProgress(value=0.0, description='Downloading', max=5069051.0, style=ProgressStyle(descript…"
            ]
          },
          "metadata": {
            "tags": []
          }
        },
        {
          "output_type": "stream",
          "text": [
            "\n"
          ],
          "name": "stdout"
        },
        {
          "output_type": "display_data",
          "data": {
            "application/vnd.jupyter.widget-view+json": {
              "model_id": "3df57484fbfe44c39377bc61f977e85d",
              "version_minor": 0,
              "version_major": 2
            },
            "text/plain": [
              "HBox(children=(FloatProgress(value=0.0, description='Downloading', max=9096718.0, style=ProgressStyle(descript…"
            ]
          },
          "metadata": {
            "tags": []
          }
        },
        {
          "output_type": "stream",
          "text": [
            "\n"
          ],
          "name": "stdout"
        }
      ]
    },
    {
      "cell_type": "code",
      "metadata": {
        "id": "__MkN1bmpqvZ",
        "colab": {
          "base_uri": "https://localhost:8080/"
        },
        "outputId": "4c7327cf-71f6-42d2-b1d0-8290bc957d2f"
      },
      "source": [
        "all_tokens = list(tokenizer.get_vocab().keys())\n",
        "print(f'This is a vocab of {len(all_tokens)} tokens')"
      ],
      "execution_count": null,
      "outputs": [
        {
          "output_type": "stream",
          "text": [
            "This is a vocab of 250002 tokens\n"
          ],
          "name": "stdout"
        }
      ]
    },
    {
      "cell_type": "code",
      "metadata": {
        "id": "NTLuRrHonh7-",
        "colab": {
          "base_uri": "https://localhost:8080/"
        },
        "outputId": "41cd7df0-f411-4b98-a215-49e5c0be7141"
      },
      "source": [
        "print(tokenizer)"
      ],
      "execution_count": null,
      "outputs": [
        {
          "output_type": "stream",
          "text": [
            "PreTrainedTokenizer(name_or_path='xlm-roberta-base', vocab_size=250002, model_max_len=512, is_fast=False, padding_side='right', special_tokens={'bos_token': '<s>', 'eos_token': '</s>', 'unk_token': '<unk>', 'sep_token': '</s>', 'pad_token': '<pad>', 'cls_token': '<s>', 'mask_token': AddedToken(\"<mask>\", rstrip=False, lstrip=True, single_word=False, normalized=True)})\n"
          ],
          "name": "stdout"
        }
      ]
    },
    {
      "cell_type": "code",
      "metadata": {
        "id": "eoKZNizJn7mE"
      },
      "source": [
        "with open(\"/content/sample_data/vocab.txt\", \"w\") as f:\n",
        "   for token in all_tokens:\n",
        "       f.write(token + '\\n')"
      ],
      "execution_count": null,
      "outputs": []
    },
    {
      "cell_type": "code",
      "metadata": {
        "id": "Q5_9yTG74GXH"
      },
      "source": [
        "# Sample Tokenization \n",
        "# text = 'DeclarationofWar'\n",
        "# tokens = tokenizer.tokenize(text)\n",
        "# print(tokens)"
      ],
      "execution_count": null,
      "outputs": []
    },
    {
      "cell_type": "code",
      "metadata": {
        "id": "vwGX-ehln7oL",
        "colab": {
          "base_uri": "https://localhost:8080/"
        },
        "outputId": "bf158ded-e3e8-4362-e972-fb6e555777b0"
      },
      "source": [
        "# Retrive the first article \n",
        "\n",
        "text = df_art.iloc[1].Text\n",
        "tokens = tokenizer.tokenize(text)\n",
        "\n",
        "print(f'No of tokens in this article : {len(tokens)}')\n",
        "\n",
        "print(text)"
      ],
      "execution_count": null,
      "outputs": [
        {
          "output_type": "stream",
          "text": [
            "No of tokens in this article : 939\n",
            "Increase in tolerance limit up to 120 per cent (from 110 per cent) for real estate developers selling residential units meeting certain conditions:\n",
            "\n",
            "The said proposal to increase the tolerance limit from 110 per cent to 120 per cent was initially brought in as part of AatmaNirbhar Bharat Package 3.0 on 12 November 2020 for residential units meeting the specified conditions and the legislative amendments were to be brought in due course. This is a consequential amendment made under the provisions of section 43CA & 56(2)(x) to give effect to the said announcement by the Ministry of Finance.\n",
            "\n",
            "As pe the said provision, in case of sale of any land or building or both as stock-in-trade (other than capital asset) by an assessee, the transaction is governed by Section 43CA of the Income Tax Act, 1961 (hereinafter referred to as 'the IT Act'). The said section creates a deeming fiction whereby, the circle rate or the value adopted or assessed or assessable by any authority of a State Government for the purpose of payment of stamp duty would be deemed to be the full value of consideration for the purpose of computation of business income wherein the circle rate or stamp duty value exceeded 110 per cent of the consideration received or accrued as a result of the transfer of the property as per the sale agreement.\n",
            "\n",
            "It is notable that this revision from 110 per cent to 120 per cent is applicable only with respect to sale of residential units costing up to Rs. 2 crore from 12 November 2020 till 30 June 2021. Therefore a flexibility has been brought in, which would be helpful to both the seller and buyer in better negotiating the price, in cases where the property cost could be lower than the circle rate or stamp duty value and without attracting any income-tax.\n",
            "\n",
            "Moreover, a consequential relief of up to 20 per cent would also be provided to the buyers of such property u/s 56(2)(x) of the IT Act which previously used to treat the difference between the circle rate or market value and the consideration as referred in Section 43CA to be treated as income taxable in the hands of the buyer under the head 'Income from Other Sources'.\n",
            "\n",
            "Both the above amendments are part of the proposals of Finance Bill 2021.\n",
            "\n",
            "Section 80EEA of the IT Act, provides for an additional deduction of up to Rs. 150,000 in respect of interest on housing loan sanctioned by a bank or housing finance company during the period 1st April 2019 to 31st March 2021. There are further conditions that the stamp duty value of residential house property does not exceed Rs. 45 lakh and the assessee does not own any residential house property on the date of sanction of loan.\n",
            "\n",
            "In order to help such first-time home buyers, the provision of section 80EEA is proposed to extend the date for sanction of loan from 31st March 2021 to 31st March 2022. This is a welcome measure and would help in ensuring 'housing for all' and also boost the demand for affordable housing.\n",
            "\n",
            "Section 80IBA which provides exemption to developers of affordable housing projects the period of approval extended from 31 March 2021 to 31 March 2022\n",
            "\n",
            "In continuation of the measures to boost affordable housing the period for obtaining the project approval has been extended by one year up to 31 March 2022. The other conditions for project eligibility such as construction to be completed within five years from the date of approval shall still continue.\n",
            "\n",
            "Section 80IBA which provides exemption to developers of affordable housing projects has been extended to notified rental housing projects\n",
            "\n",
            "As a measure to improve the standard of living and to make affordable rental housing available to the migrant labours, it is proposed to provide for 100 per cent deductions of the profits and gains derived from the business of developing and building affordable rental housing project. One of the conditions is that the rental housing project should be approved by 31 March 2022. The eligible rental housing projects would be notified by the central government in the official gazette.\n",
            "\n",
            "(The writer is founder of RSM India, the 6th largest accounting, tax & consulting group in India)\n",
            "\n",
            "Disclaimer: This story is auto-aggregated by a computer program and has not been created or edited by FreshersLIVE.Publisher : IANS-Media\n"
          ],
          "name": "stdout"
        }
      ]
    },
    {
      "cell_type": "code",
      "metadata": {
        "id": "CUNjru6dn7qR",
        "colab": {
          "base_uri": "https://localhost:8080/"
        },
        "outputId": "6c38cc44-52b2-4eb3-c1c6-b890bf3135dd"
      },
      "source": [
        "print('First 512 tokens : ')\n",
        "print(tokens[:512])"
      ],
      "execution_count": null,
      "outputs": [
        {
          "output_type": "stream",
          "text": [
            "First 512 tokens : \n",
            "['▁Inc', 'rea', 'se', '▁in', '▁', 'tolerance', '▁limit', '▁up', '▁to', '▁120', '▁per', '▁cent', '▁(', 'from', '▁110', '▁per', '▁cent', ')', '▁for', '▁real', '▁estate', '▁developer', 's', '▁selling', '▁residenti', 'al', '▁unit', 's', '▁meeting', '▁certain', '▁conditions', ':', '▁The', '▁said', '▁proposal', '▁to', '▁increase', '▁the', '▁', 'tolerance', '▁limit', '▁from', '▁110', '▁per', '▁cent', '▁to', '▁120', '▁per', '▁cent', '▁was', '▁initial', 'ly', '▁brought', '▁in', '▁as', '▁part', '▁of', '▁A', 'at', 'ma', 'N', 'ir', 'bhar', '▁Bharat', '▁Pack', 'age', '▁3.0', '▁on', '▁12', '▁November', '▁2020', '▁for', '▁residenti', 'al', '▁unit', 's', '▁meeting', '▁the', '▁specifi', 'ed', '▁conditions', '▁and', '▁the', '▁legislativ', 'e', '▁a', 'mend', 'ments', '▁were', '▁to', '▁be', '▁brought', '▁in', '▁due', '▁course', '.', '▁This', '▁is', '▁a', '▁consequent', 'ial', '▁a', 'mend', 'ment', '▁made', '▁under', '▁the', '▁provision', 's', '▁of', '▁section', '▁43', 'CA', '▁&', '▁56', '(2)', '(', 'x', ')', '▁to', '▁give', '▁effect', '▁to', '▁the', '▁said', '▁ann', 'ounce', 'ment', '▁by', '▁the', '▁Ministry', '▁of', '▁Finance', '.', '▁As', '▁pe', '▁the', '▁said', '▁provision', ',', '▁in', '▁case', '▁of', '▁sale', '▁of', '▁any', '▁land', '▁or', '▁building', '▁or', '▁both', '▁as', '▁stock', '-', 'in', '-', 'tra', 'de', '▁(', 'other', '▁than', '▁capital', '▁', 'asset', ')', '▁by', '▁an', '▁assess', 'ee', ',', '▁the', '▁transaction', '▁is', '▁govern', 'ed', '▁by', '▁Section', '▁43', 'CA', '▁of', '▁the', '▁In', 'come', '▁Tax', '▁Act', ',', '▁1961', '▁(', 'here', 'ina', 'fter', '▁refer', 'red', '▁to', '▁as', \"▁'\", 'the', '▁IT', '▁Act', \"'\", ').', '▁The', '▁said', '▁section', '▁create', 's', '▁a', '▁de', 'em', 'ing', '▁fiction', '▁where', 'by', ',', '▁the', '▁circ', 'le', '▁rate', '▁or', '▁the', '▁value', '▁adopt', 'ed', '▁or', '▁assess', 'ed', '▁or', '▁assess', 'able', '▁by', '▁any', '▁authority', '▁of', '▁a', '▁State', '▁Government', '▁for', '▁the', '▁purpose', '▁of', '▁payment', '▁of', '▁stamp', '▁du', 'ty', '▁would', '▁be', '▁de', 'em', 'ed', '▁to', '▁be', '▁the', '▁full', '▁value', '▁of', '▁consideration', '▁for', '▁the', '▁purpose', '▁of', '▁computa', 'tion', '▁of', '▁business', '▁income', '▁where', 'in', '▁the', '▁circ', 'le', '▁rate', '▁or', '▁stamp', '▁du', 'ty', '▁value', '▁exceed', 'ed', '▁110', '▁per', '▁cent', '▁of', '▁the', '▁consideration', '▁received', '▁or', '▁acc', 'ru', 'ed', '▁as', '▁a', '▁result', '▁of', '▁the', '▁transfer', '▁of', '▁the', '▁property', '▁as', '▁per', '▁the', '▁sale', '▁agreement', '.', '▁It', '▁is', '▁notable', '▁that', '▁this', '▁revision', '▁from', '▁110', '▁per', '▁cent', '▁to', '▁120', '▁per', '▁cent', '▁is', '▁applicable', '▁only', '▁with', '▁respect', '▁to', '▁sale', '▁of', '▁residenti', 'al', '▁unit', 's', '▁cost', 'ing', '▁up', '▁to', '▁Rs', '.', '▁2', '▁cro', 're', '▁from', '▁12', '▁November', '▁2020', '▁till', '▁30', '▁June', '▁2021', '.', '▁Therefore', '▁a', '▁flexibil', 'ity', '▁has', '▁been', '▁brought', '▁in', ',', '▁which', '▁would', '▁be', '▁helpful', '▁to', '▁both', '▁the', '▁selle', 'r', '▁and', '▁buy', 'er', '▁in', '▁better', '▁nego', 'ti', 'ating', '▁the', '▁price', ',', '▁in', '▁cases', '▁where', '▁the', '▁property', '▁cost', '▁could', '▁be', '▁lower', '▁than', '▁the', '▁circ', 'le', '▁rate', '▁or', '▁stamp', '▁du', 'ty', '▁value', '▁and', '▁without', '▁attract', 'ing', '▁any', '▁income', '-', 'tax', '.', '▁More', 'over', ',', '▁a', '▁consequent', 'ial', '▁relief', '▁of', '▁up', '▁to', '▁20', '▁per', '▁cent', '▁would', '▁also', '▁be', '▁provided', '▁to', '▁the', '▁buy', 'ers', '▁of', '▁such', '▁property', '▁u', '/', 's', '▁56', '(2)', '(', 'x', ')', '▁of', '▁the', '▁IT', '▁Act', '▁which', '▁previously', '▁used', '▁to', '▁treat', '▁the', '▁difference', '▁between', '▁the', '▁circ', 'le', '▁rate', '▁or', '▁market', '▁value', '▁and', '▁the', '▁consideration', '▁as', '▁refer', 'red', '▁in', '▁Section', '▁43', 'CA', '▁to', '▁be', '▁treated', '▁as', '▁income', '▁tax', 'able', '▁in', '▁the', '▁hands', '▁of', '▁the', '▁buy', 'er', '▁under', '▁the', '▁head', \"▁'\", 'In', 'come', '▁from', '▁Other', '▁Source', 's', \"'\", '.', '▁Both', '▁the', '▁above', '▁a', 'mend', 'ments', '▁are', '▁part', '▁of', '▁the', '▁proposal', 's', '▁of', '▁Finance', '▁Bill', '▁2021', '.', '▁Section', '▁80']\n"
          ],
          "name": "stdout"
        }
      ]
    },
    {
      "cell_type": "markdown",
      "metadata": {
        "id": "By67N3XKNe4H"
      },
      "source": [
        "## **Data-preparation**"
      ]
    },
    {
      "cell_type": "code",
      "metadata": {
        "id": "s87OzaAyn7sX",
        "colab": {
          "base_uri": "https://localhost:8080/"
        },
        "outputId": "03d0816c-3c64-4db1-a569-d3555b3fe1cf"
      },
      "source": [
        "# Main Tokenization here \n",
        "input_ids = []\n",
        "lengths = []\n",
        "\n",
        "print('Tokenizing comments.....')\n",
        "\n",
        "for sen in df_art.Text:\n",
        "\n",
        "    if(len(input_ids) % 1000 == 0):\n",
        "      print(f'Read about {len(input_ids)} article!')\n",
        "    \n",
        "\n",
        "    encoded_sent = tokenizer.encode(\n",
        "                            sen,\n",
        "                            # max_length = 512,\n",
        "                            # return_tensors = 'pt'   \n",
        "                            )\n",
        "    \n",
        "    input_ids.append(encoded_sent)\n",
        "    lengths.append(len(encoded_sent))\n",
        "\n",
        "print('Done!')"
      ],
      "execution_count": null,
      "outputs": [
        {
          "output_type": "stream",
          "text": [
            "Token indices sequence length is longer than the specified maximum sequence length for this model (941 > 512). Running this sequence through the model will result in indexing errors\n"
          ],
          "name": "stderr"
        },
        {
          "output_type": "stream",
          "text": [
            "Tokenizing comments.....\n",
            "Read about 0 article!\n",
            "Read about 1000 article!\n",
            "Read about 2000 article!\n",
            "Read about 3000 article!\n",
            "Done!\n"
          ],
          "name": "stdout"
        }
      ]
    },
    {
      "cell_type": "code",
      "metadata": {
        "id": "LTxfQW2E6Zxv"
      },
      "source": [
        "# input_ids[0][:512]"
      ],
      "execution_count": null,
      "outputs": []
    },
    {
      "cell_type": "code",
      "metadata": {
        "id": "jdPs_Kinn7uX",
        "colab": {
          "base_uri": "https://localhost:8080/"
        },
        "outputId": "e1bccb49-cb42-4edc-9547-30117b2ba22c"
      },
      "source": [
        "labels = df_art.Mobile_Tech_Flag.to_numpy().astype(int)\n",
        "\n",
        "print(f'No of mobile_tech labels : {np.sum(labels)}')\n",
        "print(f'No of non_mobile_tech labels : {len(labels) - np.sum(labels)}')"
      ],
      "execution_count": null,
      "outputs": [
        {
          "output_type": "stream",
          "text": [
            "No of mobile_tech labels : 974\n",
            "No of non_mobile_tech labels : 3026\n"
          ],
          "name": "stdout"
        }
      ]
    },
    {
      "cell_type": "code",
      "metadata": {
        "id": "6jwE2D34wD19",
        "colab": {
          "base_uri": "https://localhost:8080/"
        },
        "outputId": "3957927b-31ff-461a-deca-60a8f05c38cd"
      },
      "source": [
        "print(f'Min length of tokens : {min(lengths)}')\n",
        "print(f'Max length of tokens : {max(lengths)}')\n",
        "print(f'Mean length of tokens : {np.mean(lengths)}')"
      ],
      "execution_count": null,
      "outputs": [
        {
          "output_type": "stream",
          "text": [
            "Min length of tokens : 6\n",
            "Max length of tokens : 10027\n",
            "Mean length of tokens : 833.0365\n"
          ],
          "name": "stdout"
        }
      ]
    },
    {
      "cell_type": "code",
      "metadata": {
        "id": "XOwjAS-B1EoE",
        "colab": {
          "base_uri": "https://localhost:8080/"
        },
        "outputId": "cdeb564c-1a47-4046-9c11-5b9feded1900"
      },
      "source": [
        "temp = []\n",
        "\n",
        "for i in lengths:\n",
        "    if(i > 833):\n",
        "        temp.append(i)\n",
        "print(len(temp))"
      ],
      "execution_count": null,
      "outputs": [
        {
          "output_type": "stream",
          "text": [
            "1282\n"
          ],
          "name": "stdout"
        }
      ]
    },
    {
      "cell_type": "code",
      "metadata": {
        "id": "PYaZUYzanYsJ",
        "colab": {
          "base_uri": "https://localhost:8080/",
          "height": 409
        },
        "outputId": "ace0f24e-7383-4568-80b2-9bb482545857"
      },
      "source": [
        "#Plotting the data for knowing distributions of length if tokens!\n",
        "import seaborn as sns\n",
        "\n",
        "sns.set(style = 'dark')\n",
        "plt.rcParams[\"figure.figsize\"] = (10,5)\n",
        "new_lengths = [min(l,2000) for l in lengths]\n",
        "\n",
        "sns.distplot(new_lengths,kde=False)\n",
        "\n",
        "plt.title('Article token length dist.')\n",
        "plt.xlabel('Article Length')\n",
        "plt.ylabel('no of articles')\n",
        "plt.show()"
      ],
      "execution_count": null,
      "outputs": [
        {
          "output_type": "stream",
          "text": [
            "/usr/local/lib/python3.7/dist-packages/seaborn/distributions.py:2557: FutureWarning: `distplot` is a deprecated function and will be removed in a future version. Please adapt your code to use either `displot` (a figure-level function with similar flexibility) or `histplot` (an axes-level function for histograms).\n",
            "  warnings.warn(msg, FutureWarning)\n"
          ],
          "name": "stderr"
        },
        {
          "output_type": "display_data",
          "data": {
            "image/png": "[encoded data removed]",
            "text/plain": [
              "<Figure size 720x360 with 1 Axes>"
            ]
          },
          "metadata": {
            "tags": []
          }
        }
      ]
    },
    {
      "cell_type": "markdown",
      "metadata": {
        "id": "b_dieXS8xRdC"
      },
      "source": [
        "# **Headline-Generation-T5**"
      ]
    },
    {
      "cell_type": "code",
      "metadata": {
        "id": "HiRMBbR59Vif"
      },
      "source": [
        "device = ('cuda' if t.cuda.is_available() else 'cpu')"
      ],
      "execution_count": null,
      "outputs": []
    },
    {
      "cell_type": "code",
      "metadata": {
        "id": "DlsArL3BHBcs",
        "colab": {
          "base_uri": "https://localhost:8080/"
        },
        "outputId": "2b146e52-29b3-42cc-ed12-bd36e51e6c0a"
      },
      "source": [
        "import argparse\n",
        "import glob\n",
        "import os\n",
        "import json\n",
        "import time\n",
        "import logging\n",
        "import random\n",
        "import re\n",
        "from itertools import chain\n",
        "from string import punctuation\n",
        "\n",
        "import nltk\n",
        "nltk.download('punkt')\n",
        "from nltk.tokenize import sent_tokenize\n",
        "\n",
        "import pandas as pd\n",
        "import numpy as np\n",
        "import torch\n",
        "from torch.utils.data import Dataset, DataLoader\n",
        "import pytorch_lightning as pl\n",
        "from sklearn.model_selection import train_test_split"
      ],
      "execution_count": null,
      "outputs": [
        {
          "output_type": "stream",
          "text": [
            "[nltk_data] Downloading package punkt to /root/nltk_data...\n",
            "[nltk_data]   Unzipping tokenizers/punkt.zip.\n"
          ],
          "name": "stdout"
        }
      ]
    },
    {
      "cell_type": "code",
      "metadata": {
        "id": "33jKxhlAQchF"
      },
      "source": [
        "from transformers import (\n",
        "    AdamW,\n",
        "    MT5ForConditionalGeneration,\n",
        "    T5ForConditionalGeneration,\n",
        "    T5Tokenizer,\n",
        "    get_linear_schedule_with_warmup\n",
        ")"
      ],
      "execution_count": null,
      "outputs": []
    },
    {
      "cell_type": "code",
      "metadata": {
        "id": "X8bOpExXLScu"
      },
      "source": [
        "def set_seed(seed):\n",
        "  random.seed(seed)\n",
        "  np.random.seed(seed)\n",
        "  torch.manual_seed(seed)\n",
        "  if torch.cuda.is_available():\n",
        "    torch.cuda.manual_seed_all(seed)\n",
        "\n",
        "set_seed(42)"
      ],
      "execution_count": null,
      "outputs": []
    },
    {
      "cell_type": "code",
      "metadata": {
        "id": "K9vNWki6DL8P"
      },
      "source": [
        "df_art = pd.DataFrame(pd.read_excel(article_path)) \n",
        "df_tweet = pd.DataFrame(pd.read_excel(tweet_path)) "
      ],
      "execution_count": null,
      "outputs": []
    },
    {
      "cell_type": "code",
      "metadata": {
        "id": "aLvsgs_gDL-R",
        "colab": {
          "base_uri": "https://localhost:8080/",
          "height": 405
        },
        "outputId": "2de6335f-e6cf-4f1c-b08c-2e29af8472a7"
      },
      "source": [
        "df_art"
      ],
      "execution_count": null,
      "outputs": [
        {
          "output_type": "execute_result",
          "data": {
            "text/html": [
              "<div>\n",
              "<style scoped>\n",
              "    .dataframe tbody tr th:only-of-type {\n",
              "        vertical-align: middle;\n",
              "    }\n",
              "\n",
              "    .dataframe tbody tr th {\n",
              "        vertical-align: top;\n",
              "    }\n",
              "\n",
              "    .dataframe thead th {\n",
              "        text-align: right;\n",
              "    }\n",
              "</style>\n",
              "<table border=\"1\" class=\"dataframe\">\n",
              "  <thead>\n",
              "    <tr style=\"text-align: right;\">\n",
              "      <th></th>\n",
              "      <th>Text_ID</th>\n",
              "      <th>Text</th>\n",
              "      <th>Headline</th>\n",
              "      <th>Mobile_Tech_Flag</th>\n",
              "    </tr>\n",
              "  </thead>\n",
              "  <tbody>\n",
              "    <tr>\n",
              "      <th>0</th>\n",
              "      <td>article_0001</td>\n",
              "      <td>Digitisation is one of the key buzzwords in th...</td>\n",
              "      <td>Pakistan’s digital landscape post-Covid</td>\n",
              "      <td>0</td>\n",
              "    </tr>\n",
              "    <tr>\n",
              "      <th>1</th>\n",
              "      <td>article_0002</td>\n",
              "      <td>Increase in tolerance limit up to 120 per cent...</td>\n",
              "      <td>Affordable housing gets shot in the arm</td>\n",
              "      <td>0</td>\n",
              "    </tr>\n",
              "    <tr>\n",
              "      <th>2</th>\n",
              "      <td>article_0003</td>\n",
              "      <td>Home &gt; News &gt; World Sports News\\n\\nJonas Lossl...</td>\n",
              "      <td>Jonas Lossl leaves Everton to rejoin first clu...</td>\n",
              "      <td>0</td>\n",
              "    </tr>\n",
              "    <tr>\n",
              "      <th>3</th>\n",
              "      <td>article_0004</td>\n",
              "      <td>Source: Agfax.com\\n\\nBy Keith Brown, DTN Contr...</td>\n",
              "      <td>DTN Cotton Closing: Cotton Higher on Commoditi...</td>\n",
              "      <td>0</td>\n",
              "    </tr>\n",
              "    <tr>\n",
              "      <th>4</th>\n",
              "      <td>article_0005</td>\n",
              "      <td>United Nations, Feb 4: The Serum Institute of ...</td>\n",
              "      <td>Serum Institute of India, UNICEF enter into lo...</td>\n",
              "      <td>0</td>\n",
              "    </tr>\n",
              "    <tr>\n",
              "      <th>...</th>\n",
              "      <td>...</td>\n",
              "      <td>...</td>\n",
              "      <td>...</td>\n",
              "      <td>...</td>\n",
              "    </tr>\n",
              "    <tr>\n",
              "      <th>3995</th>\n",
              "      <td>article_3996</td>\n",
              "      <td>All Hindi Bloggers List with All Detail\\nMay 1...</td>\n",
              "      <td>All Hindi Bloggers List with All Detail</td>\n",
              "      <td>0</td>\n",
              "    </tr>\n",
              "    <tr>\n",
              "      <th>3996</th>\n",
              "      <td>article_3997</td>\n",
              "      <td>Amazon Flex se Part Time me Earn kare ₹15,000 ...</td>\n",
              "      <td>Amazon Flex se Part Time me Earn kare ₹15,000 ...</td>\n",
              "      <td>0</td>\n",
              "    </tr>\n",
              "    <tr>\n",
              "      <th>3997</th>\n",
              "      <td>article_3998</td>\n",
              "      <td>Bad Link Building Strategies se Kaise Bachaye ...</td>\n",
              "      <td>Bad Link Building Strategies se Kaise Bachaye ...</td>\n",
              "      <td>0</td>\n",
              "    </tr>\n",
              "    <tr>\n",
              "      <th>3998</th>\n",
              "      <td>article_3999</td>\n",
              "      <td>Badiya Comment karte Samay Rakhe in Baat ka Dh...</td>\n",
              "      <td>Badiya Comment karte Samay Rakhe in Baat ka Dh...</td>\n",
              "      <td>0</td>\n",
              "    </tr>\n",
              "    <tr>\n",
              "      <th>3999</th>\n",
              "      <td>article_4000</td>\n",
              "      <td>Best Blogger Blog Theme का चुनाव कैसे करे ? [ ...</td>\n",
              "      <td>Best Blogger Blog Theme का चुनाव कैसे करे ? [ ...</td>\n",
              "      <td>0</td>\n",
              "    </tr>\n",
              "  </tbody>\n",
              "</table>\n",
              "<p>4000 rows × 4 columns</p>\n",
              "</div>"
            ],
            "text/plain": [
              "           Text_ID  ... Mobile_Tech_Flag\n",
              "0     article_0001  ...                0\n",
              "1     article_0002  ...                0\n",
              "2     article_0003  ...                0\n",
              "3     article_0004  ...                0\n",
              "4     article_0005  ...                0\n",
              "...            ...  ...              ...\n",
              "3995  article_3996  ...                0\n",
              "3996  article_3997  ...                0\n",
              "3997  article_3998  ...                0\n",
              "3998  article_3999  ...                0\n",
              "3999  article_4000  ...                0\n",
              "\n",
              "[4000 rows x 4 columns]"
            ]
          },
          "metadata": {
            "tags": []
          },
          "execution_count": 30
        }
      ]
    },
    {
      "cell_type": "code",
      "metadata": {
        "id": "rYPfLArUDYAx",
        "colab": {
          "base_uri": "https://localhost:8080/",
          "height": 35
        },
        "outputId": "97d35b9a-ea88-41d9-be19-6662626b5951"
      },
      "source": [
        "df_art.iloc[2000].Headline"
      ],
      "execution_count": null,
      "outputs": [
        {
          "output_type": "execute_result",
          "data": {
            "application/vnd.google.colaboratory.intrinsic+json": {
              "type": "string"
            },
            "text/plain": [
              "'Gold Rate on 15 January 2021: लगातार गिरने के बाद संभला सोना, चांदी की कीमत में बड़ी गिरावट, जानें आज क भाव'"
            ]
          },
          "metadata": {
            "tags": []
          },
          "execution_count": 31
        }
      ]
    },
    {
      "cell_type": "code",
      "metadata": {
        "id": "zLzU7W9DpU-9",
        "colab": {
          "base_uri": "https://localhost:8080/"
        },
        "outputId": "70eca001-d2b9-49d1-a3f0-776ee3bf655a"
      },
      "source": [
        "class LanguageIdentification:\n",
        "\n",
        "    def __init__(self):\n",
        "        PRETRAINED_MODEL_PATH = '/content/drive/MyDrive/Inter-IIT/Checkpoints/MT5/fasttext_lang_detect/lid.176.bin'\n",
        "        self.model = fasttext.load_model(PRETRAINED_MODEL_PATH)\n",
        "\n",
        "    def predict_lang(self, text):\n",
        "        predictions = self.model.predict(text,k = 1) # returns top 2 matching languages\n",
        "        return predictions\n",
        "\n",
        "LANGUAGE = LanguageIdentification()"
      ],
      "execution_count": null,
      "outputs": [
        {
          "output_type": "stream",
          "text": [
            "Warning : `load_model` does not return WordVectorModel or SupervisedModel any more, but a `FastText` object which is very similar.\n"
          ],
          "name": "stderr"
        }
      ]
    },
    {
      "cell_type": "code",
      "metadata": {
        "id": "jSLgHE9DEAdU"
      },
      "source": [
        "headline_lang = []\n",
        "\n",
        "for head in df_art.Headline:\n",
        "    if(LANGUAGE.predict_lang(head)[0][0].split('_')[-1] == 'en' and LANGUAGE.predict_lang(head)[1][0] > 0.5):\n",
        "        headline_lang.append('English')\n",
        "    elif(LANGUAGE.predict_lang(head)[0][0].split('_')[-1] == 'hi' and LANGUAGE.predict_lang(head)[1][0] > 0.5):\n",
        "        headline_lang.append('Hindi')\n",
        "    else:\n",
        "        headline_lang.append('Mix')\n",
        "\n"
      ],
      "execution_count": null,
      "outputs": []
    },
    {
      "cell_type": "code",
      "metadata": {
        "id": "zl3uDvu-Df95"
      },
      "source": [
        "df_art['Headline_lang'] = headline_lang"
      ],
      "execution_count": null,
      "outputs": []
    },
    {
      "cell_type": "code",
      "metadata": {
        "id": "L38AMHxyGUEI",
        "colab": {
          "base_uri": "https://localhost:8080/"
        },
        "outputId": "3cec8039-09b9-48c4-9f74-936d1710dfa3"
      },
      "source": [
        "df_art[df_art['Headline_lang'] == 'Mix']['Mobile_Tech_Flag'].value_counts()             "
      ],
      "execution_count": null,
      "outputs": [
        {
          "output_type": "execute_result",
          "data": {
            "text/plain": [
              "0    56\n",
              "1    43\n",
              "Name: Mobile_Tech_Flag, dtype: int64"
            ]
          },
          "metadata": {
            "tags": []
          },
          "execution_count": 35
        }
      ]
    },
    {
      "cell_type": "code",
      "metadata": {
        "id": "QLq8g-ltDgAO"
      },
      "source": [
        "df_art = df_art.drop_duplicates(subset=['Text']) "
      ],
      "execution_count": null,
      "outputs": []
    },
    {
      "cell_type": "code",
      "metadata": {
        "id": "3eY2oiIjv-cC",
        "colab": {
          "base_uri": "https://localhost:8080/",
          "height": 405
        },
        "outputId": "cffdf083-62fc-4935-f223-15baec1d35e6"
      },
      "source": [
        "df_art"
      ],
      "execution_count": null,
      "outputs": [
        {
          "output_type": "execute_result",
          "data": {
            "text/html": [
              "<div>\n",
              "<style scoped>\n",
              "    .dataframe tbody tr th:only-of-type {\n",
              "        vertical-align: middle;\n",
              "    }\n",
              "\n",
              "    .dataframe tbody tr th {\n",
              "        vertical-align: top;\n",
              "    }\n",
              "\n",
              "    .dataframe thead th {\n",
              "        text-align: right;\n",
              "    }\n",
              "</style>\n",
              "<table border=\"1\" class=\"dataframe\">\n",
              "  <thead>\n",
              "    <tr style=\"text-align: right;\">\n",
              "      <th></th>\n",
              "      <th>Text_ID</th>\n",
              "      <th>Text</th>\n",
              "      <th>Headline</th>\n",
              "      <th>Mobile_Tech_Flag</th>\n",
              "      <th>Headline_lang</th>\n",
              "    </tr>\n",
              "  </thead>\n",
              "  <tbody>\n",
              "    <tr>\n",
              "      <th>0</th>\n",
              "      <td>article_0001</td>\n",
              "      <td>Digitisation is one of the key buzzwords in th...</td>\n",
              "      <td>Pakistan’s digital landscape post-Covid</td>\n",
              "      <td>0</td>\n",
              "      <td>English</td>\n",
              "    </tr>\n",
              "    <tr>\n",
              "      <th>1</th>\n",
              "      <td>article_0002</td>\n",
              "      <td>Increase in tolerance limit up to 120 per cent...</td>\n",
              "      <td>Affordable housing gets shot in the arm</td>\n",
              "      <td>0</td>\n",
              "      <td>English</td>\n",
              "    </tr>\n",
              "    <tr>\n",
              "      <th>2</th>\n",
              "      <td>article_0003</td>\n",
              "      <td>Home &gt; News &gt; World Sports News\\n\\nJonas Lossl...</td>\n",
              "      <td>Jonas Lossl leaves Everton to rejoin first clu...</td>\n",
              "      <td>0</td>\n",
              "      <td>English</td>\n",
              "    </tr>\n",
              "    <tr>\n",
              "      <th>3</th>\n",
              "      <td>article_0004</td>\n",
              "      <td>Source: Agfax.com\\n\\nBy Keith Brown, DTN Contr...</td>\n",
              "      <td>DTN Cotton Closing: Cotton Higher on Commoditi...</td>\n",
              "      <td>0</td>\n",
              "      <td>English</td>\n",
              "    </tr>\n",
              "    <tr>\n",
              "      <th>4</th>\n",
              "      <td>article_0005</td>\n",
              "      <td>United Nations, Feb 4: The Serum Institute of ...</td>\n",
              "      <td>Serum Institute of India, UNICEF enter into lo...</td>\n",
              "      <td>0</td>\n",
              "      <td>English</td>\n",
              "    </tr>\n",
              "    <tr>\n",
              "      <th>...</th>\n",
              "      <td>...</td>\n",
              "      <td>...</td>\n",
              "      <td>...</td>\n",
              "      <td>...</td>\n",
              "      <td>...</td>\n",
              "    </tr>\n",
              "    <tr>\n",
              "      <th>3995</th>\n",
              "      <td>article_3996</td>\n",
              "      <td>All Hindi Bloggers List with All Detail\\nMay 1...</td>\n",
              "      <td>All Hindi Bloggers List with All Detail</td>\n",
              "      <td>0</td>\n",
              "      <td>English</td>\n",
              "    </tr>\n",
              "    <tr>\n",
              "      <th>3996</th>\n",
              "      <td>article_3997</td>\n",
              "      <td>Amazon Flex se Part Time me Earn kare ₹15,000 ...</td>\n",
              "      <td>Amazon Flex se Part Time me Earn kare ₹15,000 ...</td>\n",
              "      <td>0</td>\n",
              "      <td>Mix</td>\n",
              "    </tr>\n",
              "    <tr>\n",
              "      <th>3997</th>\n",
              "      <td>article_3998</td>\n",
              "      <td>Bad Link Building Strategies se Kaise Bachaye ...</td>\n",
              "      <td>Bad Link Building Strategies se Kaise Bachaye ...</td>\n",
              "      <td>0</td>\n",
              "      <td>Mix</td>\n",
              "    </tr>\n",
              "    <tr>\n",
              "      <th>3998</th>\n",
              "      <td>article_3999</td>\n",
              "      <td>Badiya Comment karte Samay Rakhe in Baat ka Dh...</td>\n",
              "      <td>Badiya Comment karte Samay Rakhe in Baat ka Dh...</td>\n",
              "      <td>0</td>\n",
              "      <td>English</td>\n",
              "    </tr>\n",
              "    <tr>\n",
              "      <th>3999</th>\n",
              "      <td>article_4000</td>\n",
              "      <td>Best Blogger Blog Theme का चुनाव कैसे करे ? [ ...</td>\n",
              "      <td>Best Blogger Blog Theme का चुनाव कैसे करे ? [ ...</td>\n",
              "      <td>0</td>\n",
              "      <td>Hindi</td>\n",
              "    </tr>\n",
              "  </tbody>\n",
              "</table>\n",
              "<p>3567 rows × 5 columns</p>\n",
              "</div>"
            ],
            "text/plain": [
              "           Text_ID  ... Headline_lang\n",
              "0     article_0001  ...       English\n",
              "1     article_0002  ...       English\n",
              "2     article_0003  ...       English\n",
              "3     article_0004  ...       English\n",
              "4     article_0005  ...       English\n",
              "...            ...  ...           ...\n",
              "3995  article_3996  ...       English\n",
              "3996  article_3997  ...           Mix\n",
              "3997  article_3998  ...           Mix\n",
              "3998  article_3999  ...       English\n",
              "3999  article_4000  ...         Hindi\n",
              "\n",
              "[3567 rows x 5 columns]"
            ]
          },
          "metadata": {
            "tags": []
          },
          "execution_count": 37
        }
      ]
    },
    {
      "cell_type": "code",
      "metadata": {
        "id": "972GEFayaFzO"
      },
      "source": [
        "msk = np.random.rand(len(df_art)) < 0.8"
      ],
      "execution_count": null,
      "outputs": []
    },
    {
      "cell_type": "code",
      "metadata": {
        "id": "8ONpLdoVaHeT"
      },
      "source": [
        "train_df, test_df = train_test_split(df_art, test_size=0.2,random_state = 0)"
      ],
      "execution_count": null,
      "outputs": []
    },
    {
      "cell_type": "code",
      "metadata": {
        "id": "L8ah9AHQaRvr"
      },
      "source": [
        "train_df = train_df.reset_index()\n",
        "# train_df = train_df.drop(train_df.index)\n",
        "test_df = test_df.reset_index()"
      ],
      "execution_count": null,
      "outputs": []
    },
    {
      "cell_type": "code",
      "metadata": {
        "id": "Y-xBYbpPcoMN",
        "colab": {
          "base_uri": "https://localhost:8080/",
          "height": 405
        },
        "outputId": "294c1c2c-a849-4a87-b609-03ef5004b94f"
      },
      "source": [
        "test_df"
      ],
      "execution_count": null,
      "outputs": [
        {
          "output_type": "execute_result",
          "data": {
            "text/html": [
              "<div>\n",
              "<style scoped>\n",
              "    .dataframe tbody tr th:only-of-type {\n",
              "        vertical-align: middle;\n",
              "    }\n",
              "\n",
              "    .dataframe tbody tr th {\n",
              "        vertical-align: top;\n",
              "    }\n",
              "\n",
              "    .dataframe thead th {\n",
              "        text-align: right;\n",
              "    }\n",
              "</style>\n",
              "<table border=\"1\" class=\"dataframe\">\n",
              "  <thead>\n",
              "    <tr style=\"text-align: right;\">\n",
              "      <th></th>\n",
              "      <th>index</th>\n",
              "      <th>Text_ID</th>\n",
              "      <th>Text</th>\n",
              "      <th>Headline</th>\n",
              "      <th>Mobile_Tech_Flag</th>\n",
              "      <th>Headline_lang</th>\n",
              "    </tr>\n",
              "  </thead>\n",
              "  <tbody>\n",
              "    <tr>\n",
              "      <th>0</th>\n",
              "      <td>2760</td>\n",
              "      <td>article_2761</td>\n",
              "      <td>Indian Railways Recruitment 2020 For SWR Appre...</td>\n",
              "      <td>ताजा खबरें\\n            Indian Railways ने अपर...</td>\n",
              "      <td>0</td>\n",
              "      <td>Hindi</td>\n",
              "    </tr>\n",
              "    <tr>\n",
              "      <th>1</th>\n",
              "      <td>2460</td>\n",
              "      <td>article_2461</td>\n",
              "      <td>भारतीय रिजर्व बैंक (RBI) ने एक अहम फैसला लिया ...</td>\n",
              "      <td>RBI ने इस बैंक का लाइसेंस किया रद्द, जानिए अब ...</td>\n",
              "      <td>0</td>\n",
              "      <td>Hindi</td>\n",
              "    </tr>\n",
              "    <tr>\n",
              "      <th>2</th>\n",
              "      <td>3181</td>\n",
              "      <td>article_3182</td>\n",
              "      <td>Bengaluru, Feb 2 | Chinese smartphone brand Po...</td>\n",
              "      <td>Poco M3 launched in India at starting price of...</td>\n",
              "      <td>1</td>\n",
              "      <td>English</td>\n",
              "    </tr>\n",
              "    <tr>\n",
              "      <th>3</th>\n",
              "      <td>133</td>\n",
              "      <td>article_0134</td>\n",
              "      <td>Former President Donald Trump and the Republic...</td>\n",
              "      <td>Where's the Money? Trump Collected $175 Millio...</td>\n",
              "      <td>0</td>\n",
              "      <td>English</td>\n",
              "    </tr>\n",
              "    <tr>\n",
              "      <th>4</th>\n",
              "      <td>3458</td>\n",
              "      <td>article_3459</td>\n",
              "      <td>The OnePlus Nord sparked off a new class of mi...</td>\n",
              "      <td>OnePlus Nord N1 could succeed Nord N10 in 2021</td>\n",
              "      <td>1</td>\n",
              "      <td>English</td>\n",
              "    </tr>\n",
              "    <tr>\n",
              "      <th>...</th>\n",
              "      <td>...</td>\n",
              "      <td>...</td>\n",
              "      <td>...</td>\n",
              "      <td>...</td>\n",
              "      <td>...</td>\n",
              "      <td>...</td>\n",
              "    </tr>\n",
              "    <tr>\n",
              "      <th>709</th>\n",
              "      <td>1542</td>\n",
              "      <td>article_1543</td>\n",
              "      <td>Hindi News\\n\\nUtility\\n\\nZaroorat ki khabar\\n\\...</td>\n",
              "      <td>सुसाइड की सोच क्यों: देश में सुसाइड करने वाले ...</td>\n",
              "      <td>0</td>\n",
              "      <td>Hindi</td>\n",
              "    </tr>\n",
              "    <tr>\n",
              "      <th>710</th>\n",
              "      <td>2220</td>\n",
              "      <td>article_2221</td>\n",
              "      <td>2020 की ईयर एंडर सेल के बाद होंडा की ओर से गाड...</td>\n",
              "      <td>टॉप कार मॉडल्स पर 2.5 लाख रुपए तक की छूट दे रह...</td>\n",
              "      <td>0</td>\n",
              "      <td>Hindi</td>\n",
              "    </tr>\n",
              "    <tr>\n",
              "      <th>711</th>\n",
              "      <td>2</td>\n",
              "      <td>article_0003</td>\n",
              "      <td>Home &gt; News &gt; World Sports News\\n\\nJonas Lossl...</td>\n",
              "      <td>Jonas Lossl leaves Everton to rejoin first clu...</td>\n",
              "      <td>0</td>\n",
              "      <td>English</td>\n",
              "    </tr>\n",
              "    <tr>\n",
              "      <th>712</th>\n",
              "      <td>3060</td>\n",
              "      <td>article_3061</td>\n",
              "      <td>Gurugram: Expanding its successful 'M' series,...</td>\n",
              "      <td>Business\\n            Samsung launches afforda...</td>\n",
              "      <td>1</td>\n",
              "      <td>English</td>\n",
              "    </tr>\n",
              "    <tr>\n",
              "      <th>713</th>\n",
              "      <td>79</td>\n",
              "      <td>article_0080</td>\n",
              "      <td>Recently, when I opened Instagram, I noticed t...</td>\n",
              "      <td>Scroll Core\\n            In Australia, Google ...</td>\n",
              "      <td>0</td>\n",
              "      <td>English</td>\n",
              "    </tr>\n",
              "  </tbody>\n",
              "</table>\n",
              "<p>714 rows × 6 columns</p>\n",
              "</div>"
            ],
            "text/plain": [
              "     index       Text_ID  ... Mobile_Tech_Flag Headline_lang\n",
              "0     2760  article_2761  ...                0         Hindi\n",
              "1     2460  article_2461  ...                0         Hindi\n",
              "2     3181  article_3182  ...                1       English\n",
              "3      133  article_0134  ...                0       English\n",
              "4     3458  article_3459  ...                1       English\n",
              "..     ...           ...  ...              ...           ...\n",
              "709   1542  article_1543  ...                0         Hindi\n",
              "710   2220  article_2221  ...                0         Hindi\n",
              "711      2  article_0003  ...                0       English\n",
              "712   3060  article_3061  ...                1       English\n",
              "713     79  article_0080  ...                0       English\n",
              "\n",
              "[714 rows x 6 columns]"
            ]
          },
          "metadata": {
            "tags": []
          },
          "execution_count": 41
        }
      ]
    },
    {
      "cell_type": "markdown",
      "metadata": {
        "id": "f1wBx09tLWZD"
      },
      "source": [
        "## **T5-Model**"
      ]
    },
    {
      "cell_type": "code",
      "metadata": {
        "id": "HjCAFK6lLZ-Z"
      },
      "source": [
        "class MT5FineTuner(pl.LightningModule):\n",
        "  def __init__(self, train_df, test_df, hparams):\n",
        "    super(MT5FineTuner, self).__init__()\n",
        "    self.hparams = hparams\n",
        "    self.train_df = train_df\n",
        "    self.test_df = test_df\n",
        "    self.model = MT5ForConditionalGeneration.from_pretrained(hparams.model_name_or_path)\n",
        "    self.tokenizer = T5Tokenizer.from_pretrained(hparams.tokenizer_name_or_path)\n",
        "  \n",
        "  def is_logger(self):\n",
        "    return self.trainer.global_rank <= 0\n",
        "  \n",
        "  def forward(\n",
        "      self, input_ids, attention_mask=None, decoder_input_ids=None, decoder_attention_mask=None, lm_labels=None\n",
        "  ):\n",
        "    return self.model(\n",
        "        input_ids,\n",
        "        attention_mask=attention_mask,\n",
        "        decoder_input_ids=decoder_input_ids,\n",
        "        decoder_attention_mask=decoder_attention_mask,\n",
        "        labels=lm_labels,\n",
        "    )\n",
        "\n",
        "  def _step(self, batch):\n",
        "    lm_labels = batch[\"target_ids\"]\n",
        "    lm_labels[lm_labels[:, :] == self.tokenizer.pad_token_id] = -100\n",
        "\n",
        "    outputs = self(\n",
        "        input_ids=batch[\"source_ids\"],\n",
        "        attention_mask=batch[\"source_mask\"],\n",
        "        lm_labels=lm_labels,\n",
        "        decoder_attention_mask=batch['target_mask']\n",
        "    )\n",
        "\n",
        "    loss = outputs[0]\n",
        "\n",
        "    return loss\n",
        "\n",
        "  def training_step(self, batch, batch_idx):\n",
        "    loss = self._step(batch)\n",
        "\n",
        "    tensorboard_logs = {\"train_loss\": loss}\n",
        "    return {\"loss\": loss, \"log\": tensorboard_logs}\n",
        "  \n",
        "  def training_epoch_end(self, outputs):\n",
        "    print(outputs)\n",
        "    avg_train_loss = torch.stack([x[\"loss\"] for x in outputs]).mean()\n",
        "    tensorboard_logs = {\"avg_train_loss\": avg_train_loss}\n",
        "    return {\"avg_train_loss\": avg_train_loss, \"log\": tensorboard_logs, 'progress_bar': tensorboard_logs}\n",
        "\n",
        "  def validation_step(self, batch, batch_idx):\n",
        "    loss = self._step(batch)\n",
        "    return {\"val_loss\": loss}\n",
        "  \n",
        "  def validation_epoch_end(self, outputs):\n",
        "    avg_loss = torch.stack([x[\"val_loss\"] for x in outputs]).mean()\n",
        "    tensorboard_logs = {\"val_loss\": avg_loss}\n",
        "    return {\"avg_val_loss\": avg_loss, \"log\": tensorboard_logs, 'progress_bar': tensorboard_logs}\n",
        "\n",
        "  def configure_optimizers(self):\n",
        "    \"Prepare optimizer and schedule (linear warmup and decay)\"\n",
        "\n",
        "    model = self.model\n",
        "    no_decay = [\"bias\", \"LayerNorm.weight\"]\n",
        "    optimizer_grouped_parameters = [\n",
        "        {\n",
        "            \"params\": [p for n, p in model.named_parameters() if not any(nd in n for nd in no_decay)],\n",
        "            \"weight_decay\": self.hparams.weight_decay,\n",
        "        },\n",
        "        {\n",
        "            \"params\": [p for n, p in model.named_parameters() if any(nd in n for nd in no_decay)],\n",
        "            \"weight_decay\": 0.0,\n",
        "        },\n",
        "    ]\n",
        "    optimizer = AdamW(optimizer_grouped_parameters, lr=self.hparams.learning_rate, eps=self.hparams.adam_epsilon)\n",
        "    self.opt = optimizer\n",
        "    return [optimizer]\n",
        "  \n",
        "  def optimizer_step(self, epoch, batch_idx, optimizer, optimizer_idx, second_order_closure=None, on_tpu=False, using_native_amp=False, using_lbfgs=False):\n",
        "    if self.trainer.use_tpu:\n",
        "      xm.optimizer_step(optimizer)\n",
        "    else:\n",
        "      optimizer.step()\n",
        "    optimizer.zero_grad()\n",
        "    self.lr_scheduler.step()\n",
        "  \n",
        "  def get_tqdm_dict(self):\n",
        "    tqdm_dict = {\"loss\": \"{:.3f}\".format(self.trainer.avg_loss), \"lr\": self.lr_scheduler.get_last_lr()[-1]}\n",
        "\n",
        "    return tqdm_dict\n",
        "\n",
        "  def train_dataloader(self):\n",
        "    train_dataset = get_dataset(tokenizer=self.tokenizer, df=self.train_df, type_path=\"train\", args=self.hparams)\n",
        "    print(len(train_dataset))\n",
        "    dataloader = DataLoader(train_dataset, batch_size=self.hparams.train_batch_size, drop_last=True, shuffle=True, num_workers=4)\n",
        "    t_total = (\n",
        "        (len(dataloader.dataset) // (self.hparams.train_batch_size * max(1, self.hparams.n_gpu)))\n",
        "        // self.hparams.gradient_accumulation_steps\n",
        "        * float(self.hparams.num_train_epochs)\n",
        "    )\n",
        "    scheduler = get_linear_schedule_with_warmup(\n",
        "        self.opt, num_warmup_steps=self.hparams.warmup_steps, num_training_steps=t_total\n",
        "    )\n",
        "    self.lr_scheduler = scheduler\n",
        "    return dataloader\n",
        "\n",
        "  def val_dataloader(self):\n",
        "    val_dataset = get_dataset(tokenizer=self.tokenizer, df=self.test_df, type_path=\"val\", args=self.hparams)\n",
        "    print(len(val_dataset))\n",
        "    return DataLoader(val_dataset, batch_size=self.hparams.eval_batch_size, num_workers=4)"
      ],
      "execution_count": null,
      "outputs": []
    },
    {
      "cell_type": "markdown",
      "metadata": {
        "id": "c-Y-kGk2GnRK"
      },
      "source": [
        "## **Data-preparation**"
      ]
    },
    {
      "cell_type": "code",
      "metadata": {
        "id": "EQku-VFcuyMq",
        "colab": {
          "base_uri": "https://localhost:8080/",
          "height": 262,
          "referenced_widgets": [
            "3b568fd473fa4f859c8baa1e49a17d2d",
            "93acf4b983984bc2b5574d13f1edfdcb",
            "d249fb967fed4eff975017aa20e97a3f",
            "a82489e91652410489c42f15e6779a31",
            "75e8c15f03d14b568035ceeb922be19b",
            "06a13c9bc50340e79b99e9ad46d71f3c",
            "9b41884b3bae40d39b62e17940814dc1",
            "d06bc082c7614db1be5c837a144563cd",
            "23e6b2b4888246af9fba7fc6779becf9",
            "acde1afabd3542bbb7b48f5e8ca9570c",
            "d8e0f960cd5740be8fe83d0bab11cf0c",
            "9dd0f497db78420aa6f9c5bd3aaa9097",
            "8a5286f3ea62409199953e6c37470cdf",
            "9a9695ffedb5481b946959e5d02bc428",
            "a2ea3580342c4901be7b1505a00a91c4",
            "7423ec9879ce450997cab85551df8d8e",
            "ee20a49340b645e28a465bd4398fc0b8",
            "cd44df6e4ced4d76bf61d5e0ea2ccb7d",
            "c6ab8e5b08b94b908ac9d22b34506129",
            "543f7038ed8c44e68cf0fa5cadb47d8b",
            "ace7154a5a6f421c815146d2f34db9e9",
            "e64380f95adf4056a03470e811c0b047",
            "223c1e1234da45ba85fc9cb9b6e5e2a3",
            "459047d7d25c41e887327883f40991e2",
            "daf545e0b6794e498d43e04bf872aaa2",
            "2fca146db0224be59a906ab20b30fa60",
            "1395cc465cbb4dba89a0ac7e359d1e05",
            "e9aa09e5acf043fbaf03b15bcbccbee3",
            "341f88fefee94b2ead77a4cce2ed1759",
            "415d5daeef0641a189158a464f3c11e4",
            "1a4cd9023012494295c824e7d3643a06",
            "bef92fb4ac5447fcb516e0bd94a44ced",
            "29f79e23783e4378b496b0996d7dea56",
            "3f1de91b5c0d4cfd8dac29adc74f831f",
            "a76adb5a22f844a4926677a2f429fa6e",
            "9f59ad5952e3448fbb87cc18658f3693",
            "d74a81a3e1964e6796f2f38199f987d3",
            "cb609be2f4b8422a884bc6b474a6d449",
            "5d0b51339f2f49a295cc9fd943626e84",
            "6b1d4e24352b4d2c9d9ea43be1f140bb"
          ]
        },
        "outputId": "c2aab8ed-8b2d-485a-a54a-129acc789736"
      },
      "source": [
        "import dl_translate as dlt\n",
        "\n",
        "mt = dlt.TranslationModel()  # Slow when you load it for the first time\n"
      ],
      "execution_count": null,
      "outputs": [
        {
          "output_type": "display_data",
          "data": {
            "application/vnd.jupyter.widget-view+json": {
              "model_id": "3b568fd473fa4f859c8baa1e49a17d2d",
              "version_minor": 0,
              "version_major": 2
            },
            "text/plain": [
              "HBox(children=(FloatProgress(value=0.0, description='Downloading', max=5069051.0, style=ProgressStyle(descript…"
            ]
          },
          "metadata": {
            "tags": []
          }
        },
        {
          "output_type": "stream",
          "text": [
            "\n"
          ],
          "name": "stdout"
        },
        {
          "output_type": "display_data",
          "data": {
            "application/vnd.jupyter.widget-view+json": {
              "model_id": "23e6b2b4888246af9fba7fc6779becf9",
              "version_minor": 0,
              "version_major": 2
            },
            "text/plain": [
              "HBox(children=(FloatProgress(value=0.0, description='Downloading', max=649.0, style=ProgressStyle(description_…"
            ]
          },
          "metadata": {
            "tags": []
          }
        },
        {
          "output_type": "stream",
          "text": [
            "\n"
          ],
          "name": "stdout"
        },
        {
          "output_type": "display_data",
          "data": {
            "application/vnd.jupyter.widget-view+json": {
              "model_id": "ee20a49340b645e28a465bd4398fc0b8",
              "version_minor": 0,
              "version_major": 2
            },
            "text/plain": [
              "HBox(children=(FloatProgress(value=0.0, description='Downloading', max=529.0, style=ProgressStyle(description_…"
            ]
          },
          "metadata": {
            "tags": []
          }
        },
        {
          "output_type": "stream",
          "text": [
            "\n"
          ],
          "name": "stdout"
        },
        {
          "output_type": "display_data",
          "data": {
            "application/vnd.jupyter.widget-view+json": {
              "model_id": "daf545e0b6794e498d43e04bf872aaa2",
              "version_minor": 0,
              "version_major": 2
            },
            "text/plain": [
              "HBox(children=(FloatProgress(value=0.0, description='Downloading', max=1429.0, style=ProgressStyle(description…"
            ]
          },
          "metadata": {
            "tags": []
          }
        },
        {
          "output_type": "stream",
          "text": [
            "\n"
          ],
          "name": "stdout"
        },
        {
          "output_type": "display_data",
          "data": {
            "application/vnd.jupyter.widget-view+json": {
              "model_id": "29f79e23783e4378b496b0996d7dea56",
              "version_minor": 0,
              "version_major": 2
            },
            "text/plain": [
              "HBox(children=(FloatProgress(value=0.0, description='Downloading', max=2444714899.0, style=ProgressStyle(descr…"
            ]
          },
          "metadata": {
            "tags": []
          }
        },
        {
          "output_type": "stream",
          "text": [
            "\n"
          ],
          "name": "stdout"
        }
      ]
    },
    {
      "cell_type": "code",
      "metadata": {
        "id": "gt0299LcCEO_",
        "colab": {
          "base_uri": "https://localhost:8080/"
        },
        "outputId": "4af41771-063d-4089-994d-e1ae819d7f0f"
      },
      "source": [
        "import nltk\n",
        "from nltk.tokenize import word_tokenize\n",
        "from nltk.corpus import stopwords\n",
        "from nltk import wordpunct_tokenize\n",
        "import pickle\n",
        "nltk.download('stopwords')\n",
        "\n",
        "with open(\"/content/drive/MyDrive/Inter-IIT/dictionary.pickle\", \"rb\") as translit:\n",
        "  translit_dic = pickle.load(translit)\n",
        "  \n",
        "def translit_text(text, translit_dic):\n",
        "\n",
        "    english_stopwords_set = set(stopwords.words('english'))\n",
        "    tokens = wordpunct_tokenize(text)\n",
        "    words = [word.lower() for word in tokens]\n",
        "\n",
        "    translit_text = \"\"\n",
        "\n",
        "    for word in words:\n",
        "        if word in english_stopwords_set:\n",
        "            translit_text = translit_text + \" \" + word\n",
        "        elif (word in translit_dic):\n",
        "            translit_text = translit_text + \" \" + translit_dic[word]\n",
        "        else:\n",
        "            translit_text = translit_text + \" \" + word\n",
        "\n",
        "    return translit_text"
      ],
      "execution_count": null,
      "outputs": [
        {
          "output_type": "stream",
          "text": [
            "[nltk_data] Downloading package stopwords to /root/nltk_data...\n",
            "[nltk_data]   Unzipping corpora/stopwords.zip.\n"
          ],
          "name": "stdout"
        }
      ]
    },
    {
      "cell_type": "code",
      "metadata": {
        "colab": {
          "base_uri": "https://localhost:8080/",
          "height": 405
        },
        "id": "30ILKJwLDWQE",
        "outputId": "c489bab0-3b7d-4859-d79a-44f35f711a10"
      },
      "source": [
        "train_df[train_df['Headline_lang'] == 'Mix']"
      ],
      "execution_count": null,
      "outputs": [
        {
          "output_type": "execute_result",
          "data": {
            "text/html": [
              "<div>\n",
              "<style scoped>\n",
              "    .dataframe tbody tr th:only-of-type {\n",
              "        vertical-align: middle;\n",
              "    }\n",
              "\n",
              "    .dataframe tbody tr th {\n",
              "        vertical-align: top;\n",
              "    }\n",
              "\n",
              "    .dataframe thead th {\n",
              "        text-align: right;\n",
              "    }\n",
              "</style>\n",
              "<table border=\"1\" class=\"dataframe\">\n",
              "  <thead>\n",
              "    <tr style=\"text-align: right;\">\n",
              "      <th></th>\n",
              "      <th>index</th>\n",
              "      <th>Text_ID</th>\n",
              "      <th>Text</th>\n",
              "      <th>Headline</th>\n",
              "      <th>Mobile_Tech_Flag</th>\n",
              "      <th>Headline_lang</th>\n",
              "    </tr>\n",
              "  </thead>\n",
              "  <tbody>\n",
              "    <tr>\n",
              "      <th>55</th>\n",
              "      <td>3990</td>\n",
              "      <td>article_3991</td>\n",
              "      <td>About Us Page Kaise Banaye Website/Blog ke liy...</td>\n",
              "      <td>About Us Page Kaise Banaye Website/Blog ke liy...</td>\n",
              "      <td>0</td>\n",
              "      <td>Mix</td>\n",
              "    </tr>\n",
              "    <tr>\n",
              "      <th>74</th>\n",
              "      <td>1490</td>\n",
              "      <td>article_1491</td>\n",
              "      <td>Biogen Announces FDA Approval of PLEGRIDY® (pe...</td>\n",
              "      <td>Biogen Announces FDA Approval of PLEGRIDY® (pe...</td>\n",
              "      <td>0</td>\n",
              "      <td>Mix</td>\n",
              "    </tr>\n",
              "    <tr>\n",
              "      <th>171</th>\n",
              "      <td>3978</td>\n",
              "      <td>article_3979</td>\n",
              "      <td>101 Top Useful Website list [2019]\\nNovember 3...</td>\n",
              "      <td>101 Top Useful Website list [2019]</td>\n",
              "      <td>0</td>\n",
              "      <td>Mix</td>\n",
              "    </tr>\n",
              "    <tr>\n",
              "      <th>250</th>\n",
              "      <td>3422</td>\n",
              "      <td>article_3423</td>\n",
              "      <td>Infinix recently launched its mid-budget smart...</td>\n",
              "      <td>Product Review: Infinix Zero 8i Smartphone</td>\n",
              "      <td>1</td>\n",
              "      <td>Mix</td>\n",
              "    </tr>\n",
              "    <tr>\n",
              "      <th>285</th>\n",
              "      <td>382</td>\n",
              "      <td>article_0383</td>\n",
              "      <td>The past year may have impacted several catego...</td>\n",
              "      <td>GAMING: THE NEXT FRONTIER</td>\n",
              "      <td>0</td>\n",
              "      <td>Mix</td>\n",
              "    </tr>\n",
              "    <tr>\n",
              "      <th>...</th>\n",
              "      <td>...</td>\n",
              "      <td>...</td>\n",
              "      <td>...</td>\n",
              "      <td>...</td>\n",
              "      <td>...</td>\n",
              "      <td>...</td>\n",
              "    </tr>\n",
              "    <tr>\n",
              "      <th>2697</th>\n",
              "      <td>3489</td>\n",
              "      <td>article_3490</td>\n",
              "      <td>MediaTek has released its new M80 5G modem whi...</td>\n",
              "      <td>MediaTek Introduces New M80 5G Modem</td>\n",
              "      <td>1</td>\n",
              "      <td>Mix</td>\n",
              "    </tr>\n",
              "    <tr>\n",
              "      <th>2756</th>\n",
              "      <td>3950</td>\n",
              "      <td>article_3951</td>\n",
              "      <td>250+ Badiya Blogger SEO Friendly or Mobile Fri...</td>\n",
              "      <td>250+ Badiya Blogger SEO Friendly or Mobile Fri...</td>\n",
              "      <td>1</td>\n",
              "      <td>Mix</td>\n",
              "    </tr>\n",
              "    <tr>\n",
              "      <th>2781</th>\n",
              "      <td>3490</td>\n",
              "      <td>article_3491</td>\n",
              "      <td>Xiaomi is all set to launch a toned down versi...</td>\n",
              "      <td>Xiaomi Mi 11 Lite Coming With 120Hz IPS LCD Di...</td>\n",
              "      <td>1</td>\n",
              "      <td>Mix</td>\n",
              "    </tr>\n",
              "    <tr>\n",
              "      <th>2812</th>\n",
              "      <td>3968</td>\n",
              "      <td>article_3969</td>\n",
              "      <td>Mobile Fast Charge Kaise kare | 📲 Phone Fast C...</td>\n",
              "      <td>Mobile Fast Charge Kaise kare | 📲 Phone Fast C...</td>\n",
              "      <td>1</td>\n",
              "      <td>Mix</td>\n",
              "    </tr>\n",
              "    <tr>\n",
              "      <th>2827</th>\n",
              "      <td>3242</td>\n",
              "      <td>article_3243</td>\n",
              "      <td>Please make sure your phone is not rooted\\n\\nT...</td>\n",
              "      <td>Realme rolls out Realme UI 2.0 early access pr...</td>\n",
              "      <td>1</td>\n",
              "      <td>Mix</td>\n",
              "    </tr>\n",
              "  </tbody>\n",
              "</table>\n",
              "<p>77 rows × 6 columns</p>\n",
              "</div>"
            ],
            "text/plain": [
              "      index       Text_ID  ... Mobile_Tech_Flag Headline_lang\n",
              "55     3990  article_3991  ...                0           Mix\n",
              "74     1490  article_1491  ...                0           Mix\n",
              "171    3978  article_3979  ...                0           Mix\n",
              "250    3422  article_3423  ...                1           Mix\n",
              "285     382  article_0383  ...                0           Mix\n",
              "...     ...           ...  ...              ...           ...\n",
              "2697   3489  article_3490  ...                1           Mix\n",
              "2756   3950  article_3951  ...                1           Mix\n",
              "2781   3490  article_3491  ...                1           Mix\n",
              "2812   3968  article_3969  ...                1           Mix\n",
              "2827   3242  article_3243  ...                1           Mix\n",
              "\n",
              "[77 rows x 6 columns]"
            ]
          },
          "metadata": {
            "tags": []
          },
          "execution_count": 46
        }
      ]
    },
    {
      "cell_type": "code",
      "metadata": {
        "colab": {
          "base_uri": "https://localhost:8080/"
        },
        "id": "uNvQowjZGFj9",
        "outputId": "4f457dd2-0a75-4c5b-c90e-76c3fd333102"
      },
      "source": [
        "print(train_df.iloc[55].Headline)\n",
        "print(translit_text(train_df.iloc[55].Headline, translit_dic))"
      ],
      "execution_count": null,
      "outputs": [
        {
          "output_type": "stream",
          "text": [
            "About Us Page Kaise Banaye Website/Blog ke liye or Usme Kya Likhe\n",
            " about उस  page कैसे बनाए वेबसाईट** / blog  के  लिए or उसमें क्या लिखे\n"
          ],
          "name": "stdout"
        }
      ]
    },
    {
      "cell_type": "code",
      "metadata": {
        "id": "zgSRzUeeDgFO"
      },
      "source": [
        "class HeadlineDataset(Dataset):\n",
        "    def __init__(self, tokenizer, df, type_path, max_len=512):\n",
        "\n",
        "        self.source_column = \"Text\"\n",
        "        self.target_column = \"Headline\"\n",
        "        self.target_label_column = \"Headline_lang\"\n",
        "        self.data = df\n",
        "        self.max_len = max_len\n",
        "        self.tokenizer = tokenizer\n",
        "        self.inputs = []\n",
        "        self.targets = []\n",
        "\n",
        "        self._build()\n",
        "\n",
        "    def __len__(self):\n",
        "        return len(self.inputs)\n",
        "\n",
        "    def __getitem__(self, index):\n",
        "        source_ids = self.inputs[index][\"input_ids\"].squeeze()\n",
        "        target_ids = self.targets[index][\"input_ids\"].squeeze()\n",
        "\n",
        "        src_mask = self.inputs[index][\"attention_mask\"].squeeze()  # might need to squeeze\n",
        "        target_mask = self.targets[index][\"attention_mask\"].squeeze()  # might need to squeeze\n",
        "\n",
        "        return {\"source_ids\": source_ids, \"source_mask\": src_mask, \"target_ids\": target_ids, \"target_mask\": target_mask}\n",
        "\n",
        "    def _build(self):\n",
        "        for idx in range(len(self.data)):\n",
        "            input_, target, target_lan = self.data.loc[idx, self.source_column], self.data.loc[idx, self.target_column], self.data.loc[idx, self.target_label_column]\n",
        "\n",
        "            #if target_lan == 'Mix':\n",
        "\n",
        "\n",
        "            input_ = target_lan + \" Headline: \"+ input_ + ' </s>'\n",
        "            if target_lan == 'Hindi':\n",
        "              target = mt.translate(target, source=dlt.lang.HINDI, target=dlt.lang.ENGLISH)\n",
        "            target = target + \" </s>\"\n",
        "\n",
        "            # tokenize inputs\n",
        "            tokenized_inputs = self.tokenizer.batch_encode_plus(\n",
        "                [input_], max_length=self.max_len, pad_to_max_length=True, return_tensors=\"pt\"\n",
        "            )\n",
        "            # tokenize targets\n",
        "            tokenized_targets = self.tokenizer.batch_encode_plus(\n",
        "                [target], max_length=self.max_len, pad_to_max_length=True, return_tensors=\"pt\"\n",
        "            )\n",
        "\n",
        "            self.inputs.append(tokenized_inputs)\n",
        "            self.targets.append(tokenized_targets)"
      ],
      "execution_count": null,
      "outputs": []
    },
    {
      "cell_type": "code",
      "metadata": {
        "id": "JDSgGOxsQM9H",
        "colab": {
          "base_uri": "https://localhost:8080/",
          "height": 163,
          "referenced_widgets": [
            "ee94ad73afa74754a8281492728e4f74",
            "598c9a44a75c4943acd3e6da7061455d",
            "0e2b7182e78e49b5a715cb8dea2cbee1",
            "0320e75918eb49b38676939735f658f4",
            "8cd67031c90e4e17a65d40bf9315fc02",
            "d84825fd583743638a54c57d0999f989",
            "7528fae51c954821a7e1bb4dfbb29789",
            "fd65ffe4b3bb4df0820a93ddf9b5d406",
            "98a920edcca348a1b8c20b81681a3250",
            "1300a6c25ce545ec8ebf82fa79f25505",
            "5ef6b79e1f3a463fadb138bad71af826",
            "dcb82bc81d3b4bf28b4e7eed7449ca31",
            "ce8e0a5e4048483dba4c723eec5c84e9",
            "66bbe685a68e48e6b9b4f56951c20f14",
            "fd6ea14c93de4c0bb4995e8820a8ed64",
            "05b9e3c8c7294d17ab5f8762ddc3876b",
            "1c6cbb73be694875821911839f5664fe",
            "3553813aff1449cfa4a08c8030a089a2",
            "b1db1799832a4515aa8b0d17aaf47671",
            "418114b96b53402f9aa52831371bf759",
            "aef101c3aaa74d2fb26ce72458ca5882",
            "fd00284b9c5f4a8a947fda3400485f92",
            "236a13cdbb454c178ef71622544c6dd4",
            "de01907d860b4700bc323d88c697b1bc"
          ]
        },
        "outputId": "591c7e84-21ad-47e8-fdb6-50cae3f28fad"
      },
      "source": [
        "tokenizer = T5Tokenizer.from_pretrained('google/mt5-small')"
      ],
      "execution_count": null,
      "outputs": [
        {
          "output_type": "display_data",
          "data": {
            "application/vnd.jupyter.widget-view+json": {
              "model_id": "ee94ad73afa74754a8281492728e4f74",
              "version_minor": 0,
              "version_major": 2
            },
            "text/plain": [
              "HBox(children=(FloatProgress(value=0.0, description='Downloading', max=4309802.0, style=ProgressStyle(descript…"
            ]
          },
          "metadata": {
            "tags": []
          }
        },
        {
          "output_type": "stream",
          "text": [
            "\n"
          ],
          "name": "stdout"
        },
        {
          "output_type": "display_data",
          "data": {
            "application/vnd.jupyter.widget-view+json": {
              "model_id": "98a920edcca348a1b8c20b81681a3250",
              "version_minor": 0,
              "version_major": 2
            },
            "text/plain": [
              "HBox(children=(FloatProgress(value=0.0, description='Downloading', max=99.0, style=ProgressStyle(description_w…"
            ]
          },
          "metadata": {
            "tags": []
          }
        },
        {
          "output_type": "stream",
          "text": [
            "\n"
          ],
          "name": "stdout"
        },
        {
          "output_type": "display_data",
          "data": {
            "application/vnd.jupyter.widget-view+json": {
              "model_id": "1c6cbb73be694875821911839f5664fe",
              "version_minor": 0,
              "version_major": 2
            },
            "text/plain": [
              "HBox(children=(FloatProgress(value=0.0, description='Downloading', max=82.0, style=ProgressStyle(description_w…"
            ]
          },
          "metadata": {
            "tags": []
          }
        },
        {
          "output_type": "stream",
          "text": [
            "\n"
          ],
          "name": "stdout"
        }
      ]
    },
    {
      "cell_type": "code",
      "metadata": {
        "id": "6-LO-_qRQIr4"
      },
      "source": [
        "#dataset = HeadlineDataset(tokenizer, test_df, 'train',  max_len=512)\n",
        "#len(dataset)"
      ],
      "execution_count": null,
      "outputs": []
    },
    {
      "cell_type": "code",
      "metadata": {
        "id": "Qgcuy0eyQ0K2"
      },
      "source": [
        "#data = dataset[74]\n",
        "#print(tokenizer.decode(data['source_ids']))\n",
        "#print(tokenizer.decode(data['target_ids']))"
      ],
      "execution_count": null,
      "outputs": []
    },
    {
      "cell_type": "code",
      "metadata": {
        "id": "RSBqWPS_P2m7"
      },
      "source": [
        "def get_dataset(tokenizer, df, type_path, args):\n",
        "  return HeadlineDataset(tokenizer=tokenizer, df=df, type_path=type_path,  max_len=args.max_seq_length)"
      ],
      "execution_count": null,
      "outputs": []
    },
    {
      "cell_type": "markdown",
      "metadata": {
        "id": "gKrWMoesqg7E"
      },
      "source": [
        "## **Pytorch-base**"
      ]
    },
    {
      "cell_type": "code",
      "metadata": {
        "id": "0P6TYLa1KPGv"
      },
      "source": [
        "save_model = True\n",
        "load_model = True"
      ],
      "execution_count": null,
      "outputs": []
    },
    {
      "cell_type": "code",
      "metadata": {
        "id": "m3gZA4G_qgKD"
      },
      "source": [
        "model = MT5ForConditionalGeneration.from_pretrained('google/mt5-small')\n",
        "tokenizer = T5Tokenizer.from_pretrained('google/mt5-small')"
      ],
      "execution_count": null,
      "outputs": []
    },
    {
      "cell_type": "code",
      "metadata": {
        "id": "v1DVL5Sdr0mx"
      },
      "source": [
        "train_dataset = HeadlineDataset(tokenizer=tokenizer, df=train_df, type_path='train',  max_len=512)\n",
        "train_loader = DataLoader(train_dataset, batch_size=1, drop_last=True, shuffle=True, num_workers=4)"
      ],
      "execution_count": null,
      "outputs": []
    },
    {
      "cell_type": "code",
      "metadata": {
        "id": "7fMD_5W9qgMk"
      },
      "source": [
        "model.cuda()"
      ],
      "execution_count": null,
      "outputs": []
    },
    {
      "cell_type": "code",
      "metadata": {
        "id": "bxixzwFnqgOm"
      },
      "source": [
        "optimizer = AdamW(model.parameters(), lr = 1e-4, eps = 1e-8)"
      ],
      "execution_count": null,
      "outputs": []
    },
    {
      "cell_type": "code",
      "metadata": {
        "id": "YHa_mbNGqgQ_"
      },
      "source": [
        "from transformers import get_linear_schedule_with_warmup\n",
        "\n",
        "# num epochs\n",
        "epochs = 25\n",
        "\n",
        "# Total training steps is basically  no. of batches * total epochs \n",
        "total_training_steps = len(train_loader)*epochs\n",
        "\n",
        "scheduler = get_linear_schedule_with_warmup(optimizer,\n",
        "                                            num_warmup_steps = 0,\n",
        "                                            num_training_steps = total_training_steps)"
      ],
      "execution_count": null,
      "outputs": []
    },
    {
      "cell_type": "code",
      "metadata": {
        "id": "L5H-P0QjKv8l"
      },
      "source": [
        "PATH = '/content/drive/My Drive/Inter-IIT/Checkpoints/MT5'\n",
        "checkpoint_path = '/content/drive/My Drive/Inter-IIT/Checkpoints/MT5/checkpoint_latest.pt'"
      ],
      "execution_count": null,
      "outputs": []
    },
    {
      "cell_type": "code",
      "metadata": {
        "id": "JUKnerQfim6P"
      },
      "source": [
        "if(load_model):\n",
        "  checkpoint = torch.load(checkpoint_path)\n",
        "  model.load_state_dict(checkpoint['model_state_dict'])\n",
        "  # optimizer.load_state_dict(checkpoint['optimizer_state_dict'])\n",
        "  scheduler.load_state_dict(checkpoint['scheduler_state_dict'])\n",
        "  # epoch = checkpoint['epoch']\n",
        "  # loss = checkpoint['loss']"
      ],
      "execution_count": null,
      "outputs": []
    },
    {
      "cell_type": "code",
      "metadata": {
        "id": "HqDg6TYGqgTG"
      },
      "source": [
        "from tqdm import tqdm\n",
        "\n",
        "loss_values = []\n",
        "\n",
        "for i in range(0, epochs):\n",
        "    print(\"\")\n",
        "    print(f\"======= Epoch {i + 1}/{epochs} =======\")\n",
        "    print(\"Training.....\")\n",
        "\n",
        "    total_loss = 0 \n",
        "    model.train()\n",
        "    \n",
        "    for step, batch in enumerate(tqdm(train_loader)):\n",
        "        optimizer.zero_grad()\n",
        "        lm_labels = batch[\"target_ids\"]\n",
        "        lm_labels[lm_labels[:, :] == tokenizer.pad_token_id] = -100\n",
        "        \n",
        "        input_ids=batch[\"source_ids\"].cuda()\n",
        "        attention_mask=batch[\"source_mask\"].cuda()\n",
        "        lm_labels=lm_labels.cuda()\n",
        "        decoder_attention_mask=batch['target_mask'].cuda()\n",
        "        \n",
        "        # Forward Pass\n",
        "        outputs = model(input_ids,\n",
        "                      attention_mask=attention_mask,\n",
        "                      decoder_input_ids=None,\n",
        "                      decoder_attention_mask=decoder_attention_mask,\n",
        "                      labels=lm_labels)\n",
        "        loss = outputs[0]\n",
        "        total_loss += loss.item()\n",
        "        \n",
        "        # Backward Pass \n",
        "        loss.backward()\n",
        "        t.nn.utils.clip_grad_norm_(model.parameters(),1.0)\n",
        "        optimizer.step()\n",
        "        scheduler.step()\n",
        "\n",
        "    avg_loss = (total_loss / len(train_loader))\n",
        "    print(f'The average Training Loss after {i + 1} epochs : {avg_loss}')\n",
        "    loss_values.append(avg_loss)\n",
        "\n",
        "    if(save_model):\n",
        "      print(f'Saving Checkpoint =>')\n",
        "      t.save({\n",
        "              'epoch': i,\n",
        "              'model_state_dict': model.state_dict(),\n",
        "              'optimizer_state_dict': optimizer.state_dict(),\n",
        "              'scheduler_state_dict' : scheduler.state_dict(),\n",
        "              'loss': avg_loss,\n",
        "              }, PATH + f'/checkpoint_latest.pt')\n"
      ],
      "execution_count": null,
      "outputs": []
    },
    {
      "cell_type": "markdown",
      "metadata": {
        "id": "za6Z6S7sxNXY"
      },
      "source": [
        "## **Evaluation**"
      ]
    },
    {
      "cell_type": "code",
      "metadata": {
        "id": "TEOEzxE6Az2K"
      },
      "source": [
        "dataset = HeadlineDataset(tokenizer, test_df, 'test',  max_len=512)\n",
        "data = dataset[90]"
      ],
      "execution_count": null,
      "outputs": []
    },
    {
      "cell_type": "code",
      "metadata": {
        "id": "nG8de7NSAgx1"
      },
      "source": [
        "article = tokenizer.decode(data['source_ids'])\n",
        "label = tokenizer.decode(data['target_ids'])\n",
        "print(article)\n",
        "print(label)"
      ],
      "execution_count": null,
      "outputs": []
    },
    {
      "cell_type": "code",
      "metadata": {
        "id": "cyyNtL3OB4ap"
      },
      "source": [
        "article = test_df.iloc[10].Text\n",
        "print(article)"
      ],
      "execution_count": null,
      "outputs": []
    },
    {
      "cell_type": "code",
      "metadata": {
        "id": "gKIDzZRhBKHz"
      },
      "source": [
        "# text = \"Hindi Headline: \" + article \n",
        "\n",
        "# max_len = 64\n",
        "\n",
        "# encoding = tokenizer.encode_plus(text,pad_to_max_length=True, return_tensors=\"pt\")\n",
        "# input_ids, attention_masks = encoding[\"input_ids\"].to(device), encoding[\"attention_mask\"].to(device)\n",
        "\n",
        "# # set top_k = 50 and set top_p = 0.95 and num_return_sequences = 3\n",
        "# beam_outputs = model.generate(\n",
        "#     input_ids=input_ids, attention_mask=attention_masks,\n",
        "#     do_sample=True,\n",
        "#     max_length=64,\n",
        "#     top_k=120,\n",
        "#     top_p=0.98,\n",
        "#     early_stopping=True,\n",
        "#     num_return_sequences=10\n",
        "# )\n",
        "\n",
        "\n",
        "# # print (\"\\nOriginal Question ::\")\n",
        "# # print (sentence)\n",
        "# # print (\"\\n\")\n",
        "# # print (\"Paraphrased Questions :: \")\n",
        "# final_outputs =[]\n",
        "# for beam_output in beam_outputs:\n",
        "#     sent = tokenizer.decode(beam_output, skip_special_tokens=True,clean_up_tokenization_spaces=True)\n",
        "#     # if sent.lower() != sentence.lower() and sent not in final_outputs:\n",
        "#     final_outputs.append(sent)\n",
        "\n",
        "# for i, final_output in enumerate(final_outputs):\n",
        "#     print(\"{}: {}\".format(i, final_output))"
      ],
      "execution_count": null,
      "outputs": []
    },
    {
      "cell_type": "code",
      "metadata": {
        "id": "WLpe6toFJgbt"
      },
      "source": [
        "article = '''\n",
        "Realme 8 और Realme 8 Pro स्मार्टफोन के लिए प्री-बुकिंग Flipkart पर लॉन्च से पहले लाइव हो गई है। यह स्मार्टफोन 24 मार्च को भारत में लॉन्च किए जाएंगे। ई-कॉमर्स वेबसाइट पर एक नई माइक्रो साइट लाइव की गई है, जिसमें जानकारी दी गई है कि Realme 8 सीरीज़ 24 मार्च को भारत में शाम 7.30 बजे लॉन्च होगी। यही नहीं, इसके जरिए सीरीज़ के स्मार्टफोन के प्रमुख स्पेसिफिकेशन की जानकारी के साथ-साथ रियलमी 8 और रिलमी 8 प्रो स्मार्टफोन को प्री-बुक करने का भी मौका मिल रहा है। रियलमी 8 सीरीज़ के लॉन्च की जानकारी को Realme India YouTube चैनल के जरिए भी टीज़ किया गया है। Realme 8 series pre-orders Realme 8 सीरीज़ की प्री-बुकिंग आज 15 मार्च दोपहर 12 बजे से शुरू कर दी गई है, जो कि 22 मार्च तक चलेगी। Realme 8 और Realme 8 Pro स्मार्टफोन की प्री-बुकिंग के लिए आपको Flipkart पेज पर जाना होगा और वहां खुद को रजिस्टर करना होगा। इसके बाद आपको 1,080 रुपये की कीमत वाला Flipkart Electronic Gift Voucher खरीदना होगा और 24 मार्च को एक बार फिर वेबसाइट पर विजिट करना होगा जब रियलमी 8 सीरीज़ डिवाइस के लिए सेल तारीख का ऐलान कर दिया जाएगा। रियलमी 8 सीरीज़ फोन की प्री-बुकिंग करने वाले ग्राहकों को Realme Buds Air Neo ट्रू वायरलेस स्टीरियो ईयरफोन 50 प्रतिशत छूट के साथ खरीदने का मौका मिलेगा, जो कि पिछले साल लॉन्च हुए थे। उन्हें Flipkart app पर ट्रू वायरलेस ईयरफोन खरीदने के लिए एक डिस्काउंट कूपन दिया जाएगा। प्री-बुकिंग कराने वाले ग्राहकों को रियलमी 8 सीरीज़ के फोन 10 दिनों के अंदर प्राप्त होंगे। डिस्काउंट के बाद रियलमी बड्स नियो एयर की कीमत 1,499 रुपये हो जाएगी। Realme 8 and Realme 8 Pro specifications (expected) फ्लिपकार्ट पेज के माध्यम से पुष्टि होती है कि रियलमी 8 सीरीज़ में 108 मेगापिक्सल का कैमरा फीचर होगा। 108 मेगापिक्सल कैमरे में 9 इन 1 पिक्सल बाइनिंग मिलेगी, जो कि लो-लाइट फोटोग्राफी में मदद करेगी। इसमें टाइम लैप्स वीडियोज़ के लिए Starry Mode और 3x zoom दिया जाएगा। हालांकि, यह फीचर सीरीज़ के टॉप-एंड Realme 8 Pro स्मार्टफोन में मिलेंगे। फ्लिपकार्ट माइक्रो साइट के अनुसार, रियलमी 8 प्रो 176 ग्राम भारी होगा और 8.1mm मोटा। गौरतलब है कि प्रो वेरिएंट कथित रूप से यूएस एफसीसी लिस्टिंग पर लिस्ट हुआ था, जिससे संकेत मिला था कि रियलमी 8 प्रो फोन में 4,500 एमएएच की बैटरी के साथ 65 वॉट फास्ट चार्जिंग सपोर्ट मिलेगा। कंपनी के सीईओ माधव सेठ द्वारा ने ट्विटर पर एक तस्वीर पोस्ट की थी जिसमें रियलमी 8 का पिछला हिस्सा देखा जा सकता है, जिसमें फोन के कुछ स्पेसिफिकेशन की जानकारी का खुलासा किया गया है। जैसे कि यह फोन 6.4 इंच सुपर एमोलेड डिस्प्ले और मीडियाटेक हीलियो जी95 प्रोसेसर से लैस होगा। फोन में क्वाड रियर कैमरा सेटअप मौजूद होगा, जिसका प्राइमरी कैमरा 64 मेगापिक्सल का होगा। इसके अलावा, फोन की बैटरी 5,000 एमएएच की होगी, जिसके साथ 30 वॉट डार्ट चार्ज फास्ट चार्जिंग सपोर्ट मिलेगा। COMMENTS लेटेस्ट टेक न्यूज़, स्मार्टफोन रिव्यू और लोकप्रिय मोबाइल पर मिलने वाले एक्सक्लूसिव ऑफर के लिए गैजेट्स 360 एंड्रॉयड ऐप डाउनलोड करें और हमें गूगल समाचार पर फॉलो करें।\n",
        "'''\n",
        "\n",
        "text =  \"English Headline: \" + article\n",
        "\n",
        "encoding = tokenizer.encode_plus(text, return_tensors = \"pt\")\n",
        "input_ids = encoding[\"input_ids\"].to(device)\n",
        "attention_masks = encoding[\"attention_mask\"].to(device)\n",
        "\n",
        "beam_outputs = model.generate(\n",
        "              input_ids = input_ids,\n",
        "              attention_mask = attention_masks,\n",
        "              max_length = 64,\n",
        "              num_beams = 3,\n",
        "              early_stopping =  True,\n",
        "              )\n",
        "\n",
        "result = tokenizer.decode(beam_outputs[0])\n",
        "print(result)"
      ],
      "execution_count": null,
      "outputs": []
    },
    {
      "cell_type": "code",
      "metadata": {
        "id": "0Xk2npnhrwk5"
      },
      "source": [
        "# import dl_translate as dlt\n",
        "\n",
        "# mt = dlt.TranslationModel()  # Slow when you load it for the first time\n"
      ],
      "execution_count": null,
      "outputs": []
    },
    {
      "cell_type": "code",
      "metadata": {
        "id": "5j2m0YeCvfwZ"
      },
      "source": [
        "print(mt.available_languages())  # All languages that you can use"
      ],
      "execution_count": null,
      "outputs": []
    },
    {
      "cell_type": "code",
      "metadata": {
        "id": "MU8e0N8_tio2"
      },
      "source": [
        "text_hi = result\n",
        "mt.translate(text_hi, source=dlt.lang.HINDI, target=dlt.lang.ENGLISH)"
      ],
      "execution_count": null,
      "outputs": []
    },
    {
      "cell_type": "code",
      "metadata": {
        "id": "m9uJQJANu-2s"
      },
      "source": [
        "translator.translate(result)"
      ],
      "execution_count": null,
      "outputs": []
    },
    {
      "cell_type": "code",
      "metadata": {
        "id": "2LFUdXzHz0Qi"
      },
      "source": [
        "# translator.translate(result[5:-4])"
      ],
      "execution_count": null,
      "outputs": []
    },
    {
      "cell_type": "code",
      "metadata": {
        "id": "t69DoWnIRnwh"
      },
      "source": [
        "# article = ''' \n",
        "# michromax in 1 smaartaphon 19 maarch ko lonch kiya jaega. lonch se pahale yah phon ee-komars vebasait flipkart par list kar diya gaya hai, jahaan smaartaphon ke dizain ko dekha ja sakata hai. vebasait par in 1 phon ko indiya ka naya blokabastar bataaya gaya hai, jahaan isakee khoobiyon ko boleevud philmon ke naam die gae hain, jaise geming ka galee boy, disple ka don, kaimare ka khilaadee, daata ka dabang aur stail ka suparastaar. yahee nahin, phlipakaart listing ke alaava, xd  devalapar dvaara is phon ke spesiphikeshan kee jaanakaaree bhee onalain leek kee gaee hai.\n",
        "\n",
        "# '''\n",
        "\n",
        "# text =  'English' + ' Headline: ' + article \n",
        "\n",
        "# encoding = tokenizer.encode_plus(text, return_tensors = \"pt\")\n",
        "# input_ids = encoding[\"input_ids\"].to(device)\n",
        "# attention_masks = encoding[\"attention_mask\"].to(device)\n",
        "\n",
        "# beam_outputs = model.generate(\n",
        "#               input_ids = input_ids,\n",
        "#               attention_mask = attention_masks,\n",
        "#               max_length = 64,\n",
        "#               num_beams = 3,\n",
        "#               early_stopping =  True,\n",
        "#               )\n",
        "\n",
        "# result = tokenizer.decode(beam_outputs[0])\n",
        "# print(result)\n"
      ],
      "execution_count": null,
      "outputs": []
    },
    {
      "cell_type": "code",
      "metadata": {
        "id": "4tgWIcnFTwjG"
      },
      "source": [
        "text =  \"Hindi\" + \" Headline: \" + article + \" </s>\"\n",
        "\n",
        "\n",
        "max_len = 64\n",
        "\n",
        "encoding = tokenizer.encode_plus(text,pad_to_max_length=True, return_tensors=\"pt\")\n",
        "input_ids, attention_masks = encoding[\"input_ids\"].to(device), encoding[\"attention_mask\"].to(device)\n",
        "\n",
        "\n",
        "# set top_k = 50 and set top_p = 0.95 and num_return_sequences = 3\n",
        "beam_outputs = model.generate(\n",
        "    input_ids=input_ids, attention_mask=attention_masks,\n",
        "    do_sample=True,\n",
        "    max_length=64,\n",
        "    top_k=150,\n",
        "    top_p=0.95,\n",
        "    early_stopping=True,\n",
        "    num_return_sequences=1\n",
        ")\n",
        "\n",
        "\n",
        "# print (\"\\nOriginal Question ::\")\n",
        "# print (sentence)\n",
        "# print (\"\\n\")\n",
        "# print (\"Paraphrased Questions :: \")\n",
        "final_outputs =[]\n",
        "for beam_output in beam_outputs:\n",
        "    sent = tokenizer.decode(beam_output, skip_special_tokens=True,clean_up_tokenization_spaces=True)\n",
        "    # if sent.lower() != sentence.lower() and sent not in final_outputs:\n",
        "    final_outputs.append(sent)\n",
        "\n",
        "for i, final_output in enumerate(final_outputs):\n",
        "    print(\"{}: {}\".format(i, final_output))"
      ],
      "execution_count": null,
      "outputs": []
    },
    {
      "cell_type": "code",
      "metadata": {
        "id": "F9nF9LYApi5t"
      },
      "source": [
        "# from google_trans_new import google_translator\n",
        "# from pprint import pprint\n",
        "\n",
        "# # init the Google API translator\n",
        "# def convert_all2eng(head_list):\n",
        "#     translator = google_translator()\n",
        "#     eng_list = []\n",
        "#     for i, head in enumerate(head_list):\n",
        "#         #print(hi)\n",
        "#         print('Headline {}'.format(i+1))\n",
        "#         # translate a hinglish text to english text (by default)\n",
        "#         print(head)\n",
        "#         translation = translator.translate(head)\n",
        "#         print(translation)\n",
        "#         translation = translator.translate(translation)\n",
        "#         eng_list.append(translation)\n",
        "#     return eng_list"
      ],
      "execution_count": null,
      "outputs": []
    },
    {
      "cell_type": "code",
      "metadata": {
        "id": "GbC5El5wqy3n"
      },
      "source": [
        "final_outputs"
      ],
      "execution_count": null,
      "outputs": []
    },
    {
      "cell_type": "code",
      "metadata": {
        "id": "lFsbM-smqQ5a"
      },
      "source": [
        "eng_list = convert_all2eng(final_outputs[:5])"
      ],
      "execution_count": null,
      "outputs": []
    },
    {
      "cell_type": "code",
      "metadata": {
        "id": "I-XFJbQrqj-X"
      },
      "source": [
        "eng_list"
      ],
      "execution_count": null,
      "outputs": []
    },
    {
      "cell_type": "markdown",
      "metadata": {
        "id": "-8jgy5eqPbjB"
      },
      "source": [
        "## **Training-Lightning**"
      ]
    },
    {
      "cell_type": "code",
      "metadata": {
        "id": "ymEFWSZrObUF"
      },
      "source": [
        "logger = logging.getLogger(__name__)\n",
        "\n",
        "class LoggingCallback(pl.Callback):\n",
        "  def on_validation_end(self, trainer, pl_module):\n",
        "    logger.info(\"***** Validation results *****\")\n",
        "    if pl_module.is_logger():\n",
        "      metrics = trainer.callback_metrics\n",
        "      # Log results\n",
        "      for key in sorted(metrics):\n",
        "        if key not in [\"log\", \"progress_bar\"]:\n",
        "          logger.info(\"{} = {}\\n\".format(key, str(metrics[key])))\n",
        "\n",
        "  def on_test_end(self, trainer, pl_module):\n",
        "    logger.info(\"***** Test results *****\")\n",
        "\n",
        "    if pl_module.is_logger():\n",
        "      metrics = trainer.callback_metrics\n",
        "\n",
        "      # Log and save results to file\n",
        "      output_test_results_file = os.path.join(pl_module.hparams.output_dir, \"test_results.txt\")\n",
        "      with open(output_test_results_file, \"w\") as writer:\n",
        "        for key in sorted(metrics):\n",
        "          if key not in [\"log\", \"progress_bar\"]:\n",
        "            logger.info(\"{} = {}\\n\".format(key, str(metrics[key])))\n",
        "            writer.write(\"{} = {}\\n\".format(key, str(metrics[key])))"
      ],
      "execution_count": null,
      "outputs": []
    },
    {
      "cell_type": "code",
      "metadata": {
        "id": "96l5G1YLOesA"
      },
      "source": [
        "args_dict = dict(\n",
        "    data_dir=\"\", # path for data files\n",
        "    output_dir=\"\", # path to save the checkpoints\n",
        "    model_name_or_path='google/mt5-small',\n",
        "    tokenizer_name_or_path='google/mt5-small',\n",
        "    max_seq_length=512,\n",
        "    learning_rate=1e-4,\n",
        "    weight_decay=0.0,\n",
        "    adam_epsilon=1e-8,\n",
        "    warmup_steps=0,\n",
        "    train_batch_size=8,\n",
        "    eval_batch_size=8,\n",
        "    num_train_epochs=2,\n",
        "    gradient_accumulation_steps=1,\n",
        "    n_gpu=1,\n",
        "    early_stop_callback=False,\n",
        "    fp_16=False, # if you want to enable 16-bit training then install apex and set this to true\n",
        "    opt_level='O1', # you can find out more on optimisation levels here https://nvidia.github.io/apex/amp.html#opt-levels-and-properties\n",
        "    max_grad_norm=1.0, # if you enable 16-bit training then set this to a sensible value, 0.5 is a good default\n",
        "    seed=42,\n",
        ")"
      ],
      "execution_count": null,
      "outputs": []
    },
    {
      "cell_type": "code",
      "metadata": {
        "id": "_VuTP3mQDgG5"
      },
      "source": [
        "from pytorch_lightning.callbacks import ModelCheckpoint\n",
        "\n",
        "args_dict.update({'output_dir': 't5_imdb_sentiment', 'num_train_epochs':2})\n",
        "args = argparse.Namespace(**args_dict)\n",
        "\n",
        "checkpoint_callback = pl.callbacks.ModelCheckpoint(\n",
        "    dirpath=args.output_dir, prefix=\"checkpoint\", monitor=\"val_loss\", mode=\"min\", save_top_k=5\n",
        ")\n",
        "\n",
        "train_params = dict(\n",
        "    accumulate_grad_batches=args.gradient_accumulation_steps,\n",
        "    gpus=args.n_gpu,\n",
        "    max_epochs=args.num_train_epochs,\n",
        "    # early_stop_callback=False,\n",
        "    precision= 16 if args.fp_16 else 32,\n",
        "    amp_level=args.opt_level,\n",
        "    gradient_clip_val=args.max_grad_norm,\n",
        "    checkpoint_callback=checkpoint_callback,\n",
        "    callbacks=[LoggingCallback()],\n",
        ")"
      ],
      "execution_count": null,
      "outputs": []
    },
    {
      "cell_type": "code",
      "metadata": {
        "id": "djNCn5eUDgJA"
      },
      "source": [
        "# model = MT5FineTuner(train_df, test_df, args)"
      ],
      "execution_count": null,
      "outputs": []
    },
    {
      "cell_type": "code",
      "metadata": {
        "id": "xyleJGOzDgL7"
      },
      "source": [
        "# trainer = pl.Trainer(**train_params)"
      ],
      "execution_count": null,
      "outputs": []
    },
    {
      "cell_type": "code",
      "metadata": {
        "id": "xD3Q0qpuVAd2"
      },
      "source": [
        "# trainer.fit(model)"
      ],
      "execution_count": null,
      "outputs": []
    },
    {
      "cell_type": "markdown",
      "metadata": {
        "id": "5_rgu6DODMaW"
      },
      "source": [
        "# **NER + Sentiment Analyisis**"
      ]
    },
    {
      "cell_type": "code",
      "metadata": {
        "id": "zHAEnp3Uqgpc"
      },
      "source": [
        "from transformers import AutoTokenizer, AutoModelForTokenClassification\n",
        "from transformers import pipeline\n",
        "\n",
        "tokenizer = AutoTokenizer.from_pretrained(\"dslim/bert-base-NER\")\n",
        "model = AutoModelForTokenClassification.from_pretrained(\"dslim/bert-base-NER\")\n",
        "\n",
        "nlp = pipeline(\"ner\", model=model, tokenizer=tokenizer)"
      ],
      "execution_count": null,
      "outputs": []
    },
    {
      "cell_type": "code",
      "metadata": {
        "id": "m_xgqhB5-u1m"
      },
      "source": [
        "sequence = \"\"\" Four new Nokia 5G smartphones will be reportedly announced this year.\n",
        "\n",
        "Advertisement\n",
        "\n",
        "HMD Global is planning to launch affordable 5G Nokia smartphones in India. Company's Vice President Sanmeet Kochhar has revealed the brand’s plan for 2021 in an interview. He acknowledged the Indian market as “important” and that it will be catered by “customized” Nokia devices.\n",
        "\n",
        "\n",
        "\n",
        "In an interview to Financial Express, Sanmeet Kocchar said, “We are looking at India as an important market and the first thing that we are going to do is look at products which are customized for the Indian market. Second is 5G, which is an important space that we have decided to play in, and we are looking at how we can launch more affordable 5G devices this year.”\n",
        "\n",
        "\n",
        "\n",
        "Further, he said “Our overall focus will be on communicating our differentiation from competitors. Our differentiation lies in terms of having a better, future-proof software. When you are buying a Nokia phone, you are getting software which is going to last for much longer and then you will not be forced to change your device (as frequently).”\n",
        "\n",
        "\n",
        "\n",
        "\n",
        "\n",
        "For India becoming an export hub, the VP said “India as a source for our exports is something that we are evaluating very closely. It is difficult to give a timeframe, but as I said, India is an important market for us, and we will continue to evaluate India, not only for our domestic consumption, but also from an export point of view.”\n",
        "\n",
        "Earlier in an interview to The Mobile Indian as well, Sanmeet Kocchar said that in 2021, the company will launch unique products which will be focussed for the India market and targeted at Indian fans. You can see the video below:\n",
        "\n",
        "Advertisement\n",
        "\n",
        "As per an earlier report, four new Nokia 5G smartphones will be announced this year. However, all these smartphones will not be launched altogether but two of them may be launched in the first half of 2021 while the two smartphones will be launched in the second half of 2021.\n",
        "\n",
        "\n",
        "\n",
        "Meanwhile, Nokia 1.4 along with 6.3, 7.3 were recently reported to launch in Q1 or Q2 of 2021. Nokia 1.4 price of the Nokia 1.4 also leaked online. The Nokia 1.4 price in the UK is said to be £83 (around Rs 8,400/$114). To recall, its predecessor, the Nokia 1.3 launched at $99 in the US.\n",
        "\n",
        "\n",
        "\n",
        "The phone will come with 1GB RAM and 16GB storage variant. The phone will also be made available in a Blue colour variant. Nokia 1.4 is expected to come in Blue and Grey colour options.\n",
        "\n",
        "\n",
        "\n",
        " \"\"\""
      ],
      "execution_count": null,
      "outputs": []
    },
    {
      "cell_type": "code",
      "metadata": {
        "id": "-BZT3mBdE9ea"
      },
      "source": [
        "# function to preprocess speech\n",
        "def clean(text):\n",
        "    \n",
        "    # removing paragraph numbers\n",
        "    text = re.sub('[0-9]+,\\t\\'\"\";:<>~`!@#$%^&*()_-+={}','',str(text))\n",
        "    # removing new line characters\n",
        "    text = re.sub('\\n ','',str(text))\n",
        "    text = re.sub('\\n',' ',str(text))\n",
        "    # removing apostrophes\n",
        "    text = re.sub(\"'s\",'',str(text))\n",
        "    # removing hyphens\n",
        "    text = re.sub(\"-\",' ',str(text))\n",
        "    text = re.sub(\"— \",'',str(text))\n",
        "    # removing quotation marks\n",
        "    text = re.sub('\\\"','',str(text))\n",
        "    # removing salutations\n",
        "    text = re.sub(\"Mr\\.\",'Mr',str(text))\n",
        "    text = re.sub(\"Mrs\\.\",'Mrs',str(text))\n",
        "    # removing any reference to outside text\n",
        "    text = re.sub(\"[\\(\\[].*?[\\)\\]]\", \"\", str(text))\n",
        "    \n",
        "    return text\n",
        "\n",
        "# preprocessing speeches\n",
        "sequence = clean(sequence)"
      ],
      "execution_count": null,
      "outputs": []
    },
    {
      "cell_type": "code",
      "metadata": {
        "id": "dRIMAYpvq4FU"
      },
      "source": [
        "entities = nlp(sequence)\n",
        "store_en = ''\n",
        "for dictt in entities:\n",
        "  if dictt['entity'] == 'B-ORG' or dictt['entity'] == 'I-ORG':\n",
        "    if dictt['word'][0] == '#':\n",
        "      store_en += dictt['word'][2:]\n",
        "    elif dictt['entity'] == 'B-ORG':\n",
        "      store_en += ' ' + dictt['word'] \n",
        "    print(dictt) \n",
        "\n",
        "store_en = store_en.split()\n",
        "store_en = list(dict.fromkeys(store_en))\n",
        "if 'the' in store_en:\n",
        "  store_en.remove('the')\n",
        "if 'The' in store_en:\n",
        "  store_en.remove('The')\n",
        "store_en"
      ],
      "execution_count": null,
      "outputs": []
    },
    {
      "cell_type": "code",
      "metadata": {
        "id": "ame_AR17M4Yc"
      },
      "source": [
        "#inn = 0\n",
        "#while inn < (len(store_en)):\n",
        "#  if inn == 0:\n",
        "#    inn += 1\n",
        "#    continue\n",
        "#  if abs(re.split(\"\\s|(?<!\\d)[,.](?!\\d)\", sequence).index(store_en[inn].split()[-1]) - re.split(\"\\s|(?<!\\d)[,.](?!\\d)\", sequence).index(store_en[inn-1].split()[-1])) == 1:\n",
        "#    store_en[inn-1] += ' ' + store_en[inn]\n",
        "#    store_en.remove(store_en[inn])\n",
        "#  else:\n",
        "#    inn += 1\n",
        "#store_en"
      ],
      "execution_count": null,
      "outputs": []
    },
    {
      "cell_type": "code",
      "metadata": {
        "id": "7O70z7lGDTVS"
      },
      "source": [
        "def sentences(text):\n",
        "    # split sentences and questions\n",
        "    text = re.split('[.?]', text)\n",
        "    clean_sent = []\n",
        "    for i, sent in enumerate(text):\n",
        "        try:\n",
        "          if i!= 0 and (isinstance(int(clean_sent[-1][-1]), int) and isinstance(int(sent[0]), int)):\n",
        "            clean_sent[-1] = clean_sent[-1] + sent\n",
        "          else:\n",
        "            clean_sent.append(sent)\n",
        "        except:\n",
        "          clean_sent.append(sent)\n",
        "    return clean_sent\n",
        "\n",
        "ind_sent = sentences(clean_text)"
      ],
      "execution_count": null,
      "outputs": []
    },
    {
      "cell_type": "code",
      "metadata": {
        "id": "_ETdNB40Eek_"
      },
      "source": [
        "ind_sent"
      ],
      "execution_count": null,
      "outputs": []
    },
    {
      "cell_type": "code",
      "metadata": {
        "id": "rOXbB_djKHyT"
      },
      "source": [
        "longest_string_len = len(max(ind_sent, key=len))\n",
        "longest_string_len"
      ],
      "execution_count": null,
      "outputs": []
    },
    {
      "cell_type": "code",
      "metadata": {
        "id": "Oa_3j8ISElcV"
      },
      "source": [
        "ent_dict = dict()\n",
        "for ent in store_en:\n",
        "  ent_dict[ent] = 0"
      ],
      "execution_count": null,
      "outputs": []
    },
    {
      "cell_type": "code",
      "metadata": {
        "id": "uPunCqklFZbZ"
      },
      "source": [
        "ent_dict"
      ],
      "execution_count": null,
      "outputs": []
    },
    {
      "cell_type": "code",
      "metadata": {
        "id": "5EEsKM3YIuZ8"
      },
      "source": [
        "from transformers import XLMRobertaForSequenceClassification\n",
        "\n",
        "output_dir = '/content/drive/MyDrive/Inter-IIT/Checkpoints/XLM-R-sentiment/'"
      ],
      "execution_count": null,
      "outputs": []
    },
    {
      "cell_type": "code",
      "metadata": {
        "id": "zJifjWGcJoMD"
      },
      "source": [
        "from transformers import XLMRobertaTokenizer\n",
        "import torch\n",
        "# Load the BERT tokenizer.\n",
        "print('Loading XLMRobertaTokenizer...')\n",
        "tokenizer = XLMRobertaTokenizer.from_pretrained(output_dir)\n",
        "model_loaded = XLMRobertaForSequenceClassification.from_pretrained(output_dir, output_attentions=True)\n",
        "device = torch.device(\"cuda\" if torch.cuda.is_available() else \"cpu\")\n",
        "model_loaded = model_loaded.to(device)"
      ],
      "execution_count": null,
      "outputs": []
    },
    {
      "cell_type": "code",
      "metadata": {
        "id": "PWneQ4arLMxe"
      },
      "source": [
        "def intersection(lst1, lst2): \n",
        "    # Use of hybrid method \n",
        "    temp = set(lst2) \n",
        "    lst3 = [value for value in lst1 if value in temp] \n",
        "    return lst3 "
      ],
      "execution_count": null,
      "outputs": []
    },
    {
      "cell_type": "code",
      "metadata": {
        "id": "PYeesmqiJ2vt"
      },
      "source": [
        "for sent in ind_sent:\n",
        "  matched_ent = intersection(sent.split(), store_en)\n",
        "  print(matched_ent)\n",
        "  for orgg in matched_ent:\n",
        "    encoded_dict = tokenizer.encode_plus(\n",
        "                        sent,                      # Sentence to encode.\n",
        "                        add_special_tokens = True, # Add '[CLS]' and '[SEP]'\n",
        "                        max_length = longest_string_len,           # Pad & truncate all sentences.\n",
        "                        pad_to_max_length = True,\n",
        "                        return_attention_mask = True,   # Construct attn. masks.\n",
        "                        return_tensors = 'pt',     # Return pytorch tensors.\n",
        "                   )\n",
        "    # Add the encoded sentence to the list.    \n",
        "    input_id = encoded_dict['input_ids']\n",
        "    # And its attention mask (simply differentiates padding from non-padding).\n",
        "    attention_mask = encoded_dict['attention_mask']\n",
        "    input_id = torch.LongTensor(input_id)\n",
        "    attention_mask = torch.LongTensor(attention_mask)\n",
        "    input_id = input_id.to(device)\n",
        "    attention_mask = attention_mask.to(device)\n",
        "\n",
        "    with torch.no_grad():\n",
        "        # Forward pass, calculate logit predictions\n",
        "        attentions = model_loaded(input_id, token_type_ids=None, attention_mask=attention_mask)[-1][11]\n",
        "    # print(outputs[0])\n",
        "    "
      ],
      "execution_count": null,
      "outputs": []
    },
    {
      "cell_type": "markdown",
      "metadata": {
        "id": "V3zSQcwqkQe7"
      },
      "source": [
        "# **Trash - Dont mind us**"
      ]
    },
    {
      "cell_type": "code",
      "metadata": {
        "id": "XOwd3oZ7kPye"
      },
      "source": [
        "from transformers import AutoModelForTokenClassification, AutoTokenizer\n",
        "import torch\n",
        "\n",
        "model = AutoModelForTokenClassification.from_pretrained(\"dbmdz/bert-large-cased-finetuned-conll03-english\")\n",
        "tokenizer = AutoTokenizer.from_pretrained(\"bert-base-cased\")"
      ],
      "execution_count": null,
      "outputs": []
    },
    {
      "cell_type": "code",
      "metadata": {
        "id": "4iEZSIu0kP0m"
      },
      "source": [
        "label_list = [\n",
        "    \"O\",       # Outside of a named entity\n",
        "    \"B-MISC\",  # Beginning of a miscellaneous entity right after another miscellaneous entity\n",
        "    \"I-MISC\",  # Miscellaneous entity\n",
        "    \"B-PER\",   # Beginning of a person's name right after another person's name\n",
        "    \"I-PER\",   # Person's name\n",
        "    \"B-ORG\",   # Beginning of an organisation right after another organisation\n",
        "    \"I-ORG\",   # Organisation\n",
        "    \"B-LOC\",   # Beginning of a location right after another location\n",
        "    \"I-LOC\"    # Location\n",
        "]\n",
        "\n",
        "sequence = df_art.iloc[3002].Text\n",
        "df_temp = df_art[df_art['Mobile_Tech_Flag'] == 1]\n",
        "\n",
        "print(df_temp)"
      ],
      "execution_count": null,
      "outputs": []
    },
    {
      "cell_type": "code",
      "metadata": {
        "id": "F4qfvKf3pofH"
      },
      "source": [
        "# Bit of a hack to get the tokens with the special tokens\n",
        "tokens = tokenizer.tokenize(tokenizer.decode(tokenizer.encode(sequence)))\n",
        "inputs = tokenizer.encode(sequence, return_tensors=\"pt\")\n",
        "print(inputs.shape)\n",
        "\n",
        "outputs = model(inputs[:,:512])[0]\n",
        "predictions = torch.argmax(outputs, dim=2)\n",
        "\n",
        "print([(token, label_list[prediction]) for token, prediction in zip(tokens, predictions[0].tolist()) if label_list[prediction] == \"I-ORG\"])"
      ],
      "execution_count": null,
      "outputs": []
    },
    {
      "cell_type": "code",
      "metadata": {
        "id": "HVdN2VbfwNp8"
      },
      "source": [
        "import nltk\n",
        "from nltk.tokenize import word_tokenize\n",
        "from nltk.corpus import stopwords\n",
        "from nltk import wordpunct_tokenize\n",
        "import pickle\n",
        "import codecs"
      ],
      "execution_count": null,
      "outputs": []
    },
    {
      "cell_type": "code",
      "metadata": {
        "id": "G69N07yiram_"
      },
      "source": [
        "def translateHinglishTweets(tweets_text):\n",
        "\tcounter = 0\n",
        "\ttweets_text_translated = []\n",
        "\tn = len(tweets_text)\n",
        "\n",
        "\topen_file = open(\"dictionary.pickle\", \"rb\")\n",
        "\tdictionary = pickle.load(open_file)\n",
        "\topen_file.close()\n",
        "\n",
        "\tenglish_stopwords_set = set(stopwords.words('english'))\n",
        "\n",
        "\tfor i in range(n):\n",
        "\t\ttext = tweets_text[i]\n",
        "\t\ttranslated_text = \"\"\n",
        "\t\ttokens = wordpunct_tokenize(text)\n",
        "\t\twords = [word.lower() for word in tokens]\n",
        "\t\tfor word in words:\n",
        "\t\t\tif word in english_stopwords_set:\n",
        "\t\t\t\ttranslated_text = translated_text + \" \" + word\n",
        "\t\t\telif (word in dictionary):\n",
        "\t\t\t\t#print word + \"-\" + dictionary[word]\n",
        "\t\t\t\ttranslated_text = translated_text + \" \" + dictionary[word]\n",
        "\t\t\t\tcounter = counter + 1\n",
        "\t\t\telse:\n",
        "\t\t\t\ttranslated_text = translated_text + \" \" + word\n",
        "\t\ttweets_text_translated.append(translated_text)\n",
        "\n",
        "\t#print counter\n",
        "\treturn tweets_text_translated"
      ],
      "execution_count": null,
      "outputs": []
    },
    {
      "cell_type": "code",
      "metadata": {
        "id": "aWamLk0JwTfH"
      },
      "source": [
        "text = df_tweet.iloc[3998].Tweet"
      ],
      "execution_count": null,
      "outputs": []
    },
    {
      "cell_type": "code",
      "metadata": {
        "id": "6eHFjOkCwYR8"
      },
      "source": [
        "lis = translateHinglishTweets([text])"
      ],
      "execution_count": null,
      "outputs": []
    },
    {
      "cell_type": "code",
      "metadata": {
        "id": "bySQ-Dj_wnkl"
      },
      "source": [
        ""
      ],
      "execution_count": null,
      "outputs": []
    }
  ]
}